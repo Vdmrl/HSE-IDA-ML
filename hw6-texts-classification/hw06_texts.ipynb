{
 "cells": [
  {
   "cell_type": "markdown",
   "metadata": {
    "id": "Ffq6A2-ifzAA"
   },
   "source": [
    "# Интеллектуальный анализ данных – весна 2024\n",
    "# Домашнее задание 6: классификация текстов"
   ]
  },
  {
   "cell_type": "markdown",
   "source": [
    "Правила:\n",
    "\n",
    "\n",
    "\n",
    "*   Домашнее задание оценивается в 10 баллов.\n",
    "*   Можно использовать без доказательства любые результаты, встречавшиеся на лекциях или семинарах по курсу, если получение этих результатов не является вопросом задания.\n",
    "*  Можно использовать любые свободные источники с *обязательным* указанием ссылки на них.\n",
    "*  Плагиат не допускается. При обнаружении случаев списывания, 0 за работу выставляется всем участникам нарушения, даже если можно установить, кто у кого списал.\n",
    "*  Старайтесь сделать код как можно более оптимальным. В частности, будет штрафоваться использование циклов в тех случаях, когда операцию можно совершить при помощи инструментов библиотек, о которых рассказывалось в курсе."
   ],
   "metadata": {
    "id": "EPcxtekTA1Sm"
   }
  },
  {
   "cell_type": "markdown",
   "metadata": {
    "id": "itRtFtrOf0_b"
   },
   "source": [
    "В этом домашнем задании вам предстоит построить классификатор текстов.\n",
    "\n",
    "Будем предсказывать эмоциональную окраску твиттов о коронавирусе.\n",
    "\n"
   ]
  },
  {
   "cell_type": "code",
   "execution_count": 102,
   "metadata": {
    "id": "tNGRVO7_g9mz",
    "ExecuteTime": {
     "end_time": "2024-05-02T19:55:05.593877Z",
     "start_time": "2024-05-02T19:55:05.591013Z"
    }
   },
   "outputs": [],
   "source": [
    "import numpy as np\n",
    "import pandas as pd\n",
    "from typing import List\n",
    "import matplotlib.pyplot as plt\n",
    "import seaborn as sns\n",
    "from string import punctuation\n",
    "import warnings\n",
    "\n",
    "warnings.filterwarnings(\"ignore\")"
   ]
  },
  {
   "cell_type": "code",
   "execution_count": 103,
   "metadata": {
    "id": "zOy8iHJQg_Ss",
    "colab": {
     "base_uri": "https://localhost:8080/",
     "height": 174
    },
    "outputId": "01951c93-1976-4fd2-b432-f9ec217dbd17",
    "ExecuteTime": {
     "end_time": "2024-05-02T19:55:07.221924Z",
     "start_time": "2024-05-02T19:55:05.793875Z"
    }
   },
   "outputs": [
    {
     "data": {
      "text/plain": "       UserName  ScreenName               Location     TweetAt  \\\n29060     39465       84417  Chichester and London  09-04-2020   \n30341     41082       86034                    NaN  10-04-2020   \n26472     36233       81185            Reading, UK  07-04-2020   \n15740     22935       67887      Edmonton, Alberta  24-03-2020   \n\n                                           OriginalTweet           Sentiment  \n29060  Asian markets improve on hopes that the peak o...  Extremely Positive  \n30341  When COVID-19 Deferrals End, Better Collection...            Positive  \n26472  How much will #coronavirus impact consumer beh...  Extremely Positive  \n15740  Unsung heroes Grocery store workers compensate...            Positive  ",
      "text/html": "<div>\n<style scoped>\n    .dataframe tbody tr th:only-of-type {\n        vertical-align: middle;\n    }\n\n    .dataframe tbody tr th {\n        vertical-align: top;\n    }\n\n    .dataframe thead th {\n        text-align: right;\n    }\n</style>\n<table border=\"1\" class=\"dataframe\">\n  <thead>\n    <tr style=\"text-align: right;\">\n      <th></th>\n      <th>UserName</th>\n      <th>ScreenName</th>\n      <th>Location</th>\n      <th>TweetAt</th>\n      <th>OriginalTweet</th>\n      <th>Sentiment</th>\n    </tr>\n  </thead>\n  <tbody>\n    <tr>\n      <th>29060</th>\n      <td>39465</td>\n      <td>84417</td>\n      <td>Chichester and London</td>\n      <td>09-04-2020</td>\n      <td>Asian markets improve on hopes that the peak o...</td>\n      <td>Extremely Positive</td>\n    </tr>\n    <tr>\n      <th>30341</th>\n      <td>41082</td>\n      <td>86034</td>\n      <td>NaN</td>\n      <td>10-04-2020</td>\n      <td>When COVID-19 Deferrals End, Better Collection...</td>\n      <td>Positive</td>\n    </tr>\n    <tr>\n      <th>26472</th>\n      <td>36233</td>\n      <td>81185</td>\n      <td>Reading, UK</td>\n      <td>07-04-2020</td>\n      <td>How much will #coronavirus impact consumer beh...</td>\n      <td>Extremely Positive</td>\n    </tr>\n    <tr>\n      <th>15740</th>\n      <td>22935</td>\n      <td>67887</td>\n      <td>Edmonton, Alberta</td>\n      <td>24-03-2020</td>\n      <td>Unsung heroes Grocery store workers compensate...</td>\n      <td>Positive</td>\n    </tr>\n  </tbody>\n</table>\n</div>"
     },
     "execution_count": 103,
     "metadata": {},
     "output_type": "execute_result"
    }
   ],
   "source": [
    "df = pd.read_csv(\n",
    "    'https://raw.githubusercontent.com/hse-ds/iad-intro-ds/master/2024/homeworks/hw06_texts/tweets_coronavirus.csv',\n",
    "    encoding='latin-1')\n",
    "df.sample(4)"
   ]
  },
  {
   "cell_type": "markdown",
   "metadata": {
    "id": "m2OiDog9ZBlS"
   },
   "source": [
    "Для каждого твитта указано:\n",
    "\n",
    "\n",
    "*   UserName - имя пользователя, заменено на целое число для анонимности\n",
    "*   ScreenName - отображающееся имя пользователя, заменено на целое число для анонимности\n",
    "*   Location - местоположение\n",
    "*   TweetAt - дата создания твитта\n",
    "*   OriginalTweet - текст твитта\n",
    "*   Sentiment - эмоциональная окраска твитта (целевая переменная)\n",
    "\n"
   ]
  },
  {
   "cell_type": "markdown",
   "metadata": {
    "id": "pZTMseDkhTC7"
   },
   "source": [
    "## Задание 1 Подготовка (0.5 балла)"
   ]
  },
  {
   "cell_type": "markdown",
   "metadata": {
    "id": "Xx2-odn9hdAW"
   },
   "source": [
    "Целевая переменная находится в колонке `Sentiment`.  Преобразуйте ее таким образом, чтобы она стала бинарной: 1 - если у твитта положительная эмоциональная окраска и 0 - если отрицательная."
   ]
  },
  {
   "cell_type": "code",
   "execution_count": 104,
   "metadata": {
    "id": "ZaQKQ1zEjP15",
    "ExecuteTime": {
     "end_time": "2024-05-02T19:55:07.243231Z",
     "start_time": "2024-05-02T19:55:07.222924Z"
    }
   },
   "outputs": [
    {
     "data": {
      "text/plain": "       UserName  ScreenName                     Location     TweetAt  \\\n14563     21497       66449                   Manchester  23-03-2020   \n26500     36270       81222                        Kenya  07-04-2020   \n8061      13593       58545          Marble Falls, Texas  20-03-2020   \n28012     38152       83104  Dubai, United Arab Emirates  08-04-2020   \n\n                                           OriginalTweet  Sentiment  \n14563  An excellent description from of the six thres...          1  \n26500  It must have been a difficult decision to make...          0  \n8061   Highland Lakes area food pantries struggle to ...          0  \n28012  SOMA Hand Sanitizer Add-On-Kit. Attach to ATM,...          1  ",
      "text/html": "<div>\n<style scoped>\n    .dataframe tbody tr th:only-of-type {\n        vertical-align: middle;\n    }\n\n    .dataframe tbody tr th {\n        vertical-align: top;\n    }\n\n    .dataframe thead th {\n        text-align: right;\n    }\n</style>\n<table border=\"1\" class=\"dataframe\">\n  <thead>\n    <tr style=\"text-align: right;\">\n      <th></th>\n      <th>UserName</th>\n      <th>ScreenName</th>\n      <th>Location</th>\n      <th>TweetAt</th>\n      <th>OriginalTweet</th>\n      <th>Sentiment</th>\n    </tr>\n  </thead>\n  <tbody>\n    <tr>\n      <th>14563</th>\n      <td>21497</td>\n      <td>66449</td>\n      <td>Manchester</td>\n      <td>23-03-2020</td>\n      <td>An excellent description from of the six thres...</td>\n      <td>1</td>\n    </tr>\n    <tr>\n      <th>26500</th>\n      <td>36270</td>\n      <td>81222</td>\n      <td>Kenya</td>\n      <td>07-04-2020</td>\n      <td>It must have been a difficult decision to make...</td>\n      <td>0</td>\n    </tr>\n    <tr>\n      <th>8061</th>\n      <td>13593</td>\n      <td>58545</td>\n      <td>Marble Falls, Texas</td>\n      <td>20-03-2020</td>\n      <td>Highland Lakes area food pantries struggle to ...</td>\n      <td>0</td>\n    </tr>\n    <tr>\n      <th>28012</th>\n      <td>38152</td>\n      <td>83104</td>\n      <td>Dubai, United Arab Emirates</td>\n      <td>08-04-2020</td>\n      <td>SOMA Hand Sanitizer Add-On-Kit. Attach to ATM,...</td>\n      <td>1</td>\n    </tr>\n  </tbody>\n</table>\n</div>"
     },
     "execution_count": 104,
     "metadata": {},
     "output_type": "execute_result"
    }
   ],
   "source": [
    "df[\"Sentiment\"] = df[\"Sentiment\"].replace(\n",
    "    {\"Positive\": 1, \"Extremely Positive\": 1, \"Negative\": 0, \"Extremely Negative\": 0})\n",
    "df.sample(4)"
   ]
  },
  {
   "cell_type": "markdown",
   "metadata": {
    "id": "pGq1FxJ-kBo5"
   },
   "source": [
    "Сбалансированы ли классы?"
   ]
  },
  {
   "cell_type": "code",
   "execution_count": 105,
   "metadata": {
    "id": "a7gdNtxckK5V",
    "ExecuteTime": {
     "end_time": "2024-05-02T19:55:07.248789Z",
     "start_time": "2024-05-02T19:55:07.244214Z"
    }
   },
   "outputs": [
    {
     "name": "stdout",
     "output_type": "stream",
     "text": [
      "Положительная окраска 18046\n",
      "Отрицательная окраска 15398\n"
     ]
    }
   ],
   "source": [
    "print(f\"Положительная окраска {(df[\"Sentiment\"] == 1).sum(axis=0)}\")\n",
    "print(f\"Отрицательная окраска {(df[\"Sentiment\"] == 0).sum(axis=0)}\")\n",
    "# Не идеально, но сбалансированные. 17 процентов разницы между классами должно быть нормально"
   ]
  },
  {
   "cell_type": "markdown",
   "metadata": {
    "id": "Ng8BCelMkWb0"
   },
   "source": [
    "**Ответ:** # -- YOUR ANSWER HERE --"
   ]
  },
  {
   "cell_type": "markdown",
   "metadata": {
    "id": "qmSIBSsLk5Zz"
   },
   "source": [
    "Выведете на экран информацию о пропусках в данных. Если пропуски присутствуют заполните их строкой 'Unknown'."
   ]
  },
  {
   "cell_type": "code",
   "execution_count": 106,
   "metadata": {
    "id": "UhUVRkR5kxa7",
    "ExecuteTime": {
     "end_time": "2024-05-02T19:55:07.271875Z",
     "start_time": "2024-05-02T19:55:07.249788Z"
    }
   },
   "outputs": [
    {
     "data": {
      "text/plain": "UserName            0\nScreenName          0\nLocation         7049\nTweetAt             0\nOriginalTweet       0\nSentiment           0\ndtype: int64"
     },
     "metadata": {},
     "output_type": "display_data"
    },
    {
     "data": {
      "text/plain": "UserName         0\nScreenName       0\nLocation         0\nTweetAt          0\nOriginalTweet    0\nSentiment        0\ndtype: int64"
     },
     "metadata": {},
     "output_type": "display_data"
    }
   ],
   "source": [
    "display(df.isnull().sum())\n",
    "# Есть пропуски в столбце местоположения (Location)\n",
    "df = df.fillna(\"Unknown\")\n",
    "display(df.isnull().sum())"
   ]
  },
  {
   "cell_type": "markdown",
   "metadata": {
    "id": "1tzt27tfjUpq"
   },
   "source": [
    "Разделите данные на обучающие и тестовые в соотношении 7 : 3 и `random_state=0`"
   ]
  },
  {
   "cell_type": "code",
   "execution_count": 107,
   "metadata": {
    "id": "xSLOA9tIj9Z6",
    "ExecuteTime": {
     "end_time": "2024-05-02T19:55:07.303198Z",
     "start_time": "2024-05-02T19:55:07.272874Z"
    }
   },
   "outputs": [
    {
     "data": {
      "text/plain": "       UserName  ScreenName                 Location     TweetAt  \\\n17297     24846       69798                   Boston  25-03-2020   \n2521       6854       51806        Pakistan, Karachi  18-03-2020   \n33097     44510       89462  vagabond ??(???????) 3?  13-04-2020   \n24139     33306       78258                  Unknown  05-04-2020   \n\n                                           OriginalTweet  \n17297  Thank you to our first responders healthcare w...  \n2521   #COVID2019 Will kill more people economically ...  \n33097  #????\\r\\r\\nFor grocery store workers, ÃÂa pa...  \n24139  #CoronavirusPandemic #coronavirus \\r\\r\\nWhen a...  ",
      "text/html": "<div>\n<style scoped>\n    .dataframe tbody tr th:only-of-type {\n        vertical-align: middle;\n    }\n\n    .dataframe tbody tr th {\n        vertical-align: top;\n    }\n\n    .dataframe thead th {\n        text-align: right;\n    }\n</style>\n<table border=\"1\" class=\"dataframe\">\n  <thead>\n    <tr style=\"text-align: right;\">\n      <th></th>\n      <th>UserName</th>\n      <th>ScreenName</th>\n      <th>Location</th>\n      <th>TweetAt</th>\n      <th>OriginalTweet</th>\n    </tr>\n  </thead>\n  <tbody>\n    <tr>\n      <th>17297</th>\n      <td>24846</td>\n      <td>69798</td>\n      <td>Boston</td>\n      <td>25-03-2020</td>\n      <td>Thank you to our first responders healthcare w...</td>\n    </tr>\n    <tr>\n      <th>2521</th>\n      <td>6854</td>\n      <td>51806</td>\n      <td>Pakistan, Karachi</td>\n      <td>18-03-2020</td>\n      <td>#COVID2019 Will kill more people economically ...</td>\n    </tr>\n    <tr>\n      <th>33097</th>\n      <td>44510</td>\n      <td>89462</td>\n      <td>vagabond ??(???????) 3?</td>\n      <td>13-04-2020</td>\n      <td>#????\\r\\r\\nFor grocery store workers, ÃÂa pa...</td>\n    </tr>\n    <tr>\n      <th>24139</th>\n      <td>33306</td>\n      <td>78258</td>\n      <td>Unknown</td>\n      <td>05-04-2020</td>\n      <td>#CoronavirusPandemic #coronavirus \\r\\r\\nWhen a...</td>\n    </tr>\n  </tbody>\n</table>\n</div>"
     },
     "metadata": {},
     "output_type": "display_data"
    },
    {
     "data": {
      "text/plain": "       UserName  ScreenName            Location     TweetAt  \\\n13170     19777       64729       United States  22-03-2020   \n28167     38342       83294       United States  08-04-2020   \n20615     28957       73909  Sheffield, England  30-03-2020   \n2832       7222       52174       North America  18-03-2020   \n\n                                           OriginalTweet  \n13170  @NYGovCuomo @NYGovCuomo Need your support to p...  \n28167  Uneven February Revenues Must Carry Sportsbook...  \n20615  Petition started to ask supermarkets to set up...  \n2832   interview w shows you amp Kildee understand im...  ",
      "text/html": "<div>\n<style scoped>\n    .dataframe tbody tr th:only-of-type {\n        vertical-align: middle;\n    }\n\n    .dataframe tbody tr th {\n        vertical-align: top;\n    }\n\n    .dataframe thead th {\n        text-align: right;\n    }\n</style>\n<table border=\"1\" class=\"dataframe\">\n  <thead>\n    <tr style=\"text-align: right;\">\n      <th></th>\n      <th>UserName</th>\n      <th>ScreenName</th>\n      <th>Location</th>\n      <th>TweetAt</th>\n      <th>OriginalTweet</th>\n    </tr>\n  </thead>\n  <tbody>\n    <tr>\n      <th>13170</th>\n      <td>19777</td>\n      <td>64729</td>\n      <td>United States</td>\n      <td>22-03-2020</td>\n      <td>@NYGovCuomo @NYGovCuomo Need your support to p...</td>\n    </tr>\n    <tr>\n      <th>28167</th>\n      <td>38342</td>\n      <td>83294</td>\n      <td>United States</td>\n      <td>08-04-2020</td>\n      <td>Uneven February Revenues Must Carry Sportsbook...</td>\n    </tr>\n    <tr>\n      <th>20615</th>\n      <td>28957</td>\n      <td>73909</td>\n      <td>Sheffield, England</td>\n      <td>30-03-2020</td>\n      <td>Petition started to ask supermarkets to set up...</td>\n    </tr>\n    <tr>\n      <th>2832</th>\n      <td>7222</td>\n      <td>52174</td>\n      <td>North America</td>\n      <td>18-03-2020</td>\n      <td>interview w shows you amp Kildee understand im...</td>\n    </tr>\n  </tbody>\n</table>\n</div>"
     },
     "metadata": {},
     "output_type": "display_data"
    },
    {
     "data": {
      "text/plain": "27840    0\n33349    0\n4735     0\n3326     1\nName: Sentiment, dtype: int64"
     },
     "metadata": {},
     "output_type": "display_data"
    },
    {
     "name": "stdout",
     "output_type": "stream",
     "text": [
      "Положительная окраска 12564\n",
      "Отрицательная окраска 10846\n"
     ]
    },
    {
     "data": {
      "text/plain": "24052    0\n12008    0\n1341     1\n17901    1\nName: Sentiment, dtype: int64"
     },
     "metadata": {},
     "output_type": "display_data"
    },
    {
     "name": "stdout",
     "output_type": "stream",
     "text": [
      "Положительная окраска 5482\n",
      "Отрицательная окраска 4552\n"
     ]
    }
   ],
   "source": [
    "from sklearn.model_selection import train_test_split\n",
    "\n",
    "X_train, X_test, y_train, y_test = train_test_split(df.drop([\"Sentiment\"], axis=1), df[\"Sentiment\"], test_size=0.3,\n",
    "                                                    random_state=0)\n",
    "#stratify=df[\"Sentiment\"] убрал стратифай, так как про него не сказано. Но стоило бы его добавить\n",
    "display(X_train.sample(4))\n",
    "display(X_test.sample(4))\n",
    "display(y_train.sample(4))\n",
    "print(f\"Положительная окраска {(y_train == 1).sum(axis=0)}\")  # убедиться, что стратифай оставляет баланс классов\n",
    "print(f\"Отрицательная окраска {(y_train == 0).sum(axis=0)}\")\n",
    "display(y_test.sample(4))\n",
    "print(f\"Положительная окраска {(y_test == 1).sum(axis=0)}\")\n",
    "print(f\"Отрицательная окраска {(y_test == 0).sum(axis=0)}\")"
   ]
  },
  {
   "cell_type": "markdown",
   "metadata": {
    "id": "J9RrPUsJlL60"
   },
   "source": [
    "## Задание 2 Токенизация (3 балла)"
   ]
  },
  {
   "cell_type": "markdown",
   "metadata": {
    "id": "2Dz_b7Xopc_R"
   },
   "source": [
    "Постройте словарь на основе обучающей выборки и посчитайте количество встреч каждого токена с использованием самой простой токенизации - деления текстов по пробельным символам и приведение токенов в нижний регистр"
   ]
  },
  {
   "cell_type": "markdown",
   "source": [],
   "metadata": {
    "collapsed": false
   }
  },
  {
   "cell_type": "code",
   "execution_count": 108,
   "metadata": {
    "id": "SFr67WOJphny",
    "ExecuteTime": {
     "end_time": "2024-05-02T19:55:07.582049Z",
     "start_time": "2024-05-02T19:55:07.304199Z"
    }
   },
   "outputs": [
    {
     "data": {
      "text/plain": "Counter({'the': 26815,\n         'to': 23373,\n         'and': 14684,\n         'of': 13012,\n         'a': 11737,\n         'in': 11198,\n         'for': 8566,\n         '#coronavirus': 8223,\n         'is': 7383,\n         'are': 7050,\n         'you': 5467,\n         'on': 5452,\n         'i': 5340,\n         'at': 4642,\n         'this': 4581,\n         'with': 4063,\n         'prices': 3891,\n         'food': 3820,\n         'we': 3787,\n         'have': 3770,\n         'that': 3741,\n         'as': 3694,\n         'be': 3570,\n         'grocery': 3469,\n         'supermarket': 3288,\n         'people': 3175,\n         'covid-19': 3173,\n         'store': 3155,\n         'it': 3150,\n         'from': 3045,\n         'all': 2808,\n         'your': 2784,\n         'will': 2726,\n         'not': 2714,\n         '#covid19': 2471,\n         'our': 2460,\n         'my': 2445,\n         '&amp;': 2314,\n         'they': 2309,\n         'has': 2304,\n         'consumer': 2245,\n         'by': 2236,\n         'or': 2234,\n         'can': 2202,\n         'but': 2159,\n         'if': 2142,\n         '19': 2111,\n         'out': 2026,\n         'more': 2008,\n         'up': 1987,\n         'their': 1972,\n         'during': 1908,\n         'no': 1898,\n         'how': 1850,\n         'so': 1837,\n         'covid': 1769,\n         'get': 1759,\n         'about': 1726,\n         'who': 1670,\n         '#covid_19': 1660,\n         'online': 1648,\n         'shopping': 1621,\n         'like': 1550,\n         'need': 1549,\n         'what': 1541,\n         'just': 1540,\n         'panic': 1495,\n         '-': 1429,\n         'an': 1417,\n         'was': 1384,\n         'hand': 1382,\n         'do': 1353,\n         'now': 1349,\n         'demand': 1345,\n         'when': 1343,\n         '?': 1320,\n         'some': 1320,\n         'help': 1282,\n         'us': 1247,\n         'go': 1245,\n         'workers': 1242,\n         'there': 1219,\n         'going': 1141,\n         'time': 1136,\n         's': 1108,\n         'been': 1081,\n         'one': 1074,\n         'sanitizer': 1064,\n         'stock': 1063,\n         'please': 1061,\n         'due': 1059,\n         'pandemic': 1026,\n         'coronavirus': 970,\n         'home': 959,\n         'these': 922,\n         'me': 920,\n         '#covid2019': 915,\n         'buying': 911,\n         'because': 902,\n         'oil': 900,\n         'stay': 895,\n         'than': 891,\n         'other': 890,\n         'after': 886,\n         'new': 885,\n         'should': 875,\n         'amp': 859,\n         'keep': 857,\n         'only': 851,\n         'being': 827,\n         'toilet': 824,\n         'local': 821,\n         'many': 819,\n         'work': 819,\n         'make': 811,\n         'them': 799,\n         'those': 789,\n         'over': 786,\n         'still': 763,\n         'see': 756,\n         'buy': 748,\n         'stop': 730,\n         'would': 730,\n         'crisis': 713,\n         'shelves': 709,\n         'take': 701,\n         '#toiletpaper': 691,\n         'via': 687,\n         'delivery': 686,\n         'even': 682,\n         'its': 674,\n         'here': 669,\n         'into': 666,\n         'supply': 662,\n         'had': 660,\n         'why': 654,\n         't': 648,\n         'stores': 648,\n         'know': 641,\n         'could': 640,\n         'while': 638,\n         'also': 635,\n         'any': 624,\n         'social': 615,\n         'retail': 610,\n         'down': 609,\n         'thank': 604,\n         'everyone': 600,\n         'working': 594,\n         'paper': 587,\n         'good': 586,\n         '2': 582,\n         'price': 581,\n         'use': 572,\n         \"it's\": 571,\n         'were': 566,\n         'amid': 556,\n         \"don't\": 551,\n         'most': 548,\n         'think': 545,\n         'health': 540,\n         'he': 533,\n         'may': 525,\n         'today': 524,\n         'day': 521,\n         'staff': 521,\n         'spread': 514,\n         'every': 509,\n         'doing': 508,\n         'which': 504,\n         'essential': 496,\n         'want': 487,\n         'safe': 487,\n         'way': 484,\n         'much': 482,\n         '??': 482,\n         'virus': 480,\n         'support': 477,\n         'first': 475,\n         'off': 472,\n         'shop': 471,\n         'government': 468,\n         'free': 467,\n         'covid-19.': 465,\n         'market': 463,\n         'last': 462,\n         'itã\\x82â\\x92s': 459,\n         'where': 456,\n         'right': 455,\n         '.': 454,\n         'customers': 451,\n         'business': 445,\n         'global': 444,\n         'masks': 442,\n         'items': 439,\n         'impact': 438,\n         'world': 437,\n         'then': 435,\n         'before': 433,\n         'find': 431,\n         'back': 430,\n         'products': 427,\n         'through': 427,\n         '#socialdistancing': 427,\n         'am': 424,\n         '#coronacrisis': 423,\n         'read': 420,\n         'very': 418,\n         '#covid?19': 418,\n         'getting': 415,\n         'employees': 415,\n         'donã\\x82â\\x92t': 414,\n         'iã\\x82â\\x92m': 414,\n         'outbreak': 412,\n         'great': 409,\n         'high': 408,\n         'got': 407,\n         'empty': 407,\n         'low': 407,\n         'making': 404,\n         'face': 402,\n         'care': 401,\n         'really': 400,\n         'risk': 397,\n         \"i'm\": 397,\n         'week': 396,\n         'companies': 393,\n         'around': 391,\n         'supplies': 387,\n         'public': 386,\n         'said': 386,\n         'went': 378,\n         'her': 377,\n         'his': 377,\n         'times': 372,\n         'since': 369,\n         'says': 369,\n         '3': 364,\n         'gas': 361,\n         'she': 361,\n         'say': 350,\n         'taking': 349,\n         'store.': 348,\n         'increase': 348,\n         'next': 347,\n         'against': 347,\n         'well': 346,\n         'look': 344,\n         'businesses': 342,\n         'put': 342,\n         'protect': 340,\n         '1': 340,\n         'enough': 337,\n         'order': 337,\n         'things': 336,\n         'prices.': 332,\n         'two': 331,\n         'fight': 330,\n         'mask': 330,\n         'supermarkets': 330,\n         'pay': 329,\n         're': 328,\n         'lockdown': 326,\n         'days': 325,\n         'long': 323,\n         'anyone': 322,\n         'country': 321,\n         'across': 318,\n         'few': 317,\n         'increased': 317,\n         'best': 315,\n         'money': 315,\n         'weeks': 312,\n         'full': 312,\n         'covid-19,': 311,\n         'must': 309,\n         'consumers': 307,\n         'trying': 307,\n         'service': 305,\n         'distancing': 305,\n         'news': 304,\n         'hands': 303,\n         'medical': 303,\n         'never': 303,\n         'check': 302,\n         'without': 301,\n         'others': 300,\n         'come': 300,\n         'big': 296,\n         'economic': 292,\n         'line': 291,\n         'sure': 288,\n         'too': 288,\n         \"can't\": 286,\n         'open': 286,\n         'available': 285,\n         'give': 284,\n         'everything': 280,\n         'workers,': 280,\n         'uk': 280,\n         'shops': 279,\n         '|': 279,\n         'response': 278,\n         'let': 278,\n         'chain': 277,\n         'pandemic.': 277,\n         'needs': 276,\n         'call': 276,\n         'thanks': 275,\n         'vulnerable': 275,\n         'using': 272,\n         'such': 269,\n         'report': 268,\n         'avoid': 268,\n         'better': 267,\n         'emergency': 267,\n         'important': 266,\n         'already': 266,\n         'hope': 265,\n         'march': 265,\n         'services': 263,\n         'family': 263,\n         'hours': 263,\n         'lot': 262,\n         'continue': 261,\n         'made': 261,\n         'small': 260,\n         'each': 260,\n         'seen': 258,\n         'having': 257,\n         'same': 256,\n         'thing': 256,\n         'hard': 256,\n         'share': 254,\n         'don': 251,\n         'state': 250,\n         'close': 250,\n         'able': 249,\n         'per': 246,\n         'another': 246,\n         'elderly': 246,\n         'did': 245,\n         '#coronaviruspandemic': 245,\n         'economy': 244,\n         'life': 244,\n         'banks': 244,\n         'canã\\x82â\\x92t': 243,\n         'goods': 243,\n         'community': 243,\n         'job': 242,\n         'does': 241,\n         'under': 239,\n         'looking': 238,\n         'live': 236,\n         'drop': 235,\n         'own': 234,\n         'industry': 234,\n         'financial': 233,\n         '#pandemic': 232,\n         'front': 231,\n         'house': 231,\n         'positive': 231,\n         '#stayhome': 229,\n         'leave': 229,\n         'trump': 228,\n         '#coronavirus.': 228,\n         '4': 227,\n         'current': 226,\n         'someone': 226,\n         'part': 225,\n         'least': 222,\n         'selling': 222,\n         'learn': 220,\n         '#coronavirusoutbreak': 218,\n         'production': 217,\n         'scams': 217,\n         'told': 216,\n         'gloves': 216,\n         'coming': 216,\n         'real': 216,\n         'cases': 215,\n         'seeing': 214,\n         'healthcare': 214,\n         'safety': 214,\n         'cut': 214,\n         'hit': 214,\n         'u': 214,\n         'helping': 213,\n         'food.': 213,\n         'less': 212,\n         'wash': 212,\n         '10': 212,\n         'left': 211,\n         'markets': 211,\n         '2020': 211,\n         'bank': 211,\n         'shoppers': 211,\n         'self': 210,\n         'feel': 210,\n         'hoarding': 210,\n         'might': 210,\n         'little': 208,\n         '#corona': 208,\n         'retailers': 207,\n         'person': 207,\n         'meet': 207,\n         'keeping': 206,\n         'sales': 206,\n         'key': 206,\n         'latest': 206,\n         'post': 205,\n         'supermarket.': 204,\n         'it.': 204,\n         'something': 203,\n         'together': 203,\n         'closed': 202,\n         'measures': 202,\n         'start': 201,\n         'away': 201,\n         'now.': 201,\n         'place': 200,\n         '#lockdown': 199,\n         'store,': 196,\n         '#supermarket': 196,\n         'information': 196,\n         'end': 196,\n         'access': 195,\n         'water': 194,\n         'tips': 194,\n         '#stayathome': 194,\n         'situation': 194,\n         'join': 193,\n         'daily': 192,\n         '#covid': 192,\n         '#covid-19': 191,\n         'wearing': 190,\n         'groceries': 190,\n         'remember': 190,\n         'until': 190,\n         'else': 189,\n         '#stayhomesavelives': 189,\n         'nothing': 188,\n         '#panicbuying': 188,\n         'drivers': 188,\n         'done': 187,\n         ',': 187,\n         'prices,': 187,\n         'man': 187,\n         'run': 186,\n         '#stophoarding': 186,\n         'food,': 186,\n         'data': 184,\n         'thought': 184,\n         '#quarantine': 184,\n         'sick': 183,\n         'wear': 182,\n         '???': 182,\n         'running': 182,\n         'year': 182,\n         'number': 182,\n         'company': 182,\n         'protection': 182,\n         'police': 181,\n         '#retail': 180,\n         'contact': 180,\n         'ever': 179,\n         '5': 179,\n         'used': 178,\n         'try': 176,\n         'jobs': 176,\n         \"you're\": 176,\n         'affected': 175,\n         'advantage': 174,\n         'change': 174,\n         'bad': 174,\n         'china': 174,\n         'lower': 174,\n         'special': 174,\n         'list': 173,\n         'including': 173,\n         'fall': 173,\n         'ensure': 173,\n         'spending': 171,\n         'likely': 170,\n         'found': 169,\n         'families': 169,\n         'provide': 169,\n         \"we're\": 168,\n         'corona': 168,\n         'related': 167,\n         'putting': 166,\n         'reports': 166,\n         'nhs': 164,\n         'always': 164,\n         'april': 163,\n         'bought': 163,\n         'shortage': 163,\n         'crisis.': 162,\n         'old': 162,\n         'higher': 162,\n         'offering': 162,\n         'fresh': 162,\n         'especially': 161,\n         'soap': 161,\n         'visit': 161,\n         'supermarket,': 161,\n         'relief': 161,\n         'americans': 159,\n         'worker': 159,\n         'tested': 159,\n         'lives': 159,\n         'time.': 158,\n         '#food': 158,\n         \"i've\": 157,\n         'critical': 156,\n         'media': 155,\n         'caused': 155,\n         'quarantine': 154,\n         '20': 154,\n         'yet': 154,\n         'behavior': 154,\n         'saying': 153,\n         'watch': 153,\n         'save': 153,\n         'normal': 153,\n         'video': 152,\n         'between': 152,\n         'prevent': 152,\n         'major': 152,\n         'once': 152,\n         '#covid19uk': 152,\n         'understand': 151,\n         'outside': 151,\n         '@realdonaldtrump': 151,\n         '#coronavirusupdate': 151,\n         'selfish': 151,\n         'amazon': 151,\n         'almost': 151,\n         'remain': 150,\n         'paid': 150,\n         'saw': 150,\n         'youã\\x82â\\x92re': 150,\n         'actually': 149,\n         'drive': 149,\n         'following': 149,\n         'reduce': 149,\n         'farmers': 149,\n         'far': 148,\n         'needed': 148,\n         'lines': 148,\n         'works': 148,\n         'm': 148,\n         'huge': 148,\n         'cannot': 147,\n         'chains': 147,\n         'instead': 147,\n         'yourself': 147,\n         'essentials': 147,\n         'despite': 147,\n         'sell': 147,\n         'rise': 147,\n         'govt': 147,\n         'produce': 147,\n         'set': 146,\n         'struggling': 146,\n         'years': 146,\n         'shortages': 146,\n         'love': 146,\n         '6': 146,\n         'credit': 146,\n         '...': 146,\n         'home.': 145,\n         'top': 145,\n         'morning': 144,\n         'result': 144,\n         'follow': 144,\n         'possible': 143,\n         'lost': 143,\n         'ã\\x82â\\x96': 143,\n         'city': 143,\n         'fear': 143,\n         'ã\\x82â\\x97': 141,\n         'difficult': 140,\n         'given': 140,\n         '#staysafe': 140,\n         'soon': 140,\n         'tell': 139,\n         'pandemic,': 139,\n         'become': 138,\n         'whole': 138,\n         'stocked': 138,\n         'sanitizers': 138,\n         'deal': 138,\n         'facing': 138,\n         'bring': 137,\n         'iã\\x82â\\x92ve': 137,\n         'shut': 136,\n         'alcohol': 136,\n         'roll': 136,\n         'travel': 135,\n         'show': 135,\n         've': 135,\n         'covid-19:': 134,\n         'staying': 134,\n         'months': 134,\n         'here:': 134,\n         'sanitizer,': 134,\n         'ask': 133,\n         '#oil': 133,\n         'changes': 133,\n         'advice': 133,\n         'system': 132,\n         'anything': 132,\n         'again': 132,\n         'friends': 132,\n         'maybe': 132,\n         'die': 132,\n         'restaurants': 131,\n         'announced': 131,\n         '#stoppanicbuying': 130,\n         'today.': 130,\n         'extra': 130,\n         'means': 130,\n         'brands': 130,\n         'million': 130,\n         'customer': 129,\n         'milk': 129,\n         'taken': 129,\n         'weã\\x82â\\x92re': 129,\n         'heroes': 129,\n         'u.s.': 129,\n         'outbreak.': 129,\n         'fucking': 128,\n         'giving': 128,\n         'war': 128,\n         'cause': 128,\n         'testing': 128,\n         'orders': 128,\n         'worried': 127,\n         'woman': 126,\n         'india': 126,\n         '#handsanitizer': 126,\n         'test': 126,\n         'eat': 125,\n         'area': 125,\n         'month': 125,\n         'early': 125,\n         'currently': 124,\n         'kind': 124,\n         'security': 124,\n         'fuel': 124,\n         'limit': 124,\n         'cash': 124,\n         'below': 124,\n         'national': 123,\n         'different': 123,\n         'personal': 123,\n         'case': 123,\n         'etc': 123,\n         'story': 122,\n         'consider': 122,\n         'asked': 122,\n         'doctors': 122,\n         'plenty': 122,\n         'healthy': 122,\n         'gone': 122,\n         'three': 122,\n         'allow': 122,\n         '#shopping': 121,\n         'increasing': 121,\n         'sold': 121,\n         \"that's\": 121,\n         'shit': 121,\n         'further': 121,\n         'surge': 121,\n         'meat': 121,\n         'kids': 121,\n         'recent': 121,\n         'ppl': 120,\n         'distance': 120,\n         'hospital': 120,\n         'spreading': 120,\n         'control': 120,\n         'donate': 120,\n         'clean': 120,\n         'fighting': 120,\n         'asking': 119,\n         'fears': 119,\n         'him': 119,\n         'basic': 119,\n         'both': 118,\n         'drug': 118,\n         'survive': 118,\n         'gonna': 118,\n         'cost': 118,\n         'mean': 118,\n         'died': 117,\n         'point': 117,\n         'you.': 117,\n         'etc.': 117,\n         'car': 116,\n         'themselves': 116,\n         'gouging': 116,\n         'crazy': 116,\n         'based': 116,\n         'providing': 116,\n         'purchase': 116,\n         'waiting': 115,\n         'pharmacy': 115,\n         'goes': 115,\n         'shift': 115,\n         'cleaning': 115,\n         'employee': 114,\n         'makes': 114,\n         'bit': 114,\n         'falling': 114,\n         'countries': 114,\n         'people.': 113,\n         'scammers': 113,\n         'yesterday': 113,\n         \"won't\": 113,\n         '100': 113,\n         '#coronavirus,': 113,\n         'past': 113,\n         '#sanitizer': 113,\n         'out.': 113,\n         'ways': 113,\n         'wait': 113,\n         '#quarantinelife': 112,\n         'send': 112,\n         'article': 112,\n         'shows': 112,\n         'kill': 112,\n         'isolation': 112,\n         'fuck': 112,\n         'them.': 112,\n         '@': 111,\n         'forced': 111,\n         'hour': 111,\n         'offer': 111,\n         'confidence': 110,\n         'crude': 110,\n         'trip': 109,\n         'product': 109,\n         '+': 109,\n         'pick': 109,\n         'believe': 108,\n         'large': 108,\n         'moment': 108,\n         'ready': 107,\n         \"there's\": 107,\n         '#coronavirusuk': 107,\n         'update': 107,\n         'stuff': 106,\n         'sign': 106,\n         'hear': 106,\n         'members': 106,\n         'plan': 106,\n         'website': 106,\n         'states': 106,\n         'afford': 106,\n         'worth': 105,\n         'truck': 105,\n         'near': 105,\n         '@tesco': 105,\n         '/': 105,\n         'poor': 105,\n         'according': 105,\n         'probably': 105,\n         'longer': 104,\n         'president': 104,\n         'raise': 104,\n         'sector': 104,\n         'fast': 104,\n         'energy': 103,\n         'started': 103,\n         'household': 103,\n         'action': 103,\n         'comes': 103,\n         'demand.': 103,\n         '!': 103,\n         'act': 102,\n         'effects': 102,\n         'shopping.': 102,\n         'school': 102,\n         'calling': 102,\n         'info': 102,\n         'deliver': 102,\n         'closing': 102,\n         'sanitizer.': 101,\n         'staff,': 101,\n         'idea': 101,\n         'allowed': 101,\n         'happy': 101,\n         'living': 100,\n         'trade': 100,\n         'group': 100,\n         \"they're\": 100,\n         'starting': 100,\n         'rather': 100,\n         'limited': 100,\n         'federal': 99,\n         \"here's\": 99,\n         'concerns': 99,\n         'came': 99,\n         '7': 99,\n         'changing': 99,\n         'ones': 99,\n         'nice': 99,\n         'looks': 99,\n         'called': 99,\n         'thinking': 98,\n         'amount': 98,\n         'reduced': 98,\n         'friend': 98,\n         'home,': 98,\n         'lots': 98,\n         'clear': 97,\n         'experts': 97,\n         'buyers': 97,\n         'chinese': 97,\n         'team': 97,\n         'seems': 97,\n         'biggest': 97,\n         'now,': 97,\n         'human': 97,\n         \"let's\": 97,\n         'ceo': 97,\n         'nurses': 97,\n         'inflated': 96,\n         'dear': 96,\n         'short': 96,\n         'expect': 96,\n         'gets': 96,\n         'ã\\x82â\\x95': 96,\n         'america': 96,\n         'seriously': 96,\n         'took': 95,\n         'period': 95,\n         '000': 95,\n         'general': 94,\n         \"doesn't\": 94,\n         'forget': 94,\n         'up.': 94,\n         'rolls': 94,\n         'office': 94,\n         'certain': 94,\n         'deliveries': 94,\n         'strong': 93,\n         'american': 93,\n         'washing': 93,\n         'guys': 93,\n         'email': 93,\n         'thatã\\x82â\\x92s': 93,\n         'massive': 93,\n         'folks': 93,\n         'several': 93,\n         'worse': 93,\n         'this.': 92,\n         'russia': 92,\n         '#consumer': 92,\n         'interesting': 92,\n         'nation': 92,\n         'pm': 92,\n         'expected': 92,\n         'continues': 92,\n         'workers.': 92,\n         'finally': 91,\n         'hiking': 91,\n         'paper,': 91,\n         '????': 91,\n         'serious': 91,\n         '8': 91,\n         'restrictions': 91,\n         'amazing': 91,\n         'queue': 91,\n         'anxiety': 90,\n         'among': 90,\n         'link': 90,\n         'n': 90,\n         'regarding': 90,\n         'bottle': 90,\n         'god': 90,\n         'wake': 90,\n         'message': 90,\n         'unprecedented': 89,\n         'hey': 89,\n         'frontline': 89,\n         'pretty': 89,\n         'more:': 89,\n         'slots': 89,\n         'shame': 89,\n         'calls': 89,\n         'infected': 89,\n         'reason': 89,\n         'wrong': 89,\n         'collapse': 89,\n         'issues': 89,\n         'rs': 89,\n         'thereã\\x82â\\x92s': 89,\n         'restaurant': 88,\n         \"isn't\": 88,\n         'behind': 88,\n         'bread': 88,\n         'nurse': 88,\n         'potential': 88,\n         'worst': 88,\n         'it,': 87,\n         'masks,': 87,\n         'walk': 87,\n         'ago': 87,\n         'couple': 87,\n         'crisis,': 87,\n         'single': 87,\n         'inside': 87,\n         'policy': 87,\n         'south': 87,\n         'talk': 87,\n         '15': 87,\n         'equipment': 86,\n         'drivers,': 86,\n         'death': 86,\n         'opening': 86,\n         \"didn't\": 86,\n         'wipes': 86,\n         'yes': 86,\n         'lack': 85,\n         'online.': 85,\n         'pasta': 85,\n         'showing': 85,\n         'sale': 85,\n         'light': 85,\n         'seniors': 85,\n         'takes': 85,\n         'growing': 84,\n         'donating': 84,\n         'donations': 84,\n         'citizens': 84,\n         '@sainsburys': 84,\n         'quick': 84,\n         'w': 84,\n         'resources': 84,\n         'appreciate': 84,\n         'waste': 84,\n         'efforts': 84,\n         'older': 84,\n         'beginning': 83,\n         '50': 83,\n         \"what's\": 83,\n         'phone': 83,\n         'future': 83,\n         'giant': 83,\n         'places': 82,\n         'bags': 82,\n         'worry': 82,\n         'shopping,': 82,\n         'step': 82,\n         'spend': 82,\n         'half': 82,\n         'hospitals': 81,\n         'theyã\\x82â\\x92re': 81,\n         'absolutely': 81,\n         'move': 81,\n         'wanted': 81,\n         '#grocery': 81,\n         'issue': 81,\n         'dont': 81,\n         'listen': 81,\n         'telling': 81,\n         'walmart': 81,\n         'county': 81,\n         'residents': 81,\n         'supporting': 81,\n         'practice': 80,\n         'necessary': 80,\n         'card': 80,\n         'today,': 80,\n         'create': 80,\n         ':': 80,\n         'saudi': 80,\n         'tomorrow': 80,\n         'feed': 80,\n         'value': 79,\n         'shelves.': 79,\n         '30': 79,\n         '#ecommerce': 79,\n         'common': 79,\n         'changed': 79,\n         'cure': 79,\n         '#coronavirususa': 79,\n         'pack': 79,\n         'thousands': 79,\n         'exposed': 79,\n         'force': 79,\n         'insights': 79,\n         'rising': 79,\n         '12': 78,\n         '@borisjohnson': 78,\n         'society': 78,\n         'head': 78,\n         ...})"
     },
     "metadata": {},
     "output_type": "display_data"
    }
   ],
   "source": [
    "from sklearn.feature_extraction.text import CountVectorizer\n",
    "from collections import Counter\n",
    "\n",
    "# Токены я брал только из столбца самих текстов OriginalTweet, так как остальные столбцы не несут в себе эмоциональной окраски\n",
    "\n",
    "dictionary = Counter(item.lower() for ls in map(lambda x: x.split(), X_train.OriginalTweet) for item in ls)\n",
    "display(dictionary)"
   ]
  },
  {
   "cell_type": "markdown",
   "metadata": {
    "id": "Pe0h2Jqkpnao"
   },
   "source": [
    "Какой размер словаря получился?"
   ]
  },
  {
   "cell_type": "code",
   "execution_count": 109,
   "metadata": {
    "id": "umyENA7EpokD",
    "ExecuteTime": {
     "end_time": "2024-05-02T19:55:07.587268Z",
     "start_time": "2024-05-02T19:55:07.583049Z"
    }
   },
   "outputs": [
    {
     "data": {
      "text/plain": "79755"
     },
     "execution_count": 109,
     "metadata": {},
     "output_type": "execute_result"
    }
   ],
   "source": [
    "len(dictionary)"
   ]
  },
  {
   "cell_type": "markdown",
   "metadata": {
    "id": "0d2G1Z-Qpqkd"
   },
   "source": [
    "Выведите 10 самых популярных токенов с количеством встреч каждого из них. Объясните, почему именно эти токены в топе"
   ]
  },
  {
   "cell_type": "code",
   "execution_count": 110,
   "metadata": {
    "id": "Impi32a_pssg",
    "ExecuteTime": {
     "end_time": "2024-05-02T19:55:07.599476Z",
     "start_time": "2024-05-02T19:55:07.588265Z"
    }
   },
   "outputs": [
    {
     "data": {
      "text/plain": "[('the', 26815),\n ('to', 23373),\n ('and', 14684),\n ('of', 13012),\n ('a', 11737),\n ('in', 11198),\n ('for', 8566),\n ('#coronavirus', 8223),\n ('is', 7383),\n ('are', 7050)]"
     },
     "execution_count": 110,
     "metadata": {},
     "output_type": "execute_result"
    }
   ],
   "source": [
    "dictionary.most_common(10)\n",
    "# самыми популярными оказались токены артиклей и предлогов. То есть стоп-слова, не несущие информации"
   ]
  },
  {
   "cell_type": "markdown",
   "metadata": {
    "id": "ZtuJCD0ApuFd"
   },
   "source": [
    "**Ответ:** самыми популярными оказались токены артиклей и предлогов. То есть стоп-слова, не несущие информации"
   ]
  },
  {
   "cell_type": "markdown",
   "metadata": {
    "id": "T7DTQDkWsVYp"
   },
   "source": [
    "Удалите стоп-слова из словаря и выведите новый топ-10 токенов (и количество встреч) по популярности.  Что можно сказать о нем?"
   ]
  },
  {
   "cell_type": "code",
   "execution_count": 111,
   "metadata": {
    "id": "8csSAdgTsnFx",
    "ExecuteTime": {
     "end_time": "2024-05-02T19:55:07.604974Z",
     "start_time": "2024-05-02T19:55:07.600476Z"
    }
   },
   "outputs": [
    {
     "data": {
      "text/plain": "True"
     },
     "execution_count": 111,
     "metadata": {},
     "output_type": "execute_result"
    }
   ],
   "source": [
    "import nltk\n",
    "from nltk.corpus import stopwords\n",
    "\n",
    "nltk.download(\"stopwords\", quiet=True)"
   ]
  },
  {
   "cell_type": "code",
   "outputs": [
    {
     "data": {
      "text/plain": "Counter({'#coronavirus': 8223,\n         'prices': 3891,\n         'food': 3820,\n         'grocery': 3469,\n         'supermarket': 3288,\n         'people': 3175,\n         'covid-19': 3173,\n         'store': 3155,\n         '#covid19': 2471,\n         '&amp;': 2314,\n         'consumer': 2245,\n         '19': 2111,\n         'covid': 1769,\n         'get': 1759,\n         '#covid_19': 1660,\n         'online': 1648,\n         'shopping': 1621,\n         'like': 1550,\n         'need': 1549,\n         'panic': 1495,\n         '-': 1429,\n         'hand': 1382,\n         'demand': 1345,\n         '?': 1320,\n         'help': 1282,\n         'us': 1247,\n         'go': 1245,\n         'workers': 1242,\n         'going': 1141,\n         'time': 1136,\n         'one': 1074,\n         'sanitizer': 1064,\n         'stock': 1063,\n         'please': 1061,\n         'due': 1059,\n         'pandemic': 1026,\n         'coronavirus': 970,\n         'home': 959,\n         '#covid2019': 915,\n         'buying': 911,\n         'oil': 900,\n         'stay': 895,\n         'new': 885,\n         'amp': 859,\n         'keep': 857,\n         'toilet': 824,\n         'local': 821,\n         'many': 819,\n         'work': 819,\n         'make': 811,\n         'still': 763,\n         'see': 756,\n         'buy': 748,\n         'stop': 730,\n         'would': 730,\n         'crisis': 713,\n         'shelves': 709,\n         'take': 701,\n         '#toiletpaper': 691,\n         'via': 687,\n         'delivery': 686,\n         'even': 682,\n         'supply': 662,\n         'stores': 648,\n         'know': 641,\n         'could': 640,\n         'also': 635,\n         'social': 615,\n         'retail': 610,\n         'thank': 604,\n         'everyone': 600,\n         'working': 594,\n         'paper': 587,\n         'good': 586,\n         '2': 582,\n         'price': 581,\n         'use': 572,\n         'amid': 556,\n         'think': 545,\n         'health': 540,\n         'may': 525,\n         'today': 524,\n         'day': 521,\n         'staff': 521,\n         'spread': 514,\n         'every': 509,\n         'essential': 496,\n         'want': 487,\n         'safe': 487,\n         'way': 484,\n         'much': 482,\n         '??': 482,\n         'virus': 480,\n         'support': 477,\n         'first': 475,\n         'shop': 471,\n         'government': 468,\n         'free': 467,\n         'covid-19.': 465,\n         'market': 463,\n         'last': 462,\n         'itã\\x82â\\x92s': 459,\n         'right': 455,\n         '.': 454,\n         'customers': 451,\n         'business': 445,\n         'global': 444,\n         'masks': 442,\n         'items': 439,\n         'impact': 438,\n         'world': 437,\n         'find': 431,\n         'back': 430,\n         'products': 427,\n         '#socialdistancing': 427,\n         '#coronacrisis': 423,\n         'read': 420,\n         '#covid?19': 418,\n         'getting': 415,\n         'employees': 415,\n         'donã\\x82â\\x92t': 414,\n         'iã\\x82â\\x92m': 414,\n         'outbreak': 412,\n         'great': 409,\n         'high': 408,\n         'got': 407,\n         'empty': 407,\n         'low': 407,\n         'making': 404,\n         'face': 402,\n         'care': 401,\n         'really': 400,\n         'risk': 397,\n         \"i'm\": 397,\n         'week': 396,\n         'companies': 393,\n         'around': 391,\n         'supplies': 387,\n         'public': 386,\n         'said': 386,\n         'went': 378,\n         'times': 372,\n         'since': 369,\n         'says': 369,\n         '3': 364,\n         'gas': 361,\n         'say': 350,\n         'taking': 349,\n         'store.': 348,\n         'increase': 348,\n         'next': 347,\n         'well': 346,\n         'look': 344,\n         'businesses': 342,\n         'put': 342,\n         'protect': 340,\n         '1': 340,\n         'enough': 337,\n         'order': 337,\n         'things': 336,\n         'prices.': 332,\n         'two': 331,\n         'fight': 330,\n         'mask': 330,\n         'supermarkets': 330,\n         'pay': 329,\n         'lockdown': 326,\n         'days': 325,\n         'long': 323,\n         'anyone': 322,\n         'country': 321,\n         'across': 318,\n         'increased': 317,\n         'best': 315,\n         'money': 315,\n         'weeks': 312,\n         'full': 312,\n         'covid-19,': 311,\n         'must': 309,\n         'consumers': 307,\n         'trying': 307,\n         'service': 305,\n         'distancing': 305,\n         'news': 304,\n         'hands': 303,\n         'medical': 303,\n         'never': 303,\n         'check': 302,\n         'without': 301,\n         'others': 300,\n         'come': 300,\n         'big': 296,\n         'economic': 292,\n         'line': 291,\n         'sure': 288,\n         \"can't\": 286,\n         'open': 286,\n         'available': 285,\n         'give': 284,\n         'everything': 280,\n         'workers,': 280,\n         'uk': 280,\n         'shops': 279,\n         '|': 279,\n         'response': 278,\n         'let': 278,\n         'chain': 277,\n         'pandemic.': 277,\n         'needs': 276,\n         'call': 276,\n         'thanks': 275,\n         'vulnerable': 275,\n         'using': 272,\n         'report': 268,\n         'avoid': 268,\n         'better': 267,\n         'emergency': 267,\n         'important': 266,\n         'already': 266,\n         'hope': 265,\n         'march': 265,\n         'services': 263,\n         'family': 263,\n         'hours': 263,\n         'lot': 262,\n         'continue': 261,\n         'made': 261,\n         'small': 260,\n         'seen': 258,\n         'thing': 256,\n         'hard': 256,\n         'share': 254,\n         'state': 250,\n         'close': 250,\n         'able': 249,\n         'per': 246,\n         'another': 246,\n         'elderly': 246,\n         '#coronaviruspandemic': 245,\n         'economy': 244,\n         'life': 244,\n         'banks': 244,\n         'canã\\x82â\\x92t': 243,\n         'goods': 243,\n         'community': 243,\n         'job': 242,\n         'looking': 238,\n         'live': 236,\n         'drop': 235,\n         'industry': 234,\n         'financial': 233,\n         '#pandemic': 232,\n         'front': 231,\n         'house': 231,\n         'positive': 231,\n         '#stayhome': 229,\n         'leave': 229,\n         'trump': 228,\n         '#coronavirus.': 228,\n         '4': 227,\n         'current': 226,\n         'someone': 226,\n         'part': 225,\n         'least': 222,\n         'selling': 222,\n         'learn': 220,\n         '#coronavirusoutbreak': 218,\n         'production': 217,\n         'scams': 217,\n         'told': 216,\n         'gloves': 216,\n         'coming': 216,\n         'real': 216,\n         'cases': 215,\n         'seeing': 214,\n         'healthcare': 214,\n         'safety': 214,\n         'cut': 214,\n         'hit': 214,\n         'u': 214,\n         'helping': 213,\n         'food.': 213,\n         'less': 212,\n         'wash': 212,\n         '10': 212,\n         'left': 211,\n         'markets': 211,\n         '2020': 211,\n         'bank': 211,\n         'shoppers': 211,\n         'self': 210,\n         'feel': 210,\n         'hoarding': 210,\n         'might': 210,\n         'little': 208,\n         '#corona': 208,\n         'retailers': 207,\n         'person': 207,\n         'meet': 207,\n         'keeping': 206,\n         'sales': 206,\n         'key': 206,\n         'latest': 206,\n         'post': 205,\n         'supermarket.': 204,\n         'it.': 204,\n         'something': 203,\n         'together': 203,\n         'closed': 202,\n         'measures': 202,\n         'start': 201,\n         'away': 201,\n         'now.': 201,\n         'place': 200,\n         '#lockdown': 199,\n         'store,': 196,\n         '#supermarket': 196,\n         'information': 196,\n         'end': 196,\n         'access': 195,\n         'water': 194,\n         'tips': 194,\n         '#stayathome': 194,\n         'situation': 194,\n         'join': 193,\n         'daily': 192,\n         '#covid': 192,\n         '#covid-19': 191,\n         'wearing': 190,\n         'groceries': 190,\n         'remember': 190,\n         'else': 189,\n         '#stayhomesavelives': 189,\n         'nothing': 188,\n         '#panicbuying': 188,\n         'drivers': 188,\n         'done': 187,\n         ',': 187,\n         'prices,': 187,\n         'man': 187,\n         'run': 186,\n         '#stophoarding': 186,\n         'food,': 186,\n         'data': 184,\n         'thought': 184,\n         '#quarantine': 184,\n         'sick': 183,\n         'wear': 182,\n         '???': 182,\n         'running': 182,\n         'year': 182,\n         'number': 182,\n         'company': 182,\n         'protection': 182,\n         'police': 181,\n         '#retail': 180,\n         'contact': 180,\n         'ever': 179,\n         '5': 179,\n         'used': 178,\n         'try': 176,\n         'jobs': 176,\n         'affected': 175,\n         'advantage': 174,\n         'change': 174,\n         'bad': 174,\n         'china': 174,\n         'lower': 174,\n         'special': 174,\n         'list': 173,\n         'including': 173,\n         'fall': 173,\n         'ensure': 173,\n         'spending': 171,\n         'likely': 170,\n         'found': 169,\n         'families': 169,\n         'provide': 169,\n         \"we're\": 168,\n         'corona': 168,\n         'related': 167,\n         'putting': 166,\n         'reports': 166,\n         'nhs': 164,\n         'always': 164,\n         'april': 163,\n         'bought': 163,\n         'shortage': 163,\n         'crisis.': 162,\n         'old': 162,\n         'higher': 162,\n         'offering': 162,\n         'fresh': 162,\n         'especially': 161,\n         'soap': 161,\n         'visit': 161,\n         'supermarket,': 161,\n         'relief': 161,\n         'americans': 159,\n         'worker': 159,\n         'tested': 159,\n         'lives': 159,\n         'time.': 158,\n         '#food': 158,\n         \"i've\": 157,\n         'critical': 156,\n         'media': 155,\n         'caused': 155,\n         'quarantine': 154,\n         '20': 154,\n         'yet': 154,\n         'behavior': 154,\n         'saying': 153,\n         'watch': 153,\n         'save': 153,\n         'normal': 153,\n         'video': 152,\n         'prevent': 152,\n         'major': 152,\n         '#covid19uk': 152,\n         'understand': 151,\n         'outside': 151,\n         '@realdonaldtrump': 151,\n         '#coronavirusupdate': 151,\n         'selfish': 151,\n         'amazon': 151,\n         'almost': 151,\n         'remain': 150,\n         'paid': 150,\n         'saw': 150,\n         'youã\\x82â\\x92re': 150,\n         'actually': 149,\n         'drive': 149,\n         'following': 149,\n         'reduce': 149,\n         'farmers': 149,\n         'far': 148,\n         'needed': 148,\n         'lines': 148,\n         'works': 148,\n         'huge': 148,\n         'cannot': 147,\n         'chains': 147,\n         'instead': 147,\n         'essentials': 147,\n         'despite': 147,\n         'sell': 147,\n         'rise': 147,\n         'govt': 147,\n         'produce': 147,\n         'set': 146,\n         'struggling': 146,\n         'years': 146,\n         'shortages': 146,\n         'love': 146,\n         '6': 146,\n         'credit': 146,\n         '...': 146,\n         'home.': 145,\n         'top': 145,\n         'morning': 144,\n         'result': 144,\n         'follow': 144,\n         'possible': 143,\n         'lost': 143,\n         'ã\\x82â\\x96': 143,\n         'city': 143,\n         'fear': 143,\n         'ã\\x82â\\x97': 141,\n         'difficult': 140,\n         'given': 140,\n         '#staysafe': 140,\n         'soon': 140,\n         'tell': 139,\n         'pandemic,': 139,\n         'become': 138,\n         'whole': 138,\n         'stocked': 138,\n         'sanitizers': 138,\n         'deal': 138,\n         'facing': 138,\n         'bring': 137,\n         'iã\\x82â\\x92ve': 137,\n         'shut': 136,\n         'alcohol': 136,\n         'roll': 136,\n         'travel': 135,\n         'show': 135,\n         'covid-19:': 134,\n         'staying': 134,\n         'months': 134,\n         'here:': 134,\n         'sanitizer,': 134,\n         'ask': 133,\n         '#oil': 133,\n         'changes': 133,\n         'advice': 133,\n         'system': 132,\n         'anything': 132,\n         'friends': 132,\n         'maybe': 132,\n         'die': 132,\n         'restaurants': 131,\n         'announced': 131,\n         '#stoppanicbuying': 130,\n         'today.': 130,\n         'extra': 130,\n         'means': 130,\n         'brands': 130,\n         'million': 130,\n         'customer': 129,\n         'milk': 129,\n         'taken': 129,\n         'weã\\x82â\\x92re': 129,\n         'heroes': 129,\n         'u.s.': 129,\n         'outbreak.': 129,\n         'fucking': 128,\n         'giving': 128,\n         'war': 128,\n         'cause': 128,\n         'testing': 128,\n         'orders': 128,\n         'worried': 127,\n         'woman': 126,\n         'india': 126,\n         '#handsanitizer': 126,\n         'test': 126,\n         'eat': 125,\n         'area': 125,\n         'month': 125,\n         'early': 125,\n         'currently': 124,\n         'kind': 124,\n         'security': 124,\n         'fuel': 124,\n         'limit': 124,\n         'cash': 124,\n         'national': 123,\n         'different': 123,\n         'personal': 123,\n         'case': 123,\n         'etc': 123,\n         'story': 122,\n         'consider': 122,\n         'asked': 122,\n         'doctors': 122,\n         'plenty': 122,\n         'healthy': 122,\n         'gone': 122,\n         'three': 122,\n         'allow': 122,\n         '#shopping': 121,\n         'increasing': 121,\n         'sold': 121,\n         \"that's\": 121,\n         'shit': 121,\n         'surge': 121,\n         'meat': 121,\n         'kids': 121,\n         'recent': 121,\n         'ppl': 120,\n         'distance': 120,\n         'hospital': 120,\n         'spreading': 120,\n         'control': 120,\n         'donate': 120,\n         'clean': 120,\n         'fighting': 120,\n         'asking': 119,\n         'fears': 119,\n         'basic': 119,\n         'drug': 118,\n         'survive': 118,\n         'gonna': 118,\n         'cost': 118,\n         'mean': 118,\n         'died': 117,\n         'point': 117,\n         'you.': 117,\n         'etc.': 117,\n         'car': 116,\n         'gouging': 116,\n         'crazy': 116,\n         'based': 116,\n         'providing': 116,\n         'purchase': 116,\n         'waiting': 115,\n         'pharmacy': 115,\n         'goes': 115,\n         'shift': 115,\n         'cleaning': 115,\n         'employee': 114,\n         'makes': 114,\n         'bit': 114,\n         'falling': 114,\n         'countries': 114,\n         'people.': 113,\n         'scammers': 113,\n         'yesterday': 113,\n         '100': 113,\n         '#coronavirus,': 113,\n         'past': 113,\n         '#sanitizer': 113,\n         'out.': 113,\n         'ways': 113,\n         'wait': 113,\n         '#quarantinelife': 112,\n         'send': 112,\n         'article': 112,\n         'shows': 112,\n         'kill': 112,\n         'isolation': 112,\n         'fuck': 112,\n         'them.': 112,\n         '@': 111,\n         'forced': 111,\n         'hour': 111,\n         'offer': 111,\n         'confidence': 110,\n         'crude': 110,\n         'trip': 109,\n         'product': 109,\n         '+': 109,\n         'pick': 109,\n         'believe': 108,\n         'large': 108,\n         'moment': 108,\n         'ready': 107,\n         \"there's\": 107,\n         '#coronavirusuk': 107,\n         'update': 107,\n         'stuff': 106,\n         'sign': 106,\n         'hear': 106,\n         'members': 106,\n         'plan': 106,\n         'website': 106,\n         'states': 106,\n         'afford': 106,\n         'worth': 105,\n         'truck': 105,\n         'near': 105,\n         '@tesco': 105,\n         '/': 105,\n         'poor': 105,\n         'according': 105,\n         'probably': 105,\n         'longer': 104,\n         'president': 104,\n         'raise': 104,\n         'sector': 104,\n         'fast': 104,\n         'energy': 103,\n         'started': 103,\n         'household': 103,\n         'action': 103,\n         'comes': 103,\n         'demand.': 103,\n         '!': 103,\n         'act': 102,\n         'effects': 102,\n         'shopping.': 102,\n         'school': 102,\n         'calling': 102,\n         'info': 102,\n         'deliver': 102,\n         'closing': 102,\n         'sanitizer.': 101,\n         'staff,': 101,\n         'idea': 101,\n         'allowed': 101,\n         'happy': 101,\n         'living': 100,\n         'trade': 100,\n         'group': 100,\n         \"they're\": 100,\n         'starting': 100,\n         'rather': 100,\n         'limited': 100,\n         'federal': 99,\n         \"here's\": 99,\n         'concerns': 99,\n         'came': 99,\n         '7': 99,\n         'changing': 99,\n         'ones': 99,\n         'nice': 99,\n         'looks': 99,\n         'called': 99,\n         'thinking': 98,\n         'amount': 98,\n         'reduced': 98,\n         'friend': 98,\n         'home,': 98,\n         'lots': 98,\n         'clear': 97,\n         'experts': 97,\n         'buyers': 97,\n         'chinese': 97,\n         'team': 97,\n         'seems': 97,\n         'biggest': 97,\n         'now,': 97,\n         'human': 97,\n         \"let's\": 97,\n         'ceo': 97,\n         'nurses': 97,\n         'inflated': 96,\n         'dear': 96,\n         'short': 96,\n         'expect': 96,\n         'gets': 96,\n         'ã\\x82â\\x95': 96,\n         'america': 96,\n         'seriously': 96,\n         'took': 95,\n         'period': 95,\n         '000': 95,\n         'general': 94,\n         'forget': 94,\n         'up.': 94,\n         'rolls': 94,\n         'office': 94,\n         'certain': 94,\n         'deliveries': 94,\n         'strong': 93,\n         'american': 93,\n         'washing': 93,\n         'guys': 93,\n         'email': 93,\n         'thatã\\x82â\\x92s': 93,\n         'massive': 93,\n         'folks': 93,\n         'several': 93,\n         'worse': 93,\n         'this.': 92,\n         'russia': 92,\n         '#consumer': 92,\n         'interesting': 92,\n         'nation': 92,\n         'pm': 92,\n         'expected': 92,\n         'continues': 92,\n         'workers.': 92,\n         'finally': 91,\n         'hiking': 91,\n         'paper,': 91,\n         '????': 91,\n         'serious': 91,\n         '8': 91,\n         'restrictions': 91,\n         'amazing': 91,\n         'queue': 91,\n         'anxiety': 90,\n         'among': 90,\n         'link': 90,\n         'n': 90,\n         'regarding': 90,\n         'bottle': 90,\n         'god': 90,\n         'wake': 90,\n         'message': 90,\n         'unprecedented': 89,\n         'hey': 89,\n         'frontline': 89,\n         'pretty': 89,\n         'more:': 89,\n         'slots': 89,\n         'shame': 89,\n         'calls': 89,\n         'infected': 89,\n         'reason': 89,\n         'wrong': 89,\n         'collapse': 89,\n         'issues': 89,\n         'rs': 89,\n         'thereã\\x82â\\x92s': 89,\n         'restaurant': 88,\n         'behind': 88,\n         'bread': 88,\n         'nurse': 88,\n         'potential': 88,\n         'worst': 88,\n         'it,': 87,\n         'masks,': 87,\n         'walk': 87,\n         'ago': 87,\n         'couple': 87,\n         'crisis,': 87,\n         'single': 87,\n         'inside': 87,\n         'policy': 87,\n         'south': 87,\n         'talk': 87,\n         '15': 87,\n         'equipment': 86,\n         'drivers,': 86,\n         'death': 86,\n         'opening': 86,\n         'wipes': 86,\n         'yes': 86,\n         'lack': 85,\n         'online.': 85,\n         'pasta': 85,\n         'showing': 85,\n         'sale': 85,\n         'light': 85,\n         'seniors': 85,\n         'takes': 85,\n         'growing': 84,\n         'donating': 84,\n         'donations': 84,\n         'citizens': 84,\n         '@sainsburys': 84,\n         'quick': 84,\n         'w': 84,\n         'resources': 84,\n         'appreciate': 84,\n         'waste': 84,\n         'efforts': 84,\n         'older': 84,\n         'beginning': 83,\n         '50': 83,\n         \"what's\": 83,\n         'phone': 83,\n         'future': 83,\n         'giant': 83,\n         'places': 82,\n         'bags': 82,\n         'worry': 82,\n         'shopping,': 82,\n         'step': 82,\n         'spend': 82,\n         'half': 82,\n         'hospitals': 81,\n         'theyã\\x82â\\x92re': 81,\n         'absolutely': 81,\n         'move': 81,\n         'wanted': 81,\n         '#grocery': 81,\n         'issue': 81,\n         'dont': 81,\n         'listen': 81,\n         'telling': 81,\n         'walmart': 81,\n         'county': 81,\n         'residents': 81,\n         'supporting': 81,\n         'practice': 80,\n         'necessary': 80,\n         'card': 80,\n         'today,': 80,\n         'create': 80,\n         ':': 80,\n         'saudi': 80,\n         'tomorrow': 80,\n         'feed': 80,\n         'value': 79,\n         'shelves.': 79,\n         '30': 79,\n         '#ecommerce': 79,\n         'common': 79,\n         'changed': 79,\n         'cure': 79,\n         '#coronavirususa': 79,\n         'pack': 79,\n         'thousands': 79,\n         'exposed': 79,\n         'force': 79,\n         'insights': 79,\n         'rising': 79,\n         '12': 78,\n         '@borisjohnson': 78,\n         'society': 78,\n         'head': 78,\n         'temporarily': 78,\n         'challenges': 78,\n         'stocks': 78,\n         'plans': 78,\n         'canada': 78,\n         'behaviour': 78,\n         'mass': 78,\n         'law': 78,\n         'driving': 77,\n         'buying.': 77,\n         'closures': 77,\n         'imagine': 77,\n         '1.': 77,\n         'recession': 77,\n         'rules': 77,\n         'tp': 77,\n         'too.': 77,\n         'symptoms': 77,\n         'steps': 77,\n         'meals': 77,\n         'trends': 77,\n         'baby': 77,\n         'click': 77,\n         'chance': 77,\n         'super': 77,\n         'wonã\\x82â\\x92t': 77,\n         'causing': 76,\n         'questions': 76,\n         '#economy': 76,\n         'shares': 76,\n         'letã\\x82â\\x92s': 76,\n         'feeling': 76,\n         'pressure': 76,\n         'profit': 76,\n         'fake': 76,\n         'total': 76,\n         'costs': 76,\n         'hoard': 76,\n         'times.': 76,\n         '9': 76,\n         '2.': 76,\n         'digital': 76,\n         'street': 76,\n         'foods': 76,\n         'italy': 76,\n         'touch': 75,\n         'direct': 75,\n         'offers': 75,\n         'protective': 75,\n         'levels': 75,\n         'lead': 75,\n         'whether': 75,\n         'producers': 75,\n         'millions': 75,\n         'felt': 75,\n         'side': 75,\n         '#toiletpapercrisis': 75,\n         'record': 75,\n         'rice': 75,\n         'coughing': 75,\n         'panic.': 75,\n         'gold': 75,\n         'paying': 75,\n         'us.': 75,\n         'easy': 74,\n         'stand': 74,\n         'marketing': 74,\n         'quickly': 74,\n         'experience': 74,\n         'along': 74,\n         'though': 74,\n         'people,': 74,\n         'opportunity': 74,\n         'dropped': 74,\n         'bc': 74,\n         'monday': 74,\n         'created': 74,\n         'effective': 74,\n         'wish': 73,\n         'amidst': 73,\n         'isnã\\x82â\\x92t': 73,\n         'raising': 73,\n         'benefits': 73,\n         'employees,': 73,\n         'details': 73,\n         'middle': 73,\n         'deserve': 73,\n         'finding': 73,\n         'impacted': 73,\n         'doesnã\\x82â\\x92t': 73,\n         'minister': 73,\n         'regular': 73,\n         'day.': 73,\n         'nurses,': 72,\n         'true': 72,\n         'delivering': 72,\n         'till': 72,\n         'rest': 72,\n         'unable': 72,\n         'stocking': 72,\n         'ok': 72,\n         'tests': 72,\n         'significant': 72,\n         'scam': 71,\n         'children': 71,\n         'bulk': 71,\n         '#coronaviruslockdown': 71,\n         'stimulus': 71,\n         'department': 71,\n         'need.': 71,\n         'greater': 71,\n         'warning': 71,\n         'respect': 71,\n         'distribution': 71,\n         'aware': 71,\n         'level': 71,\n         'hold': 71,\n         'delivered': 71,\n         'unless': 71,\n         'four': 71,\n         'profiteering': 71,\n         'boost': 71,\n         'damn': 70,\n         'sense': 70,\n         ...})"
     },
     "metadata": {},
     "output_type": "display_data"
    }
   ],
   "source": [
    "words = [item.lower() for ls in map(lambda x: x.split(), X_train.OriginalTweet) for item in ls]\n",
    "# сделаю из списка слов множество для адекватной асимптотики\n",
    "stopwords_set = set(stopwords.words(\"english\"))\n",
    "dictionary = Counter(word for word in words if word not in stopwords_set)\n",
    "display(dictionary)"
   ],
   "metadata": {
    "collapsed": false,
    "ExecuteTime": {
     "end_time": "2024-05-02T19:55:07.927455Z",
     "start_time": "2024-05-02T19:55:07.606973Z"
    }
   },
   "execution_count": 112
  },
  {
   "cell_type": "code",
   "outputs": [
    {
     "data": {
      "text/plain": "79584"
     },
     "execution_count": 113,
     "metadata": {},
     "output_type": "execute_result"
    }
   ],
   "source": [
    "len(dictionary)  # удалили 171 уникальный токен"
   ],
   "metadata": {
    "collapsed": false,
    "ExecuteTime": {
     "end_time": "2024-05-02T19:55:07.933285Z",
     "start_time": "2024-05-02T19:55:07.928416Z"
    }
   },
   "execution_count": 113
  },
  {
   "cell_type": "code",
   "outputs": [
    {
     "data": {
      "text/plain": "[('#coronavirus', 8223),\n ('prices', 3891),\n ('food', 3820),\n ('grocery', 3469),\n ('supermarket', 3288),\n ('people', 3175),\n ('covid-19', 3173),\n ('store', 3155),\n ('#covid19', 2471),\n ('&amp;', 2314)]"
     },
     "execution_count": 114,
     "metadata": {},
     "output_type": "execute_result"
    }
   ],
   "source": [
    "dictionary.most_common(10)\n",
    "# Новые слова уже более осмысленные. Конечно также встречается шум для задачи определения настроения, связанный с коронавирусом, но также есть и важные слова вроде цен, магазинов и продуктов, дающие информацию о возможном повышении цен или карантине"
   ],
   "metadata": {
    "collapsed": false,
    "ExecuteTime": {
     "end_time": "2024-05-02T19:55:07.946906Z",
     "start_time": "2024-05-02T19:55:07.934309Z"
    }
   },
   "execution_count": 114
  },
  {
   "cell_type": "markdown",
   "metadata": {
    "id": "LZH0x2Lzs-Dh"
   },
   "source": [
    "**Ответ:** Новые слова уже более осмысленные конечно также встречается шум для задачи определения настроения, связанный с коронавирусом, но также есть и важные слова вроде цен, магазинов и продуктов, дающие информацию о возможном повышении цен или карантине"
   ]
  },
  {
   "cell_type": "markdown",
   "metadata": {
    "id": "TKSGRyI-uor0"
   },
   "source": [
    "Также выведите 20 самых непопулярных слов (если самых непопулярных слов больше выведите любые 20 из них) Почему эти токены непопулярны, требуется ли как-то дополнительно работать с ними?"
   ]
  },
  {
   "cell_type": "code",
   "execution_count": 115,
   "metadata": {
    "id": "moArbwfvun9t",
    "ExecuteTime": {
     "end_time": "2024-05-02T19:55:07.976944Z",
     "start_time": "2024-05-02T19:55:07.947904Z"
    }
   },
   "outputs": [
    {
     "data": {
      "text/plain": "[('https://t.co/7j2y3rsld9', 1),\n ('@680news', 1),\n ('@torontopearson', 1),\n ('nothing...', 1),\n ('flew', 1),\n ('wage!', 1),\n ('renewing', 1),\n ('playersã\\x82â\\x92', 1),\n ('subsidise', 1),\n ('non-playing', 1),\n ('premiership', 1),\n ('https://t.co/iaek4fwsgz', 1),\n ('@srinivasiyc', 1),\n ('https://t.co/zjcl195vqs', 1),\n ('#southkerry', 1),\n ('#skelligcoast2kms', 1),\n ('@skelligsix18', 1),\n ('closer!)', 1),\n ('coast!', 1)]"
     },
     "execution_count": 115,
     "metadata": {},
     "output_type": "execute_result"
    }
   ],
   "source": [
    "dictionary.most_common()[:-20:-1]\n",
    "# Самых популярных слов гораздо больше 20. Часто они содержат ссылки, хештеги, теги, синтаксические ошибки или просто слова с уникальным символом после него. Думаю стоит отделить символы от слов, чтобы слова с символами не были уникальными токенами. Также регулярными выражениями можно легко удалить ссылки, теги и хештеги."
   ]
  },
  {
   "cell_type": "markdown",
   "metadata": {
    "id": "uRp3J1gQunlR"
   },
   "source": [
    "**Ответ:** Самых популярных слов гораздо больше 20. Часто они содержат ссылки, хештеги, теги, синтаксические ошибки или просто слова с уникальным символом после него. Думаю стоит отделить символы от слов, чтобы слова с символами не были уникальными токенами. Также регулярными выражениями можно легко удалить ссылки, теги и хештеги."
   ]
  },
  {
   "cell_type": "markdown",
   "metadata": {
    "id": "wx9LQOSPzvjV"
   },
   "source": [
    "Теперь воспользуемся токенайзером получше - TweetTokenizer из библиотеки nltk. Примените его и посмотрите на топ-10 популярных слов. Чем он отличается от топа, который получался раньше? Почему?"
   ]
  },
  {
   "cell_type": "code",
   "execution_count": 116,
   "metadata": {
    "id": "2G1UkyVxzvFY",
    "ExecuteTime": {
     "end_time": "2024-05-02T19:55:12.039070Z",
     "start_time": "2024-05-02T19:55:07.977940Z"
    }
   },
   "outputs": [
    {
     "data": {
      "text/plain": "[('the', 26993),\n ('.', 24118),\n ('to', 23478),\n (',', 17571),\n ('and', 14825),\n ('of', 13044),\n ('a', 11891),\n ('in', 11348),\n ('?', 9524),\n ('#coronavirus', 8808)]"
     },
     "execution_count": 116,
     "metadata": {},
     "output_type": "execute_result"
    }
   ],
   "source": [
    "from nltk.tokenize import TweetTokenizer\n",
    "\n",
    "tw = TweetTokenizer()\n",
    "dictionary = Counter([item.lower() for ls in map(lambda x: tw.tokenize(x), X_train.OriginalTweet) for item in ls])\n",
    "dictionary.most_common(10)\n",
    "# отличается тем, что теперь в топе есть не только стоп-слов (оставил, так как их нужно убрать в следующем задании), но и пунктуацию, которая раньше была частью других слов."
   ]
  },
  {
   "cell_type": "markdown",
   "metadata": {
    "id": "50eVUnJN1Zxl"
   },
   "source": [
    "**Ответ:** отличается тем, что теперь в топе есть не только стоп-слов (оставил, так как их нужно убрать в следующем задании), но и знаки препинания, которые раньше были частью других слов.-"
   ]
  },
  {
   "cell_type": "markdown",
   "metadata": {
    "id": "1gqQgiMs11bs"
   },
   "source": [
    "Удалите из словаря стоп-слова и пунктуацию, посмотрите на новый топ-10 слов с количеством встреч, есть ли теперь в нем что-то не похожее на слова?"
   ]
  },
  {
   "cell_type": "code",
   "execution_count": 117,
   "metadata": {
    "id": "0yHWdFrp0Mup",
    "ExecuteTime": {
     "end_time": "2024-05-02T19:55:16.204682Z",
     "start_time": "2024-05-02T19:55:12.040070Z"
    }
   },
   "outputs": [],
   "source": [
    "from string import punctuation\n",
    "\n",
    "words = [item.lower() for ls in map(lambda x: tw.tokenize(x), X_train.OriginalTweet) for item in ls]\n",
    "# сделаю из списка слов множество для адекватной асимптотики\n",
    "stopwords_set = set(stopwords.words(\"english\") + list(punctuation))\n",
    "dictionary = Counter(word for word in words if word not in stopwords_set)"
   ]
  },
  {
   "cell_type": "code",
   "outputs": [
    {
     "data": {
      "text/plain": "[('#coronavirus', 8808),\n ('â', 7415),\n ('\\x82', 7311),\n ('19', 7167),\n ('covid', 6253),\n ('prices', 4601),\n ('\\x92', 4372),\n ('food', 4367),\n ('store', 3877),\n ('supermarket', 3805)]"
     },
     "execution_count": 118,
     "metadata": {},
     "output_type": "execute_result"
    }
   ],
   "source": [
    "dictionary.most_common(10)\n",
    "# Да, теперь есть странная буковка â, и символы, начинающиеся с \\ (например \\x82). Скорее всего это не прогрузившийся символ юникода или смайлик. Также встречаются число (тоже шум, так как это серийный номер ковида)"
   ],
   "metadata": {
    "collapsed": false,
    "ExecuteTime": {
     "end_time": "2024-05-02T19:55:16.216329Z",
     "start_time": "2024-05-02T19:55:16.205217Z"
    }
   },
   "execution_count": 118
  },
  {
   "cell_type": "markdown",
   "metadata": {
    "id": "8ZJqXELP_Yxy"
   },
   "source": [
    "**Ответ:** Да, теперь есть странная буковка â, и символы, начинающиеся с \\ (например \\x82). Скорее всего это смайлик. Также встречаются число (тоже шум, так как это серийный номер ковида)"
   ]
  },
  {
   "cell_type": "markdown",
   "metadata": {
    "id": "rzXjMsSB_kXB"
   },
   "source": [
    "Удалите из словаря токены из одного символа, с позицией в таблице Unicode 128 и более (`ord(x) >= 128`)\n",
    "\n",
    "Выведите топ-10 самых популярных и топ-20 непопулярных слов. Чем полученные топы отличаются от итоговых топов, полученных при использовании токенизации по пробелам? Что теперь лучше, а что хуже?"
   ]
  },
  {
   "cell_type": "code",
   "execution_count": 120,
   "metadata": {
    "id": "1695hlkS_1-J",
    "ExecuteTime": {
     "end_time": "2024-05-02T19:55:23.583820Z",
     "start_time": "2024-05-02T19:55:19.854843Z"
    }
   },
   "outputs": [],
   "source": [
    "words = [item.lower() for ls in map(lambda x: tw.tokenize(x), X_train.OriginalTweet) for item in ls]\n",
    "# сделаю из списка слов множество для адекватной асимптотики\n",
    "stopwords_set = set(stopwords.words(\"english\") + list(punctuation))\n",
    "# довольно странно сформулированное задание. Удалю символы с ord(symbol) >= 128\n",
    "dictionary = Counter(word for word in words if\n",
    "                     ((word not in stopwords_set) and ((len(word) > 1) or (len(word) == 1 and (ord(word) < 128)))))"
   ]
  },
  {
   "cell_type": "code",
   "outputs": [
    {
     "data": {
      "text/plain": "[('#coronavirus', 8808),\n ('19', 7167),\n ('covid', 6253),\n ('prices', 4601),\n ('food', 4367),\n ('store', 3877),\n ('supermarket', 3805),\n ('grocery', 3523),\n ('people', 3463),\n ('#covid19', 2589)]"
     },
     "execution_count": 121,
     "metadata": {},
     "output_type": "execute_result"
    }
   ],
   "source": [
    "dictionary.most_common(10)"
   ],
   "metadata": {
    "collapsed": false,
    "ExecuteTime": {
     "end_time": "2024-05-02T19:55:25.117646Z",
     "start_time": "2024-05-02T19:55:25.106434Z"
    }
   },
   "execution_count": 121
  },
  {
   "cell_type": "code",
   "outputs": [
    {
     "data": {
      "text/plain": "[('https://t.co/7j2y3rsld9', 1),\n ('@680news', 1),\n ('@torontopearson', 1),\n ('flew', 1),\n ('renewing', 1),\n ('playersã', 1),\n ('subsidise', 1),\n ('non-playing', 1),\n ('premiership', 1),\n ('https://t.co/iaek4fwsgz', 1),\n ('@srinivasiyc', 1),\n ('https://t.co/zjcl195vqs', 1),\n ('#southkerry', 1),\n ('#skelligcoast2kms', 1),\n ('@skelligsix18', 1),\n ('skellig', 1),\n ('milion', 1),\n ('now.when', 1),\n ('https://t.co/5cbliqzx7l', 1)]"
     },
     "execution_count": 122,
     "metadata": {},
     "output_type": "execute_result"
    }
   ],
   "source": [
    "dictionary.most_common()[:-20:-1]"
   ],
   "metadata": {
    "collapsed": false,
    "ExecuteTime": {
     "end_time": "2024-05-02T19:56:01.856074Z",
     "start_time": "2024-05-02T19:56:01.830343Z"
    }
   },
   "execution_count": 122
  },
  {
   "cell_type": "markdown",
   "metadata": {
    "id": "KzjHAKIlDvc6"
   },
   "source": [
    "**Ответ:** Из плюсов теперь есть только слова без пунктуации и смайликов. Из-за чего уникальных токенов стало меньше. Правда ссылки, хештеги и теги остались.\n",
    "Из минусов теперь нет пунктуации и смайликов, которые могут быть очень важны для определения настроения :)"
   ]
  },
  {
   "cell_type": "markdown",
   "metadata": {
    "id": "EcDf9_6HB2zm"
   },
   "source": [
    "Выведите топ-10 популярных хештегов с количеством встреч. Что можно сказать о них?"
   ]
  },
  {
   "cell_type": "code",
   "execution_count": 123,
   "metadata": {
    "id": "zk4fygCUBw3l",
    "ExecuteTime": {
     "end_time": "2024-05-02T20:02:13.690966Z",
     "start_time": "2024-05-02T20:02:09.753966Z"
    }
   },
   "outputs": [],
   "source": [
    "words = [item.lower() for ls in map(lambda x: tw.tokenize(x), X_train.OriginalTweet) for item in ls]\n",
    "stopwords_set = set(stopwords.words(\"english\") + list(punctuation))\n",
    "dictionary_hashtags = Counter(word for word in words if\n",
    "                              ((word not in stopwords_set) and (\n",
    "                                          (len(word) > 1) or (len(word) == 1 and (ord(word) < 128))) and word[\n",
    "                                   0] == \"#\"))"
   ]
  },
  {
   "cell_type": "code",
   "outputs": [
    {
     "data": {
      "text/plain": "[('#coronavirus', 8808),\n ('#covid19', 2589),\n ('#covid_19', 1734),\n ('#covid2019', 946),\n ('#toiletpaper', 744),\n ('#covid', 641),\n ('#socialdistancing', 465),\n ('#coronacrisis', 448),\n ('#pandemic', 257),\n ('#coronaviruspandemic', 249),\n ('#stayhome', 235),\n ('#coronavirusoutbreak', 223),\n ('#covid-19', 218),\n ('#corona', 209),\n ('#lockdown', 208),\n ('#supermarket', 206),\n ('#stayathome', 197),\n ('#panicbuying', 197),\n ('#stayhomesavelives', 194),\n ('#stophoarding', 190)]"
     },
     "execution_count": 127,
     "metadata": {},
     "output_type": "execute_result"
    }
   ],
   "source": [
    "dictionary_hashtags.most_common(20)"
   ],
   "metadata": {
    "collapsed": false,
    "ExecuteTime": {
     "end_time": "2024-05-02T20:03:16.158188Z",
     "start_time": "2024-05-02T20:03:16.149658Z"
    }
   },
   "execution_count": 127
  },
  {
   "cell_type": "markdown",
   "metadata": {
    "id": "-6NeNWBkDxM7"
   },
   "source": [
    "**Ответ:** Ладно кажется хештеги всё-таки несут какой-то смысл. По ним можно определить настрояния. Так, например хештеги #lockdown, #panicbuying или #supermarket скорее будут нести в себе негативный посыл. Но также много и шума, например #covid19, так как все твиты и так связаны с коронавирусом."
   ]
  },
  {
   "cell_type": "markdown",
   "metadata": {
    "id": "LLYBg7caD5GA"
   },
   "source": [
    "То же самое проделайте для ссылок на сайт https://t.co Сравнима ли популярность ссылок с популярностью хештегов? Будет ли информация о ссылке на конкретную страницу полезна?"
   ]
  },
  {
   "cell_type": "code",
   "execution_count": 131,
   "metadata": {
    "id": "MXbm1oeaCK9S",
    "ExecuteTime": {
     "end_time": "2024-05-02T20:06:02.051185Z",
     "start_time": "2024-05-02T20:05:57.939053Z"
    }
   },
   "outputs": [],
   "source": [
    "words = [item.lower() for ls in map(lambda x: tw.tokenize(x), X_train.OriginalTweet) for item in ls]\n",
    "stopwords_set = set(stopwords.words(\"english\") + list(punctuation))\n",
    "dictionary_links = Counter(word for word in words if\n",
    "                           ((word not in stopwords_set) and ((len(word) > 1) or (\n",
    "                                       len(word) == 1 and (ord(word) < 128))) and \"https://t.co\" in word))"
   ]
  },
  {
   "cell_type": "code",
   "outputs": [
    {
     "data": {
      "text/plain": "[('https://t.co/oxa7swtond', 5),\n ('https://t.co/gp3eusapl8', 4),\n ('https://t.co/deftrui1pfã\\x82â', 3),\n ('https://t.co/wrlhyzizaa', 3),\n ('https://t.co/kuwipf1kqw', 3),\n ('https://t.co/zjnrx6dkkn', 3),\n ('https://t.co/3gbbdpdjat', 3),\n ('https://t.co/e2znxajpre', 3),\n ('https://t.co/catkegayoy', 3),\n ('https://t.co/g63rp042ho', 3),\n ('https://t.co/aziqcdgrnn', 3),\n ('https://t.co/bylqxrjmnt', 3),\n ('https://t.co/wuieefsnoj', 3),\n ('https://t.co/oi39zsanq8', 3),\n ('https://t.co/rafj2l2ceq', 2)]"
     },
     "execution_count": 133,
     "metadata": {},
     "output_type": "execute_result"
    }
   ],
   "source": [
    "dictionary_links.most_common(15)"
   ],
   "metadata": {
    "collapsed": false,
    "ExecuteTime": {
     "end_time": "2024-05-02T20:06:12.333261Z",
     "start_time": "2024-05-02T20:06:12.325717Z"
    }
   },
   "execution_count": 133
  },
  {
   "cell_type": "markdown",
   "metadata": {
    "id": "at6lRYZ8A07N"
   },
   "source": [
    "**Ответ:** Нет, не будет полезна, так как в самих ссылках не хранится никакой информации. К тому же они редко повторяются и только переобучат модель (максимум встречаются 3 раза). Хештеги будут куда полезнее, так как они и содержат информацию, и часто встречаются (многие хештеги встречаются сотни и тысячи раз)"
   ]
  },
  {
   "cell_type": "markdown",
   "metadata": {
    "id": "IOGdUU1kBU1D"
   },
   "source": [
    "Используем опыт предыдущих экспериментов и напишем собственный токенайзер, улучшив TweetTokenizer. Функция tokenize должна:\n",
    "\n",
    "\n",
    "\n",
    "*   Привести текст в нижний регистр\n",
    "*   Применить TweetTokenizer для изначального выделения токенов\n",
    "*   Удалить стоп-слова, пунктуацию, токены из одного символа, с позицией в таблице Unicode 128 и более и ссылки на t.co\n",
    "\n"
   ]
  },
  {
   "cell_type": "code",
   "execution_count": 164,
   "metadata": {
    "id": "ctEsB6xkFrrK",
    "ExecuteTime": {
     "end_time": "2024-05-02T20:18:54.845878Z",
     "start_time": "2024-05-02T20:18:54.840367Z"
    }
   },
   "outputs": [],
   "source": [
    "def custom_tokenizer(text): # по сути у меня уже всё было сделано в предыдущих заданиях\n",
    "    words = map(lambda x: x.lower(), tw.tokenize(text)) # список слов в нижнем регистре\n",
    "    stopwords_set = set(stopwords.words(\"english\") + list(punctuation)) # стоп-слова и символы пунктуации\n",
    "    tokens = [word for word in words if\n",
    "                         ((word not in stopwords_set) and ((len(word) > 1) or (len(word) == 1 and (ord(word) < 128))) and \"https://t.co\" not in word)] # Список с фильтрацией токенов. Условие, конечно, можно вынести в функцию, но вроде и так нормально\n",
    "\n",
    "    return tokens\n"
   ]
  },
  {
   "cell_type": "code",
   "execution_count": 165,
   "metadata": {
    "colab": {
     "base_uri": "https://localhost:8080/"
    },
    "id": "XwbgtYkJGYym",
    "outputId": "5808765b-3448-45e6-ccc1-7cd65f6371ef",
    "ExecuteTime": {
     "end_time": "2024-05-02T20:18:55.384413Z",
     "start_time": "2024-05-02T20:18:55.379585Z"
    }
   },
   "outputs": [
    {
     "data": {
      "text/plain": "['sample', 'text', '@sample_text', '#sampletext']"
     },
     "execution_count": 165,
     "metadata": {},
     "output_type": "execute_result"
    }
   ],
   "source": [
    "custom_tokenizer('This is sample text!!!! @Sample_text I, \\x92\\x92 https://t.co/sample  #sampletext')"
   ]
  },
  {
   "cell_type": "markdown",
   "metadata": {
    "id": "wURVABmXHk97"
   },
   "source": [
    "## Задание 3 Векторизация текстов (2 балла)"
   ]
  },
  {
   "cell_type": "markdown",
   "metadata": {
    "id": "H44iXkoHIQfN"
   },
   "source": [
    "Обучите CountVectorizer с использованием custom_tokenizer в качестве токенайзера. Как размер полученного словаря соотносится с размером изначального словаря из начала задания 2?"
   ]
  },
  {
   "cell_type": "code",
   "source": [
    "from sklearn.feature_extraction.text import CountVectorizer\n",
    "\n",
    "cv = CountVectorizer  # -- YOUR CODE HERE --\n",
    "\n",
    "print(len(cv.vocabulary_))"
   ],
   "metadata": {
    "colab": {
     "base_uri": "https://localhost:8080/"
    },
    "id": "gHn_limQl3BI",
    "outputId": "8e9c1826-319f-4376-f06e-c30c2eb82648"
   },
   "execution_count": null,
   "outputs": [
    {
     "output_type": "stream",
     "name": "stdout",
     "text": [
      "45308\n"
     ]
    }
   ]
  },
  {
   "cell_type": "markdown",
   "metadata": {
    "id": "gsfmaSGoItUm"
   },
   "source": [
    "**Ответ:** # -- YOUR ANSWER HERE --"
   ]
  },
  {
   "cell_type": "markdown",
   "metadata": {
    "id": "lm6UHNmqKZT0"
   },
   "source": [
    "Посмотрим на какой-нибудь конкретный твитт:"
   ]
  },
  {
   "cell_type": "code",
   "execution_count": null,
   "metadata": {
    "id": "aJVjjfqOJh8m"
   },
   "outputs": [],
   "source": [
    "ind = 9023\n",
    "train.iloc[ind]['OriginalTweet'], train.iloc[ind]['Sentiment']"
   ]
  },
  {
   "cell_type": "markdown",
   "metadata": {
    "id": "PBMIHBI5KdaS"
   },
   "source": [
    "Автор твитта не доволен ситуацией с едой во Франции и текст имеет резко негативную окраску.\n",
    "\n",
    "Примените обученный CountVectorizer для векторизации данного текста, и попытайтесь определить самый важный токен и самый неважный токен (токен, компонента которого в векторе максимальна/минимальна, без учета 0). Хорошо ли они определились, почему?"
   ]
  },
  {
   "cell_type": "code",
   "execution_count": null,
   "metadata": {
    "id": "7NcAllaEKsJj"
   },
   "outputs": [],
   "source": [
    "# -- YOUR CODE HERE --"
   ]
  },
  {
   "cell_type": "markdown",
   "metadata": {
    "id": "TpEsl1k_NF4T"
   },
   "source": [
    "**Ответ:** # -- YOUR ANSWER HERE --"
   ]
  },
  {
   "cell_type": "markdown",
   "metadata": {
    "id": "w4DsEQpLO3J6"
   },
   "source": [
    "Теперь примените TfidfVectorizer и  определите самый важный/неважный токены. Хорошо ли определились, почему?"
   ]
  },
  {
   "cell_type": "code",
   "execution_count": null,
   "metadata": {
    "id": "uSNzdK3ENGB3"
   },
   "outputs": [],
   "source": [
    "# -- YOUR CODE HERE --"
   ]
  },
  {
   "cell_type": "markdown",
   "metadata": {
    "id": "NYao_UhqQADm"
   },
   "source": [
    "**Ответ:** # -- YOUR ANSWER HERE --"
   ]
  },
  {
   "cell_type": "markdown",
   "metadata": {
    "id": "LGRJPqfWSesQ"
   },
   "source": [
    "Найдите какой-нибудь положительно окрашенный твитт, где TfidfVectorizer хорошо (полезно для определения окраски) выделяет важный токен, поясните пример.\n",
    "\n",
    "*Подсказка:* явно положительные твитты можно искать при помощи положительных слов (good, great, amazing и т. д.)"
   ]
  },
  {
   "cell_type": "code",
   "execution_count": null,
   "metadata": {
    "id": "bRbQ2CHiSuJI",
    "colab": {
     "base_uri": "https://localhost:8080/",
     "height": 53
    },
    "outputId": "c4b34a7d-1076-4e1e-ad5c-9466fd2097c2"
   },
   "outputs": [
    {
     "output_type": "execute_result",
     "data": {
      "text/plain": [
       "Empty DataFrame\n",
       "Columns: [UserName, ScreenName, Location, TweetAt, OriginalTweet, Sentiment]\n",
       "Index: []"
      ],
      "text/html": [
       "\n",
       "  <div id=\"df-7ca73bc8-3352-450a-ab2b-98a4d5aecc6f\" class=\"colab-df-container\">\n",
       "    <div>\n",
       "<style scoped>\n",
       "    .dataframe tbody tr th:only-of-type {\n",
       "        vertical-align: middle;\n",
       "    }\n",
       "\n",
       "    .dataframe tbody tr th {\n",
       "        vertical-align: top;\n",
       "    }\n",
       "\n",
       "    .dataframe thead th {\n",
       "        text-align: right;\n",
       "    }\n",
       "</style>\n",
       "<table border=\"1\" class=\"dataframe\">\n",
       "  <thead>\n",
       "    <tr style=\"text-align: right;\">\n",
       "      <th></th>\n",
       "      <th>UserName</th>\n",
       "      <th>ScreenName</th>\n",
       "      <th>Location</th>\n",
       "      <th>TweetAt</th>\n",
       "      <th>OriginalTweet</th>\n",
       "      <th>Sentiment</th>\n",
       "    </tr>\n",
       "  </thead>\n",
       "  <tbody>\n",
       "  </tbody>\n",
       "</table>\n",
       "</div>\n",
       "    <div class=\"colab-df-buttons\">\n",
       "\n",
       "  <div class=\"colab-df-container\">\n",
       "    <button class=\"colab-df-convert\" onclick=\"convertToInteractive('df-7ca73bc8-3352-450a-ab2b-98a4d5aecc6f')\"\n",
       "            title=\"Convert this dataframe to an interactive table.\"\n",
       "            style=\"display:none;\">\n",
       "\n",
       "  <svg xmlns=\"http://www.w3.org/2000/svg\" height=\"24px\" viewBox=\"0 -960 960 960\">\n",
       "    <path d=\"M120-120v-720h720v720H120Zm60-500h600v-160H180v160Zm220 220h160v-160H400v160Zm0 220h160v-160H400v160ZM180-400h160v-160H180v160Zm440 0h160v-160H620v160ZM180-180h160v-160H180v160Zm440 0h160v-160H620v160Z\"/>\n",
       "  </svg>\n",
       "    </button>\n",
       "\n",
       "  <style>\n",
       "    .colab-df-container {\n",
       "      display:flex;\n",
       "      gap: 12px;\n",
       "    }\n",
       "\n",
       "    .colab-df-convert {\n",
       "      background-color: #E8F0FE;\n",
       "      border: none;\n",
       "      border-radius: 50%;\n",
       "      cursor: pointer;\n",
       "      display: none;\n",
       "      fill: #1967D2;\n",
       "      height: 32px;\n",
       "      padding: 0 0 0 0;\n",
       "      width: 32px;\n",
       "    }\n",
       "\n",
       "    .colab-df-convert:hover {\n",
       "      background-color: #E2EBFA;\n",
       "      box-shadow: 0px 1px 2px rgba(60, 64, 67, 0.3), 0px 1px 3px 1px rgba(60, 64, 67, 0.15);\n",
       "      fill: #174EA6;\n",
       "    }\n",
       "\n",
       "    .colab-df-buttons div {\n",
       "      margin-bottom: 4px;\n",
       "    }\n",
       "\n",
       "    [theme=dark] .colab-df-convert {\n",
       "      background-color: #3B4455;\n",
       "      fill: #D2E3FC;\n",
       "    }\n",
       "\n",
       "    [theme=dark] .colab-df-convert:hover {\n",
       "      background-color: #434B5C;\n",
       "      box-shadow: 0px 1px 3px 1px rgba(0, 0, 0, 0.15);\n",
       "      filter: drop-shadow(0px 1px 2px rgba(0, 0, 0, 0.3));\n",
       "      fill: #FFFFFF;\n",
       "    }\n",
       "  </style>\n",
       "\n",
       "    <script>\n",
       "      const buttonEl =\n",
       "        document.querySelector('#df-7ca73bc8-3352-450a-ab2b-98a4d5aecc6f button.colab-df-convert');\n",
       "      buttonEl.style.display =\n",
       "        google.colab.kernel.accessAllowed ? 'block' : 'none';\n",
       "\n",
       "      async function convertToInteractive(key) {\n",
       "        const element = document.querySelector('#df-7ca73bc8-3352-450a-ab2b-98a4d5aecc6f');\n",
       "        const dataTable =\n",
       "          await google.colab.kernel.invokeFunction('convertToInteractive',\n",
       "                                                    [key], {});\n",
       "        if (!dataTable) return;\n",
       "\n",
       "        const docLinkHtml = 'Like what you see? Visit the ' +\n",
       "          '<a target=\"_blank\" href=https://colab.research.google.com/notebooks/data_table.ipynb>data table notebook</a>'\n",
       "          + ' to learn more about interactive tables.';\n",
       "        element.innerHTML = '';\n",
       "        dataTable['output_type'] = 'display_data';\n",
       "        await google.colab.output.renderOutput(dataTable, element);\n",
       "        const docLink = document.createElement('div');\n",
       "        docLink.innerHTML = docLinkHtml;\n",
       "        element.appendChild(docLink);\n",
       "      }\n",
       "    </script>\n",
       "  </div>\n",
       "\n",
       "    </div>\n",
       "  </div>\n"
      ],
      "application/vnd.google.colaboratory.intrinsic+json": {
       "type": "dataframe",
       "repr_error": "Out of range float values are not JSON compliant: nan"
      }
     },
     "metadata": {},
     "execution_count": 18
    }
   ],
   "source": [
    "train[train['OriginalTweet'].apply(lambda x: 'your_good_word_here' in x) & (train['Sentiment'] == 1)]"
   ]
  },
  {
   "cell_type": "code",
   "source": [
    "# -- YOUR CODE HERE --"
   ],
   "metadata": {
    "id": "jSjbKPCWk87K"
   },
   "execution_count": null,
   "outputs": []
  },
  {
   "cell_type": "markdown",
   "metadata": {
    "id": "JTv9ST2_U6NA"
   },
   "source": [
    "**Ответ:** # -- YOUR ANSWER HERE --"
   ]
  },
  {
   "cell_type": "markdown",
   "metadata": {
    "id": "JVEuZm8BHms6"
   },
   "source": [
    "## Задание 4 Обучение первых моделей (1 балл)"
   ]
  },
  {
   "cell_type": "markdown",
   "metadata": {
    "id": "JADkO3sfXdOG"
   },
   "source": [
    "Примените оба векторайзера для получения матриц с признаками текстов.  Выделите целевую переменную."
   ]
  },
  {
   "cell_type": "code",
   "execution_count": null,
   "metadata": {
    "id": "DguoiXhCX2oN"
   },
   "outputs": [],
   "source": [
    "# -- YOUR CODE HERE --"
   ]
  },
  {
   "cell_type": "markdown",
   "metadata": {
    "id": "_FX1KSOfYSx4"
   },
   "source": [
    "Обучите логистическую регрессию на векторах из обоих векторайзеров. Посчитайте долю правильных ответов на обучающих и тестовых данных. Какой векторайзер показал лучший результат? Что можно сказать о моделях?"
   ]
  },
  {
   "cell_type": "code",
   "execution_count": null,
   "metadata": {
    "id": "-Tb3eh8UXJ6v"
   },
   "outputs": [],
   "source": [
    "from sklearn.linear_model import LogisticRegression\n",
    "from sklearn.metrics import accuracy_score\n",
    "\n",
    "# -- YOUR CODE HERE --"
   ]
  },
  {
   "cell_type": "markdown",
   "metadata": {
    "id": "8y_wO7rCmv7K"
   },
   "source": [
    "**Ответ:** # -- YOUR ANSWER HERE --"
   ]
  },
  {
   "cell_type": "markdown",
   "metadata": {
    "id": "rSOR1i3mjrys"
   },
   "source": [
    "## Задание 5 Стемминг (0.5 балла)"
   ]
  },
  {
   "cell_type": "markdown",
   "metadata": {
    "id": "i6ONBWNPjuq-"
   },
   "source": [
    "Для уменьшения словаря можно использовать стемминг.\n",
    "\n",
    "Модифицируйте написанный токенайзер, добавив в него стемминг с использованием SnowballStemmer. Обучите Count- и Tfidf- векторайзеры. Как изменился размер словаря?"
   ]
  },
  {
   "cell_type": "code",
   "execution_count": null,
   "metadata": {
    "id": "oVfA2-iMkQBb"
   },
   "outputs": [],
   "source": [
    "def custom_stem_tokenizer(text):\n",
    "    # -- YOUR CODE HERE --\n",
    "    return tokens"
   ]
  },
  {
   "cell_type": "code",
   "execution_count": null,
   "metadata": {
    "colab": {
     "base_uri": "https://localhost:8080/"
    },
    "id": "9QmrjYtqnlPd",
    "outputId": "cd91291d-9676-4611-9fc4-28afaed58963"
   },
   "outputs": [
    {
     "output_type": "execute_result",
     "data": {
      "text/plain": [
       "['sampl', 'text', '@sample_text', '#sampletext', 'ad', 'word', 'check', 'stem']"
      ]
     },
     "metadata": {},
     "execution_count": 20
    }
   ],
   "source": [
    "custom_stem_tokenizer(\n",
    "    'This is sample text!!!! @Sample_text I, \\x92\\x92 https://t.co/sample  #sampletext adding more words to check stemming')"
   ]
  },
  {
   "cell_type": "code",
   "execution_count": null,
   "metadata": {
    "colab": {
     "base_uri": "https://localhost:8080/"
    },
    "id": "zAvUTmaplzOS",
    "outputId": "566207fe-183b-4ed6-d333-f86f0cc9ae38"
   },
   "outputs": [
    {
     "output_type": "stream",
     "name": "stdout",
     "text": [
      "36652\n"
     ]
    }
   ],
   "source": [
    "cv = CountVectorizer  # -- YOUR CODE HERE --\n",
    "\n",
    "print(len(cv.vocabulary_))"
   ]
  },
  {
   "cell_type": "markdown",
   "metadata": {
    "id": "Oyzs5TaAoHP6"
   },
   "source": [
    "**Ответ** # -- YOUR ANSWER HERE --"
   ]
  },
  {
   "cell_type": "markdown",
   "metadata": {
    "id": "1OkncHI8oRmd"
   },
   "source": [
    "Обучите логистическую регрессию с использованием обоих векторайзеров. Изменилось ли качество? Есть ли смысл применять стемминг?"
   ]
  },
  {
   "cell_type": "code",
   "execution_count": null,
   "metadata": {
    "id": "ykZJPphEoZ5W"
   },
   "outputs": [],
   "source": [
    "# -- YOUR CODE HERE --"
   ]
  },
  {
   "cell_type": "markdown",
   "metadata": {
    "id": "bCRlrODro0h8"
   },
   "source": [
    "**Ответ:** # -- YOUR ANSWER HERE --"
   ]
  },
  {
   "cell_type": "markdown",
   "metadata": {
    "id": "hYWGQNEDqLC-"
   },
   "source": [
    "## Задание  6 Работа с частотами (1.5 балла)"
   ]
  },
  {
   "cell_type": "markdown",
   "metadata": {
    "id": "8Hq-tl5mqUSn"
   },
   "source": [
    "Еще один способ уменьшить количество признаков - это использовать параметры min_df и max_df при построении векторайзера  эти параметры помогают ограничить требуемую частоту встречаемости токена в документах.\n",
    "\n",
    "По умолчанию берутся все токены, которые встретились хотя бы один раз.\n",
    "\n"
   ]
  },
  {
   "cell_type": "markdown",
   "metadata": {
    "id": "m1SiD4DE3WZ2"
   },
   "source": [
    "Подберите max_df такой, что размер словаря будет 36651 (на 1 меньше, чем было). Почему параметр получился такой большой/маленький?"
   ]
  },
  {
   "cell_type": "code",
   "source": [
    "cv_df = CountVectorizer(tokenizer=custom_stem_tokenizer,\n",
    "                        max_df=  # -- YOUR CODE HERE --\n",
    "                        ).fit(\n",
    "    # -- YOUR CODE HERE --\n",
    ")\n",
    "print(len(cv_df.vocabulary_))"
   ],
   "metadata": {
    "colab": {
     "base_uri": "https://localhost:8080/"
    },
    "id": "o3YLb8PViExb",
    "outputId": "b6d67654-d232-4e11-a5ca-6f2145053e98"
   },
   "execution_count": null,
   "outputs": [
    {
     "output_type": "stream",
     "name": "stdout",
     "text": [
      "36651\n"
     ]
    }
   ]
  },
  {
   "cell_type": "code",
   "source": [
    "# -- YOUR CODE HERE --"
   ],
   "metadata": {
    "id": "tyEpkJUkjnuK"
   },
   "execution_count": null,
   "outputs": []
  },
  {
   "cell_type": "markdown",
   "metadata": {
    "id": "UdZYoGZR4UsA"
   },
   "source": [
    "**Ответ:** # -- YOUR ANSWER HERE --"
   ]
  },
  {
   "cell_type": "markdown",
   "metadata": {
    "id": "_gRIUaB1u32f"
   },
   "source": [
    "Подберите min_df (используйте дефолтное значение max_df) в CountVectorizer таким образом, чтобы размер словаря был 3700 токенов (при использовании токенайзера со стеммингом), а качество осталось таким же, как и было. Что можно сказать о результатах?"
   ]
  },
  {
   "cell_type": "code",
   "execution_count": null,
   "metadata": {
    "colab": {
     "base_uri": "https://localhost:8080/"
    },
    "id": "kSnMJkn9XmsT",
    "outputId": "e0d8eb21-e5d7-46b4-e1d1-4b1ae220e9a0"
   },
   "outputs": [
    {
     "output_type": "stream",
     "name": "stdout",
     "text": [
      "3700\n"
     ]
    }
   ],
   "source": [
    "cv_df = CountVectorizer(tokenizer=custom_stem_tokenizer,\n",
    "                        min_df=  # -- YOUR CODE HERE --\n",
    "                        ).fit(\n",
    "    # -- YOUR CODE HERE --\n",
    ")\n",
    "print(len(cv_df.vocabulary_))"
   ]
  },
  {
   "cell_type": "code",
   "source": [
    "# -- YOUR CODE HERE --"
   ],
   "metadata": {
    "id": "mvMDwpdfjm8Y"
   },
   "execution_count": null,
   "outputs": []
  },
  {
   "cell_type": "markdown",
   "metadata": {
    "id": "3fGYpUIZx0fk"
   },
   "source": [
    "**Ответ:** # -- YOUR ANSWER HERE --"
   ]
  },
  {
   "cell_type": "markdown",
   "source": [
    "В предыдущих заданиях признаки не скалировались. Отскалируйте данные (при словаре размера 3.7 тысяч, векторизованные CountVectorizer), обучите логистическую регрессию, посмотрите качество и выведите `berplot` содержащий по 10 токенов, с наибольшим по модулю положительными/отрицательными весами. Что можно сказать об этих токенах?"
   ],
   "metadata": {
    "id": "Gx_h_-inKbBl"
   }
  },
  {
   "cell_type": "code",
   "source": [
    "from sklearn.preprocessing import StandardScaler\n",
    "# -- YOUR CODE HERE --"
   ],
   "metadata": {
    "id": "KBATXJX6LG9q"
   },
   "execution_count": null,
   "outputs": []
  },
  {
   "cell_type": "markdown",
   "source": [
    "**Ответ:** # -- YOUR ANSWER HERE --"
   ],
   "metadata": {
    "id": "ThcEfzY1LHET"
   }
  },
  {
   "cell_type": "markdown",
   "metadata": {
    "id": "ktJVOdrIHq7B"
   },
   "source": [
    "## Задание 7 Другие признаки (1.5 балла)"
   ]
  },
  {
   "cell_type": "markdown",
   "metadata": {
    "id": "Yt3jRCZ2H0Og"
   },
   "source": [
    "Мы были сконцентрированы на работе с текстами твиттов и не использовали другие признаки - имена пользователя, дату и местоположение"
   ]
  },
  {
   "cell_type": "markdown",
   "metadata": {
    "id": "52wjewCCo_di"
   },
   "source": [
    "Изучите признаки UserName и ScreenName. полезны ли они? Если полезны, то закодируйте их, добавьте к матрице с отскалированными признаками, обучите логистическую регрессию, замерьте качество."
   ]
  },
  {
   "cell_type": "code",
   "execution_count": null,
   "metadata": {
    "id": "63thouYZptj6"
   },
   "outputs": [],
   "source": [
    "# -- YOUR CODE HERE --"
   ]
  },
  {
   "cell_type": "markdown",
   "metadata": {
    "id": "r8_qR-gnpT3a"
   },
   "source": [
    "**Ответ:** # -- YOUR ANSWER HERE --"
   ]
  },
  {
   "cell_type": "markdown",
   "metadata": {
    "id": "ythEcFSkt7y3"
   },
   "source": [
    "Изучите признак TweetAt в обучающей выборке: преобразуйте его к типу datetime и нарисуйте его гистограмму с разделением по цвету на оспнове целевой переменной. Полезен ли он? Если полезен, то закодируйте его, добавьте к матрице с отскалированными признаками, обучите логистическую регрессию, замерьте качество."
   ]
  },
  {
   "cell_type": "code",
   "source": [
    "# -- YOUR CODE HERE --"
   ],
   "metadata": {
    "id": "Lxb_k0JLirNv"
   },
   "execution_count": null,
   "outputs": []
  },
  {
   "cell_type": "markdown",
   "metadata": {
    "id": "4IdLBdpQxM-G"
   },
   "source": [
    "**Ответ:** # -- YOUR ANSWER HERE --\n",
    "\n"
   ]
  },
  {
   "cell_type": "markdown",
   "source": [
    "Поработайте с признаком Location в обучающей выборке. Сколько уникальных значений?"
   ],
   "metadata": {
    "id": "r2JtRPhNP6qx"
   }
  },
  {
   "cell_type": "code",
   "source": [
    "# -- YOUR CODE HERE --"
   ],
   "metadata": {
    "id": "xYQZQ1FRNpoe"
   },
   "execution_count": null,
   "outputs": []
  },
  {
   "cell_type": "markdown",
   "source": [
    "Постройте гистограмму топ-10 по популярности местоположений (исключая Unknown)"
   ],
   "metadata": {
    "id": "6k4JwpRTQISa"
   }
  },
  {
   "cell_type": "code",
   "source": [
    "# -- YOUR CODE HERE --"
   ],
   "metadata": {
    "id": "J91YkhegJ0mz"
   },
   "execution_count": null,
   "outputs": []
  },
  {
   "cell_type": "markdown",
   "source": [
    "Видно, что многие местоположения включают в себя более точное название места, чем другие (Например, у некоторых стоит London, UK; а у некоторых просто UK или United Kingdom).\n",
    "\n",
    "Создайте новый признак WiderLocation, который содержит самое широкое местоположение (например, из London, UK должно получиться UK). Сколько уникальных категорий теперь? Постройте аналогичную гистограмму."
   ],
   "metadata": {
    "id": "ZOsv3lODTfYB"
   }
  },
  {
   "cell_type": "code",
   "source": [
    "# -- YOUR CODE HERE --"
   ],
   "metadata": {
    "id": "mSkow6acOMyD"
   },
   "execution_count": null,
   "outputs": []
  },
  {
   "cell_type": "markdown",
   "source": [
    "Закодируйте признак WiderLocation с помощью OHE таким образом, чтобы создались только столбцы для местоположений, которые встречаются более одного раза. Сколько таких значений?\n"
   ],
   "metadata": {
    "id": "cgyWrD2eVfff"
   }
  },
  {
   "cell_type": "code",
   "source": [
    "# -- YOUR CODE HERE --"
   ],
   "metadata": {
    "id": "SeJBfBWgPvg_"
   },
   "execution_count": null,
   "outputs": []
  },
  {
   "cell_type": "markdown",
   "source": [
    "Добавьте этот признак к матрице отскалированных текстовых признаков, обучите логистическую регрессию, замерьте качество. Как оно изменилось? Оказался ли признак полезным?\n",
    "\n",
    "\n",
    "*Подсказка:* используйте параметр `categories` в энкодере."
   ],
   "metadata": {
    "id": "ZyMX5kZuimPK"
   }
  },
  {
   "cell_type": "code",
   "source": [
    "# -- YOUR CODE HERE --"
   ],
   "metadata": {
    "id": "EO1jNPeeim7A"
   },
   "execution_count": null,
   "outputs": []
  },
  {
   "cell_type": "markdown",
   "source": [
    "**Ответ:** # -- YOUR ANSWER HERE --"
   ],
   "metadata": {
    "id": "7dHsGlDRYUQt"
   }
  },
  {
   "cell_type": "markdown",
   "source": [
    "## Задание 8 Хорошее качество (Бонус 1 балл)"
   ],
   "metadata": {
    "id": "IWn6h4W9eD3S"
   }
  },
  {
   "cell_type": "markdown",
   "source": [
    "Добейтесь accuracy=0.9 на тестовой выборке (можно сменить токенайзер, векторайзер, модель и т.д.)"
   ],
   "metadata": {
    "id": "-HDI0SU6eLgi"
   }
  },
  {
   "cell_type": "code",
   "source": [
    "# -- YOUR CODE HERE --"
   ],
   "metadata": {
    "id": "k3WMbE8edhlW"
   },
   "execution_count": null,
   "outputs": []
  }
 ],
 "metadata": {
  "colab": {
   "provenance": [],
   "toc_visible": true
  },
  "kernelspec": {
   "name": "python3",
   "language": "python",
   "display_name": "Python 3 (ipykernel)"
  },
  "language_info": {
   "name": "python"
  }
 },
 "nbformat": 4,
 "nbformat_minor": 0
}
