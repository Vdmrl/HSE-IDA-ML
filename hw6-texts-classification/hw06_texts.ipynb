{
 "cells": [
  {
   "cell_type": "markdown",
   "metadata": {
    "id": "Ffq6A2-ifzAA"
   },
   "source": [
    "# Интеллектуальный анализ данных – весна 2024\n",
    "# Домашнее задание 6: классификация текстов"
   ]
  },
  {
   "cell_type": "markdown",
   "source": [
    "Правила:\n",
    "\n",
    "\n",
    "\n",
    "*   Домашнее задание оценивается в 10 баллов.\n",
    "*   Можно использовать без доказательства любые результаты, встречавшиеся на лекциях или семинарах по курсу, если получение этих результатов не является вопросом задания.\n",
    "*  Можно использовать любые свободные источники с *обязательным* указанием ссылки на них.\n",
    "*  Плагиат не допускается. При обнаружении случаев списывания, 0 за работу выставляется всем участникам нарушения, даже если можно установить, кто у кого списал.\n",
    "*  Старайтесь сделать код как можно более оптимальным. В частности, будет штрафоваться использование циклов в тех случаях, когда операцию можно совершить при помощи инструментов библиотек, о которых рассказывалось в курсе."
   ],
   "metadata": {
    "id": "EPcxtekTA1Sm"
   }
  },
  {
   "cell_type": "markdown",
   "metadata": {
    "id": "itRtFtrOf0_b"
   },
   "source": [
    "В этом домашнем задании вам предстоит построить классификатор текстов.\n",
    "\n",
    "Будем предсказывать эмоциональную окраску твиттов о коронавирусе.\n",
    "\n"
   ]
  },
  {
   "cell_type": "code",
   "execution_count": 1,
   "metadata": {
    "id": "tNGRVO7_g9mz",
    "ExecuteTime": {
     "end_time": "2024-05-10T13:40:17.233755Z",
     "start_time": "2024-05-10T13:40:17.230055Z"
    }
   },
   "outputs": [],
   "source": [
    "import numpy as np\n",
    "import pandas as pd\n",
    "from typing import List\n",
    "import matplotlib.pyplot as plt\n",
    "import seaborn as sns\n",
    "from string import punctuation\n",
    "import warnings\n",
    "\n",
    "warnings.filterwarnings(\"ignore\")"
   ]
  },
  {
   "cell_type": "code",
   "execution_count": 2,
   "metadata": {
    "id": "zOy8iHJQg_Ss",
    "colab": {
     "base_uri": "https://localhost:8080/",
     "height": 174
    },
    "outputId": "01951c93-1976-4fd2-b432-f9ec217dbd17",
    "ExecuteTime": {
     "end_time": "2024-05-10T13:40:18.588869Z",
     "start_time": "2024-05-10T13:40:17.234764Z"
    }
   },
   "outputs": [
    {
     "data": {
      "text/plain": "       UserName  ScreenName                  Location     TweetAt  \\\n9233      15003       59955              Richmond, BC  20-03-2020   \n25831     35436       80388       Linn, Missouri, USA  07-04-2020   \n333        4208       49160  Central African Republic  16-03-2020   \n31214     42195       87147                       NaN  11-04-2020   \n\n                                           OriginalTweet           Sentiment  \n9233   Cool #daffodils are blooming! Come and get som...  Extremely Positive  \n25831  While oil prices plummet as does natural gas n...            Positive  \n333    \"In Gabon, pangolin sales falter with Covid-19...            Positive  \n31214  So, because of the KARACHI, store can not rest...            Negative  ",
      "text/html": "<div>\n<style scoped>\n    .dataframe tbody tr th:only-of-type {\n        vertical-align: middle;\n    }\n\n    .dataframe tbody tr th {\n        vertical-align: top;\n    }\n\n    .dataframe thead th {\n        text-align: right;\n    }\n</style>\n<table border=\"1\" class=\"dataframe\">\n  <thead>\n    <tr style=\"text-align: right;\">\n      <th></th>\n      <th>UserName</th>\n      <th>ScreenName</th>\n      <th>Location</th>\n      <th>TweetAt</th>\n      <th>OriginalTweet</th>\n      <th>Sentiment</th>\n    </tr>\n  </thead>\n  <tbody>\n    <tr>\n      <th>9233</th>\n      <td>15003</td>\n      <td>59955</td>\n      <td>Richmond, BC</td>\n      <td>20-03-2020</td>\n      <td>Cool #daffodils are blooming! Come and get som...</td>\n      <td>Extremely Positive</td>\n    </tr>\n    <tr>\n      <th>25831</th>\n      <td>35436</td>\n      <td>80388</td>\n      <td>Linn, Missouri, USA</td>\n      <td>07-04-2020</td>\n      <td>While oil prices plummet as does natural gas n...</td>\n      <td>Positive</td>\n    </tr>\n    <tr>\n      <th>333</th>\n      <td>4208</td>\n      <td>49160</td>\n      <td>Central African Republic</td>\n      <td>16-03-2020</td>\n      <td>\"In Gabon, pangolin sales falter with Covid-19...</td>\n      <td>Positive</td>\n    </tr>\n    <tr>\n      <th>31214</th>\n      <td>42195</td>\n      <td>87147</td>\n      <td>NaN</td>\n      <td>11-04-2020</td>\n      <td>So, because of the KARACHI, store can not rest...</td>\n      <td>Negative</td>\n    </tr>\n  </tbody>\n</table>\n</div>"
     },
     "execution_count": 2,
     "metadata": {},
     "output_type": "execute_result"
    }
   ],
   "source": [
    "df = pd.read_csv(\n",
    "    'https://raw.githubusercontent.com/hse-ds/iad-intro-ds/master/2024/homeworks/hw06_texts/tweets_coronavirus.csv',\n",
    "    encoding='latin-1')\n",
    "df.sample(4)"
   ]
  },
  {
   "cell_type": "markdown",
   "metadata": {
    "id": "m2OiDog9ZBlS"
   },
   "source": [
    "Для каждого твитта указано:\n",
    "\n",
    "\n",
    "*   UserName - имя пользователя, заменено на целое число для анонимности\n",
    "*   ScreenName - отображающееся имя пользователя, заменено на целое число для анонимности\n",
    "*   Location - местоположение\n",
    "*   TweetAt - дата создания твитта\n",
    "*   OriginalTweet - текст твитта\n",
    "*   Sentiment - эмоциональная окраска твитта (целевая переменная)\n",
    "\n"
   ]
  },
  {
   "cell_type": "markdown",
   "metadata": {
    "id": "pZTMseDkhTC7"
   },
   "source": [
    "## Задание 1 Подготовка (0.5 балла)"
   ]
  },
  {
   "cell_type": "markdown",
   "metadata": {
    "id": "Xx2-odn9hdAW"
   },
   "source": [
    "Целевая переменная находится в колонке `Sentiment`.  Преобразуйте ее таким образом, чтобы она стала бинарной: 1 - если у твитта положительная эмоциональная окраска и 0 - если отрицательная."
   ]
  },
  {
   "cell_type": "code",
   "execution_count": 3,
   "metadata": {
    "id": "ZaQKQ1zEjP15",
    "ExecuteTime": {
     "end_time": "2024-05-10T13:40:18.612675Z",
     "start_time": "2024-05-10T13:40:18.589877Z"
    }
   },
   "outputs": [
    {
     "data": {
      "text/plain": "       UserName  ScreenName       Location     TweetAt  \\\n12637     19118       64070   Waukee, Iowa  22-03-2020   \n27310     37294       82246  San Diego, CA  08-04-2020   \n27865     37965       82917      Miami, FL  08-04-2020   \n27724     37781       82733     New Mexico  08-04-2020   \n\n                                           OriginalTweet  Sentiment  \n12637  @IAGovernor Shut It Down.. us as many people a...          0  \n27310  Thank you all grocery store workers your work ...          1  \n27865  Remember price gouging during a state of emerg...          0  \n27724  Coronavirus update Pelosi says US must move to...          1  ",
      "text/html": "<div>\n<style scoped>\n    .dataframe tbody tr th:only-of-type {\n        vertical-align: middle;\n    }\n\n    .dataframe tbody tr th {\n        vertical-align: top;\n    }\n\n    .dataframe thead th {\n        text-align: right;\n    }\n</style>\n<table border=\"1\" class=\"dataframe\">\n  <thead>\n    <tr style=\"text-align: right;\">\n      <th></th>\n      <th>UserName</th>\n      <th>ScreenName</th>\n      <th>Location</th>\n      <th>TweetAt</th>\n      <th>OriginalTweet</th>\n      <th>Sentiment</th>\n    </tr>\n  </thead>\n  <tbody>\n    <tr>\n      <th>12637</th>\n      <td>19118</td>\n      <td>64070</td>\n      <td>Waukee, Iowa</td>\n      <td>22-03-2020</td>\n      <td>@IAGovernor Shut It Down.. us as many people a...</td>\n      <td>0</td>\n    </tr>\n    <tr>\n      <th>27310</th>\n      <td>37294</td>\n      <td>82246</td>\n      <td>San Diego, CA</td>\n      <td>08-04-2020</td>\n      <td>Thank you all grocery store workers your work ...</td>\n      <td>1</td>\n    </tr>\n    <tr>\n      <th>27865</th>\n      <td>37965</td>\n      <td>82917</td>\n      <td>Miami, FL</td>\n      <td>08-04-2020</td>\n      <td>Remember price gouging during a state of emerg...</td>\n      <td>0</td>\n    </tr>\n    <tr>\n      <th>27724</th>\n      <td>37781</td>\n      <td>82733</td>\n      <td>New Mexico</td>\n      <td>08-04-2020</td>\n      <td>Coronavirus update Pelosi says US must move to...</td>\n      <td>1</td>\n    </tr>\n  </tbody>\n</table>\n</div>"
     },
     "execution_count": 3,
     "metadata": {},
     "output_type": "execute_result"
    }
   ],
   "source": [
    "df[\"Sentiment\"] = df[\"Sentiment\"].replace(\n",
    "    {\"Positive\": 1, \"Extremely Positive\": 1, \"Negative\": 0, \"Extremely Negative\": 0})\n",
    "df.sample(4)"
   ]
  },
  {
   "cell_type": "markdown",
   "metadata": {
    "id": "pGq1FxJ-kBo5"
   },
   "source": [
    "Сбалансированы ли классы?"
   ]
  },
  {
   "cell_type": "code",
   "execution_count": 4,
   "metadata": {
    "id": "a7gdNtxckK5V",
    "ExecuteTime": {
     "end_time": "2024-05-10T13:40:18.621362Z",
     "start_time": "2024-05-10T13:40:18.613684Z"
    }
   },
   "outputs": [
    {
     "name": "stdout",
     "output_type": "stream",
     "text": [
      "Положительная окраска 18046\n",
      "Отрицательная окраска 15398\n"
     ]
    }
   ],
   "source": [
    "print(f\"Положительная окраска {(df[\"Sentiment\"] == 1).sum(axis=0)}\")\n",
    "print(f\"Отрицательная окраска {(df[\"Sentiment\"] == 0).sum(axis=0)}\")\n",
    "# Не идеально, но сбалансированные. 17 процентов разницы между классами должно быть нормально"
   ]
  },
  {
   "cell_type": "markdown",
   "metadata": {
    "id": "Ng8BCelMkWb0"
   },
   "source": [
    "**Ответ:** Не идеально, но сбалансированные. 17 процентов разницы между классами должно быть нормально-"
   ]
  },
  {
   "cell_type": "markdown",
   "metadata": {
    "id": "qmSIBSsLk5Zz"
   },
   "source": [
    "Выведете на экран информацию о пропусках в данных. Если пропуски присутствуют заполните их строкой 'Unknown'."
   ]
  },
  {
   "cell_type": "code",
   "execution_count": 5,
   "metadata": {
    "id": "UhUVRkR5kxa7",
    "ExecuteTime": {
     "end_time": "2024-05-10T13:40:18.659545Z",
     "start_time": "2024-05-10T13:40:18.622370Z"
    }
   },
   "outputs": [
    {
     "data": {
      "text/plain": "UserName            0\nScreenName          0\nLocation         7049\nTweetAt             0\nOriginalTweet       0\nSentiment           0\ndtype: int64"
     },
     "metadata": {},
     "output_type": "display_data"
    },
    {
     "data": {
      "text/plain": "UserName         0\nScreenName       0\nLocation         0\nTweetAt          0\nOriginalTweet    0\nSentiment        0\ndtype: int64"
     },
     "metadata": {},
     "output_type": "display_data"
    }
   ],
   "source": [
    "display(df.isnull().sum())\n",
    "# Есть пропуски в столбце местоположения (Location)\n",
    "df = df.fillna(\"Unknown\")\n",
    "display(df.isnull().sum())"
   ]
  },
  {
   "cell_type": "markdown",
   "metadata": {
    "id": "1tzt27tfjUpq"
   },
   "source": [
    "Разделите данные на обучающие и тестовые в соотношении 7 : 3 и `random_state=0`"
   ]
  },
  {
   "cell_type": "code",
   "execution_count": 6,
   "metadata": {
    "id": "xSLOA9tIj9Z6",
    "ExecuteTime": {
     "end_time": "2024-05-10T13:40:18.947469Z",
     "start_time": "2024-05-10T13:40:18.661557Z"
    }
   },
   "outputs": [
    {
     "data": {
      "text/plain": "       UserName  ScreenName Location     TweetAt  \\\n22228     30950       75902  Unknown  03-04-2020   \n12559     19024       63976  Detroit  22-03-2020   \n3472       8015       52967  Unknown  18-03-2020   \n20099     28305       73257    Earth  26-03-2020   \n\n                                           OriginalTweet  \n22228  We see team medical profs 1st responders truck...  \n12559  Probably one of the most important #websites o...  \n3472   @Egoli170 For more information on COVID-19, co...  \n20099  19 Get protected  face masks on stock regular ...  ",
      "text/html": "<div>\n<style scoped>\n    .dataframe tbody tr th:only-of-type {\n        vertical-align: middle;\n    }\n\n    .dataframe tbody tr th {\n        vertical-align: top;\n    }\n\n    .dataframe thead th {\n        text-align: right;\n    }\n</style>\n<table border=\"1\" class=\"dataframe\">\n  <thead>\n    <tr style=\"text-align: right;\">\n      <th></th>\n      <th>UserName</th>\n      <th>ScreenName</th>\n      <th>Location</th>\n      <th>TweetAt</th>\n      <th>OriginalTweet</th>\n    </tr>\n  </thead>\n  <tbody>\n    <tr>\n      <th>22228</th>\n      <td>30950</td>\n      <td>75902</td>\n      <td>Unknown</td>\n      <td>03-04-2020</td>\n      <td>We see team medical profs 1st responders truck...</td>\n    </tr>\n    <tr>\n      <th>12559</th>\n      <td>19024</td>\n      <td>63976</td>\n      <td>Detroit</td>\n      <td>22-03-2020</td>\n      <td>Probably one of the most important #websites o...</td>\n    </tr>\n    <tr>\n      <th>3472</th>\n      <td>8015</td>\n      <td>52967</td>\n      <td>Unknown</td>\n      <td>18-03-2020</td>\n      <td>@Egoli170 For more information on COVID-19, co...</td>\n    </tr>\n    <tr>\n      <th>20099</th>\n      <td>28305</td>\n      <td>73257</td>\n      <td>Earth</td>\n      <td>26-03-2020</td>\n      <td>19 Get protected  face masks on stock regular ...</td>\n    </tr>\n  </tbody>\n</table>\n</div>"
     },
     "metadata": {},
     "output_type": "display_data"
    },
    {
     "data": {
      "text/plain": "       UserName  ScreenName                 Location     TweetAt  \\\n19647     27722       72674              Deutschland  26-03-2020   \n32739     44069       89021               WORLDWIDE   13-04-2020   \n1247       5311       50263              El Paso, TX  17-03-2020   \n10520     16561       61513  Sydney, New South Wales  21-03-2020   \n\n                                           OriginalTweet  \n19647  A senior economist from the United Nation's (U...  \n32739  Measures to slow the spread of the #coronaviru...  \n1247   Ya'll, I'm braving the grocery store after wor...  \n10520  Do not go on social media if you are: \\r\\r\\n- ...  ",
      "text/html": "<div>\n<style scoped>\n    .dataframe tbody tr th:only-of-type {\n        vertical-align: middle;\n    }\n\n    .dataframe tbody tr th {\n        vertical-align: top;\n    }\n\n    .dataframe thead th {\n        text-align: right;\n    }\n</style>\n<table border=\"1\" class=\"dataframe\">\n  <thead>\n    <tr style=\"text-align: right;\">\n      <th></th>\n      <th>UserName</th>\n      <th>ScreenName</th>\n      <th>Location</th>\n      <th>TweetAt</th>\n      <th>OriginalTweet</th>\n    </tr>\n  </thead>\n  <tbody>\n    <tr>\n      <th>19647</th>\n      <td>27722</td>\n      <td>72674</td>\n      <td>Deutschland</td>\n      <td>26-03-2020</td>\n      <td>A senior economist from the United Nation's (U...</td>\n    </tr>\n    <tr>\n      <th>32739</th>\n      <td>44069</td>\n      <td>89021</td>\n      <td>WORLDWIDE</td>\n      <td>13-04-2020</td>\n      <td>Measures to slow the spread of the #coronaviru...</td>\n    </tr>\n    <tr>\n      <th>1247</th>\n      <td>5311</td>\n      <td>50263</td>\n      <td>El Paso, TX</td>\n      <td>17-03-2020</td>\n      <td>Ya'll, I'm braving the grocery store after wor...</td>\n    </tr>\n    <tr>\n      <th>10520</th>\n      <td>16561</td>\n      <td>61513</td>\n      <td>Sydney, New South Wales</td>\n      <td>21-03-2020</td>\n      <td>Do not go on social media if you are: \\r\\r\\n- ...</td>\n    </tr>\n  </tbody>\n</table>\n</div>"
     },
     "metadata": {},
     "output_type": "display_data"
    },
    {
     "data": {
      "text/plain": "5515     1\n15836    0\n17091    1\n21039    0\nName: Sentiment, dtype: int64"
     },
     "metadata": {},
     "output_type": "display_data"
    },
    {
     "name": "stdout",
     "output_type": "stream",
     "text": [
      "Положительная окраска 12564\n",
      "Отрицательная окраска 10846\n"
     ]
    },
    {
     "data": {
      "text/plain": "6853     1\n26921    1\n14276    1\n3368     0\nName: Sentiment, dtype: int64"
     },
     "metadata": {},
     "output_type": "display_data"
    },
    {
     "name": "stdout",
     "output_type": "stream",
     "text": [
      "Положительная окраска 5482\n",
      "Отрицательная окраска 4552\n"
     ]
    }
   ],
   "source": [
    "from sklearn.model_selection import train_test_split\n",
    "\n",
    "X_train, X_test, y_train, y_test = train_test_split(df.drop([\"Sentiment\"], axis=1), df[\"Sentiment\"], test_size=0.3,\n",
    "                                                    random_state=0)\n",
    "#stratify=df[\"Sentiment\"] убрал стратифай, так как про него не сказано. Но стоило бы его добавить\n",
    "display(X_train.sample(4))\n",
    "display(X_test.sample(4))\n",
    "display(y_train.sample(4))\n",
    "print(f\"Положительная окраска {(y_train == 1).sum(axis=0)}\")  # убедиться, что стратифай оставляет баланс классов\n",
    "print(f\"Отрицательная окраска {(y_train == 0).sum(axis=0)}\")\n",
    "display(y_test.sample(4))\n",
    "print(f\"Положительная окраска {(y_test == 1).sum(axis=0)}\")\n",
    "print(f\"Отрицательная окраска {(y_test == 0).sum(axis=0)}\")"
   ]
  },
  {
   "cell_type": "markdown",
   "metadata": {
    "id": "J9RrPUsJlL60"
   },
   "source": [
    "## Задание 2 Токенизация (3 балла)"
   ]
  },
  {
   "cell_type": "markdown",
   "metadata": {
    "id": "2Dz_b7Xopc_R"
   },
   "source": [
    "Постройте словарь на основе обучающей выборки и посчитайте количество встреч каждого токена с использованием самой простой токенизации - деления текстов по пробельным символам и приведение токенов в нижний регистр"
   ]
  },
  {
   "cell_type": "markdown",
   "source": [],
   "metadata": {
    "collapsed": false
   }
  },
  {
   "cell_type": "code",
   "execution_count": 7,
   "metadata": {
    "id": "SFr67WOJphny",
    "ExecuteTime": {
     "end_time": "2024-05-10T13:40:19.278703Z",
     "start_time": "2024-05-10T13:40:18.948479Z"
    }
   },
   "outputs": [
    {
     "data": {
      "text/plain": "Counter({'the': 26815,\n         'to': 23373,\n         'and': 14684,\n         'of': 13012,\n         'a': 11737,\n         'in': 11198,\n         'for': 8566,\n         '#coronavirus': 8223,\n         'is': 7383,\n         'are': 7050,\n         'you': 5467,\n         'on': 5452,\n         'i': 5340,\n         'at': 4642,\n         'this': 4581,\n         'with': 4063,\n         'prices': 3891,\n         'food': 3820,\n         'we': 3787,\n         'have': 3770,\n         'that': 3741,\n         'as': 3694,\n         'be': 3570,\n         'grocery': 3469,\n         'supermarket': 3288,\n         'people': 3175,\n         'covid-19': 3173,\n         'store': 3155,\n         'it': 3150,\n         'from': 3045,\n         'all': 2808,\n         'your': 2784,\n         'will': 2726,\n         'not': 2714,\n         '#covid19': 2471,\n         'our': 2460,\n         'my': 2445,\n         '&amp;': 2314,\n         'they': 2309,\n         'has': 2304,\n         'consumer': 2245,\n         'by': 2236,\n         'or': 2234,\n         'can': 2202,\n         'but': 2159,\n         'if': 2142,\n         '19': 2111,\n         'out': 2026,\n         'more': 2008,\n         'up': 1987,\n         'their': 1972,\n         'during': 1908,\n         'no': 1898,\n         'how': 1850,\n         'so': 1837,\n         'covid': 1769,\n         'get': 1759,\n         'about': 1726,\n         'who': 1670,\n         '#covid_19': 1660,\n         'online': 1648,\n         'shopping': 1621,\n         'like': 1550,\n         'need': 1549,\n         'what': 1541,\n         'just': 1540,\n         'panic': 1495,\n         '-': 1429,\n         'an': 1417,\n         'was': 1384,\n         'hand': 1382,\n         'do': 1353,\n         'now': 1349,\n         'demand': 1345,\n         'when': 1343,\n         '?': 1320,\n         'some': 1320,\n         'help': 1282,\n         'us': 1247,\n         'go': 1245,\n         'workers': 1242,\n         'there': 1219,\n         'going': 1141,\n         'time': 1136,\n         's': 1108,\n         'been': 1081,\n         'one': 1074,\n         'sanitizer': 1064,\n         'stock': 1063,\n         'please': 1061,\n         'due': 1059,\n         'pandemic': 1026,\n         'coronavirus': 970,\n         'home': 959,\n         'these': 922,\n         'me': 920,\n         '#covid2019': 915,\n         'buying': 911,\n         'because': 902,\n         'oil': 900,\n         'stay': 895,\n         'than': 891,\n         'other': 890,\n         'after': 886,\n         'new': 885,\n         'should': 875,\n         'amp': 859,\n         'keep': 857,\n         'only': 851,\n         'being': 827,\n         'toilet': 824,\n         'local': 821,\n         'many': 819,\n         'work': 819,\n         'make': 811,\n         'them': 799,\n         'those': 789,\n         'over': 786,\n         'still': 763,\n         'see': 756,\n         'buy': 748,\n         'stop': 730,\n         'would': 730,\n         'crisis': 713,\n         'shelves': 709,\n         'take': 701,\n         '#toiletpaper': 691,\n         'via': 687,\n         'delivery': 686,\n         'even': 682,\n         'its': 674,\n         'here': 669,\n         'into': 666,\n         'supply': 662,\n         'had': 660,\n         'why': 654,\n         't': 648,\n         'stores': 648,\n         'know': 641,\n         'could': 640,\n         'while': 638,\n         'also': 635,\n         'any': 624,\n         'social': 615,\n         'retail': 610,\n         'down': 609,\n         'thank': 604,\n         'everyone': 600,\n         'working': 594,\n         'paper': 587,\n         'good': 586,\n         '2': 582,\n         'price': 581,\n         'use': 572,\n         \"it's\": 571,\n         'were': 566,\n         'amid': 556,\n         \"don't\": 551,\n         'most': 548,\n         'think': 545,\n         'health': 540,\n         'he': 533,\n         'may': 525,\n         'today': 524,\n         'day': 521,\n         'staff': 521,\n         'spread': 514,\n         'every': 509,\n         'doing': 508,\n         'which': 504,\n         'essential': 496,\n         'want': 487,\n         'safe': 487,\n         'way': 484,\n         'much': 482,\n         '??': 482,\n         'virus': 480,\n         'support': 477,\n         'first': 475,\n         'off': 472,\n         'shop': 471,\n         'government': 468,\n         'free': 467,\n         'covid-19.': 465,\n         'market': 463,\n         'last': 462,\n         'itã\\x82â\\x92s': 459,\n         'where': 456,\n         'right': 455,\n         '.': 454,\n         'customers': 451,\n         'business': 445,\n         'global': 444,\n         'masks': 442,\n         'items': 439,\n         'impact': 438,\n         'world': 437,\n         'then': 435,\n         'before': 433,\n         'find': 431,\n         'back': 430,\n         'products': 427,\n         'through': 427,\n         '#socialdistancing': 427,\n         'am': 424,\n         '#coronacrisis': 423,\n         'read': 420,\n         'very': 418,\n         '#covid?19': 418,\n         'getting': 415,\n         'employees': 415,\n         'donã\\x82â\\x92t': 414,\n         'iã\\x82â\\x92m': 414,\n         'outbreak': 412,\n         'great': 409,\n         'high': 408,\n         'got': 407,\n         'empty': 407,\n         'low': 407,\n         'making': 404,\n         'face': 402,\n         'care': 401,\n         'really': 400,\n         'risk': 397,\n         \"i'm\": 397,\n         'week': 396,\n         'companies': 393,\n         'around': 391,\n         'supplies': 387,\n         'public': 386,\n         'said': 386,\n         'went': 378,\n         'her': 377,\n         'his': 377,\n         'times': 372,\n         'since': 369,\n         'says': 369,\n         '3': 364,\n         'gas': 361,\n         'she': 361,\n         'say': 350,\n         'taking': 349,\n         'store.': 348,\n         'increase': 348,\n         'next': 347,\n         'against': 347,\n         'well': 346,\n         'look': 344,\n         'businesses': 342,\n         'put': 342,\n         'protect': 340,\n         '1': 340,\n         'enough': 337,\n         'order': 337,\n         'things': 336,\n         'prices.': 332,\n         'two': 331,\n         'fight': 330,\n         'mask': 330,\n         'supermarkets': 330,\n         'pay': 329,\n         're': 328,\n         'lockdown': 326,\n         'days': 325,\n         'long': 323,\n         'anyone': 322,\n         'country': 321,\n         'across': 318,\n         'few': 317,\n         'increased': 317,\n         'best': 315,\n         'money': 315,\n         'weeks': 312,\n         'full': 312,\n         'covid-19,': 311,\n         'must': 309,\n         'consumers': 307,\n         'trying': 307,\n         'service': 305,\n         'distancing': 305,\n         'news': 304,\n         'hands': 303,\n         'medical': 303,\n         'never': 303,\n         'check': 302,\n         'without': 301,\n         'others': 300,\n         'come': 300,\n         'big': 296,\n         'economic': 292,\n         'line': 291,\n         'sure': 288,\n         'too': 288,\n         \"can't\": 286,\n         'open': 286,\n         'available': 285,\n         'give': 284,\n         'everything': 280,\n         'workers,': 280,\n         'uk': 280,\n         'shops': 279,\n         '|': 279,\n         'response': 278,\n         'let': 278,\n         'chain': 277,\n         'pandemic.': 277,\n         'needs': 276,\n         'call': 276,\n         'thanks': 275,\n         'vulnerable': 275,\n         'using': 272,\n         'such': 269,\n         'report': 268,\n         'avoid': 268,\n         'better': 267,\n         'emergency': 267,\n         'important': 266,\n         'already': 266,\n         'hope': 265,\n         'march': 265,\n         'services': 263,\n         'family': 263,\n         'hours': 263,\n         'lot': 262,\n         'continue': 261,\n         'made': 261,\n         'small': 260,\n         'each': 260,\n         'seen': 258,\n         'having': 257,\n         'same': 256,\n         'thing': 256,\n         'hard': 256,\n         'share': 254,\n         'don': 251,\n         'state': 250,\n         'close': 250,\n         'able': 249,\n         'per': 246,\n         'another': 246,\n         'elderly': 246,\n         'did': 245,\n         '#coronaviruspandemic': 245,\n         'economy': 244,\n         'life': 244,\n         'banks': 244,\n         'canã\\x82â\\x92t': 243,\n         'goods': 243,\n         'community': 243,\n         'job': 242,\n         'does': 241,\n         'under': 239,\n         'looking': 238,\n         'live': 236,\n         'drop': 235,\n         'own': 234,\n         'industry': 234,\n         'financial': 233,\n         '#pandemic': 232,\n         'front': 231,\n         'house': 231,\n         'positive': 231,\n         '#stayhome': 229,\n         'leave': 229,\n         'trump': 228,\n         '#coronavirus.': 228,\n         '4': 227,\n         'current': 226,\n         'someone': 226,\n         'part': 225,\n         'least': 222,\n         'selling': 222,\n         'learn': 220,\n         '#coronavirusoutbreak': 218,\n         'production': 217,\n         'scams': 217,\n         'told': 216,\n         'gloves': 216,\n         'coming': 216,\n         'real': 216,\n         'cases': 215,\n         'seeing': 214,\n         'healthcare': 214,\n         'safety': 214,\n         'cut': 214,\n         'hit': 214,\n         'u': 214,\n         'helping': 213,\n         'food.': 213,\n         'less': 212,\n         'wash': 212,\n         '10': 212,\n         'left': 211,\n         'markets': 211,\n         '2020': 211,\n         'bank': 211,\n         'shoppers': 211,\n         'self': 210,\n         'feel': 210,\n         'hoarding': 210,\n         'might': 210,\n         'little': 208,\n         '#corona': 208,\n         'retailers': 207,\n         'person': 207,\n         'meet': 207,\n         'keeping': 206,\n         'sales': 206,\n         'key': 206,\n         'latest': 206,\n         'post': 205,\n         'supermarket.': 204,\n         'it.': 204,\n         'something': 203,\n         'together': 203,\n         'closed': 202,\n         'measures': 202,\n         'start': 201,\n         'away': 201,\n         'now.': 201,\n         'place': 200,\n         '#lockdown': 199,\n         'store,': 196,\n         '#supermarket': 196,\n         'information': 196,\n         'end': 196,\n         'access': 195,\n         'water': 194,\n         'tips': 194,\n         '#stayathome': 194,\n         'situation': 194,\n         'join': 193,\n         'daily': 192,\n         '#covid': 192,\n         '#covid-19': 191,\n         'wearing': 190,\n         'groceries': 190,\n         'remember': 190,\n         'until': 190,\n         'else': 189,\n         '#stayhomesavelives': 189,\n         'nothing': 188,\n         '#panicbuying': 188,\n         'drivers': 188,\n         'done': 187,\n         ',': 187,\n         'prices,': 187,\n         'man': 187,\n         'run': 186,\n         '#stophoarding': 186,\n         'food,': 186,\n         'data': 184,\n         'thought': 184,\n         '#quarantine': 184,\n         'sick': 183,\n         'wear': 182,\n         '???': 182,\n         'running': 182,\n         'year': 182,\n         'number': 182,\n         'company': 182,\n         'protection': 182,\n         'police': 181,\n         '#retail': 180,\n         'contact': 180,\n         'ever': 179,\n         '5': 179,\n         'used': 178,\n         'try': 176,\n         'jobs': 176,\n         \"you're\": 176,\n         'affected': 175,\n         'advantage': 174,\n         'change': 174,\n         'bad': 174,\n         'china': 174,\n         'lower': 174,\n         'special': 174,\n         'list': 173,\n         'including': 173,\n         'fall': 173,\n         'ensure': 173,\n         'spending': 171,\n         'likely': 170,\n         'found': 169,\n         'families': 169,\n         'provide': 169,\n         \"we're\": 168,\n         'corona': 168,\n         'related': 167,\n         'putting': 166,\n         'reports': 166,\n         'nhs': 164,\n         'always': 164,\n         'april': 163,\n         'bought': 163,\n         'shortage': 163,\n         'crisis.': 162,\n         'old': 162,\n         'higher': 162,\n         'offering': 162,\n         'fresh': 162,\n         'especially': 161,\n         'soap': 161,\n         'visit': 161,\n         'supermarket,': 161,\n         'relief': 161,\n         'americans': 159,\n         'worker': 159,\n         'tested': 159,\n         'lives': 159,\n         'time.': 158,\n         '#food': 158,\n         \"i've\": 157,\n         'critical': 156,\n         'media': 155,\n         'caused': 155,\n         'quarantine': 154,\n         '20': 154,\n         'yet': 154,\n         'behavior': 154,\n         'saying': 153,\n         'watch': 153,\n         'save': 153,\n         'normal': 153,\n         'video': 152,\n         'between': 152,\n         'prevent': 152,\n         'major': 152,\n         'once': 152,\n         '#covid19uk': 152,\n         'understand': 151,\n         'outside': 151,\n         '@realdonaldtrump': 151,\n         '#coronavirusupdate': 151,\n         'selfish': 151,\n         'amazon': 151,\n         'almost': 151,\n         'remain': 150,\n         'paid': 150,\n         'saw': 150,\n         'youã\\x82â\\x92re': 150,\n         'actually': 149,\n         'drive': 149,\n         'following': 149,\n         'reduce': 149,\n         'farmers': 149,\n         'far': 148,\n         'needed': 148,\n         'lines': 148,\n         'works': 148,\n         'm': 148,\n         'huge': 148,\n         'cannot': 147,\n         'chains': 147,\n         'instead': 147,\n         'yourself': 147,\n         'essentials': 147,\n         'despite': 147,\n         'sell': 147,\n         'rise': 147,\n         'govt': 147,\n         'produce': 147,\n         'set': 146,\n         'struggling': 146,\n         'years': 146,\n         'shortages': 146,\n         'love': 146,\n         '6': 146,\n         'credit': 146,\n         '...': 146,\n         'home.': 145,\n         'top': 145,\n         'morning': 144,\n         'result': 144,\n         'follow': 144,\n         'possible': 143,\n         'lost': 143,\n         'ã\\x82â\\x96': 143,\n         'city': 143,\n         'fear': 143,\n         'ã\\x82â\\x97': 141,\n         'difficult': 140,\n         'given': 140,\n         '#staysafe': 140,\n         'soon': 140,\n         'tell': 139,\n         'pandemic,': 139,\n         'become': 138,\n         'whole': 138,\n         'stocked': 138,\n         'sanitizers': 138,\n         'deal': 138,\n         'facing': 138,\n         'bring': 137,\n         'iã\\x82â\\x92ve': 137,\n         'shut': 136,\n         'alcohol': 136,\n         'roll': 136,\n         'travel': 135,\n         'show': 135,\n         've': 135,\n         'covid-19:': 134,\n         'staying': 134,\n         'months': 134,\n         'here:': 134,\n         'sanitizer,': 134,\n         'ask': 133,\n         '#oil': 133,\n         'changes': 133,\n         'advice': 133,\n         'system': 132,\n         'anything': 132,\n         'again': 132,\n         'friends': 132,\n         'maybe': 132,\n         'die': 132,\n         'restaurants': 131,\n         'announced': 131,\n         '#stoppanicbuying': 130,\n         'today.': 130,\n         'extra': 130,\n         'means': 130,\n         'brands': 130,\n         'million': 130,\n         'customer': 129,\n         'milk': 129,\n         'taken': 129,\n         'weã\\x82â\\x92re': 129,\n         'heroes': 129,\n         'u.s.': 129,\n         'outbreak.': 129,\n         'fucking': 128,\n         'giving': 128,\n         'war': 128,\n         'cause': 128,\n         'testing': 128,\n         'orders': 128,\n         'worried': 127,\n         'woman': 126,\n         'india': 126,\n         '#handsanitizer': 126,\n         'test': 126,\n         'eat': 125,\n         'area': 125,\n         'month': 125,\n         'early': 125,\n         'currently': 124,\n         'kind': 124,\n         'security': 124,\n         'fuel': 124,\n         'limit': 124,\n         'cash': 124,\n         'below': 124,\n         'national': 123,\n         'different': 123,\n         'personal': 123,\n         'case': 123,\n         'etc': 123,\n         'story': 122,\n         'consider': 122,\n         'asked': 122,\n         'doctors': 122,\n         'plenty': 122,\n         'healthy': 122,\n         'gone': 122,\n         'three': 122,\n         'allow': 122,\n         '#shopping': 121,\n         'increasing': 121,\n         'sold': 121,\n         \"that's\": 121,\n         'shit': 121,\n         'further': 121,\n         'surge': 121,\n         'meat': 121,\n         'kids': 121,\n         'recent': 121,\n         'ppl': 120,\n         'distance': 120,\n         'hospital': 120,\n         'spreading': 120,\n         'control': 120,\n         'donate': 120,\n         'clean': 120,\n         'fighting': 120,\n         'asking': 119,\n         'fears': 119,\n         'him': 119,\n         'basic': 119,\n         'both': 118,\n         'drug': 118,\n         'survive': 118,\n         'gonna': 118,\n         'cost': 118,\n         'mean': 118,\n         'died': 117,\n         'point': 117,\n         'you.': 117,\n         'etc.': 117,\n         'car': 116,\n         'themselves': 116,\n         'gouging': 116,\n         'crazy': 116,\n         'based': 116,\n         'providing': 116,\n         'purchase': 116,\n         'waiting': 115,\n         'pharmacy': 115,\n         'goes': 115,\n         'shift': 115,\n         'cleaning': 115,\n         'employee': 114,\n         'makes': 114,\n         'bit': 114,\n         'falling': 114,\n         'countries': 114,\n         'people.': 113,\n         'scammers': 113,\n         'yesterday': 113,\n         \"won't\": 113,\n         '100': 113,\n         '#coronavirus,': 113,\n         'past': 113,\n         '#sanitizer': 113,\n         'out.': 113,\n         'ways': 113,\n         'wait': 113,\n         '#quarantinelife': 112,\n         'send': 112,\n         'article': 112,\n         'shows': 112,\n         'kill': 112,\n         'isolation': 112,\n         'fuck': 112,\n         'them.': 112,\n         '@': 111,\n         'forced': 111,\n         'hour': 111,\n         'offer': 111,\n         'confidence': 110,\n         'crude': 110,\n         'trip': 109,\n         'product': 109,\n         '+': 109,\n         'pick': 109,\n         'believe': 108,\n         'large': 108,\n         'moment': 108,\n         'ready': 107,\n         \"there's\": 107,\n         '#coronavirusuk': 107,\n         'update': 107,\n         'stuff': 106,\n         'sign': 106,\n         'hear': 106,\n         'members': 106,\n         'plan': 106,\n         'website': 106,\n         'states': 106,\n         'afford': 106,\n         'worth': 105,\n         'truck': 105,\n         'near': 105,\n         '@tesco': 105,\n         '/': 105,\n         'poor': 105,\n         'according': 105,\n         'probably': 105,\n         'longer': 104,\n         'president': 104,\n         'raise': 104,\n         'sector': 104,\n         'fast': 104,\n         'energy': 103,\n         'started': 103,\n         'household': 103,\n         'action': 103,\n         'comes': 103,\n         'demand.': 103,\n         '!': 103,\n         'act': 102,\n         'effects': 102,\n         'shopping.': 102,\n         'school': 102,\n         'calling': 102,\n         'info': 102,\n         'deliver': 102,\n         'closing': 102,\n         'sanitizer.': 101,\n         'staff,': 101,\n         'idea': 101,\n         'allowed': 101,\n         'happy': 101,\n         'living': 100,\n         'trade': 100,\n         'group': 100,\n         \"they're\": 100,\n         'starting': 100,\n         'rather': 100,\n         'limited': 100,\n         'federal': 99,\n         \"here's\": 99,\n         'concerns': 99,\n         'came': 99,\n         '7': 99,\n         'changing': 99,\n         'ones': 99,\n         'nice': 99,\n         'looks': 99,\n         'called': 99,\n         'thinking': 98,\n         'amount': 98,\n         'reduced': 98,\n         'friend': 98,\n         'home,': 98,\n         'lots': 98,\n         'clear': 97,\n         'experts': 97,\n         'buyers': 97,\n         'chinese': 97,\n         'team': 97,\n         'seems': 97,\n         'biggest': 97,\n         'now,': 97,\n         'human': 97,\n         \"let's\": 97,\n         'ceo': 97,\n         'nurses': 97,\n         'inflated': 96,\n         'dear': 96,\n         'short': 96,\n         'expect': 96,\n         'gets': 96,\n         'ã\\x82â\\x95': 96,\n         'america': 96,\n         'seriously': 96,\n         'took': 95,\n         'period': 95,\n         '000': 95,\n         'general': 94,\n         \"doesn't\": 94,\n         'forget': 94,\n         'up.': 94,\n         'rolls': 94,\n         'office': 94,\n         'certain': 94,\n         'deliveries': 94,\n         'strong': 93,\n         'american': 93,\n         'washing': 93,\n         'guys': 93,\n         'email': 93,\n         'thatã\\x82â\\x92s': 93,\n         'massive': 93,\n         'folks': 93,\n         'several': 93,\n         'worse': 93,\n         'this.': 92,\n         'russia': 92,\n         '#consumer': 92,\n         'interesting': 92,\n         'nation': 92,\n         'pm': 92,\n         'expected': 92,\n         'continues': 92,\n         'workers.': 92,\n         'finally': 91,\n         'hiking': 91,\n         'paper,': 91,\n         '????': 91,\n         'serious': 91,\n         '8': 91,\n         'restrictions': 91,\n         'amazing': 91,\n         'queue': 91,\n         'anxiety': 90,\n         'among': 90,\n         'link': 90,\n         'n': 90,\n         'regarding': 90,\n         'bottle': 90,\n         'god': 90,\n         'wake': 90,\n         'message': 90,\n         'unprecedented': 89,\n         'hey': 89,\n         'frontline': 89,\n         'pretty': 89,\n         'more:': 89,\n         'slots': 89,\n         'shame': 89,\n         'calls': 89,\n         'infected': 89,\n         'reason': 89,\n         'wrong': 89,\n         'collapse': 89,\n         'issues': 89,\n         'rs': 89,\n         'thereã\\x82â\\x92s': 89,\n         'restaurant': 88,\n         \"isn't\": 88,\n         'behind': 88,\n         'bread': 88,\n         'nurse': 88,\n         'potential': 88,\n         'worst': 88,\n         'it,': 87,\n         'masks,': 87,\n         'walk': 87,\n         'ago': 87,\n         'couple': 87,\n         'crisis,': 87,\n         'single': 87,\n         'inside': 87,\n         'policy': 87,\n         'south': 87,\n         'talk': 87,\n         '15': 87,\n         'equipment': 86,\n         'drivers,': 86,\n         'death': 86,\n         'opening': 86,\n         \"didn't\": 86,\n         'wipes': 86,\n         'yes': 86,\n         'lack': 85,\n         'online.': 85,\n         'pasta': 85,\n         'showing': 85,\n         'sale': 85,\n         'light': 85,\n         'seniors': 85,\n         'takes': 85,\n         'growing': 84,\n         'donating': 84,\n         'donations': 84,\n         'citizens': 84,\n         '@sainsburys': 84,\n         'quick': 84,\n         'w': 84,\n         'resources': 84,\n         'appreciate': 84,\n         'waste': 84,\n         'efforts': 84,\n         'older': 84,\n         'beginning': 83,\n         '50': 83,\n         \"what's\": 83,\n         'phone': 83,\n         'future': 83,\n         'giant': 83,\n         'places': 82,\n         'bags': 82,\n         'worry': 82,\n         'shopping,': 82,\n         'step': 82,\n         'spend': 82,\n         'half': 82,\n         'hospitals': 81,\n         'theyã\\x82â\\x92re': 81,\n         'absolutely': 81,\n         'move': 81,\n         'wanted': 81,\n         '#grocery': 81,\n         'issue': 81,\n         'dont': 81,\n         'listen': 81,\n         'telling': 81,\n         'walmart': 81,\n         'county': 81,\n         'residents': 81,\n         'supporting': 81,\n         'practice': 80,\n         'necessary': 80,\n         'card': 80,\n         'today,': 80,\n         'create': 80,\n         ':': 80,\n         'saudi': 80,\n         'tomorrow': 80,\n         'feed': 80,\n         'value': 79,\n         'shelves.': 79,\n         '30': 79,\n         '#ecommerce': 79,\n         'common': 79,\n         'changed': 79,\n         'cure': 79,\n         '#coronavirususa': 79,\n         'pack': 79,\n         'thousands': 79,\n         'exposed': 79,\n         'force': 79,\n         'insights': 79,\n         'rising': 79,\n         '12': 78,\n         '@borisjohnson': 78,\n         'society': 78,\n         'head': 78,\n         ...})"
     },
     "metadata": {},
     "output_type": "display_data"
    }
   ],
   "source": [
    "from collections import Counter\n",
    "\n",
    "# Токены я брал только из столбца самих текстов OriginalTweet, так как остальные столбцы не несут в себе эмоциональной окраски\n",
    "\n",
    "dictionary = Counter(item.lower() for ls in map(lambda x: x.split(), X_train.OriginalTweet) for item in ls)\n",
    "display(dictionary)"
   ]
  },
  {
   "cell_type": "markdown",
   "metadata": {
    "id": "Pe0h2Jqkpnao"
   },
   "source": [
    "Какой размер словаря получился?"
   ]
  },
  {
   "cell_type": "code",
   "execution_count": 8,
   "metadata": {
    "id": "umyENA7EpokD",
    "ExecuteTime": {
     "end_time": "2024-05-10T13:40:19.289087Z",
     "start_time": "2024-05-10T13:40:19.281713Z"
    }
   },
   "outputs": [
    {
     "data": {
      "text/plain": "79755"
     },
     "execution_count": 8,
     "metadata": {},
     "output_type": "execute_result"
    }
   ],
   "source": [
    "len(dictionary)"
   ]
  },
  {
   "cell_type": "markdown",
   "metadata": {
    "id": "0d2G1Z-Qpqkd"
   },
   "source": [
    "Выведите 10 самых популярных токенов с количеством встреч каждого из них. Объясните, почему именно эти токены в топе"
   ]
  },
  {
   "cell_type": "code",
   "execution_count": 9,
   "metadata": {
    "id": "Impi32a_pssg",
    "ExecuteTime": {
     "end_time": "2024-05-10T13:40:19.303702Z",
     "start_time": "2024-05-10T13:40:19.290098Z"
    }
   },
   "outputs": [
    {
     "data": {
      "text/plain": "[('the', 26815),\n ('to', 23373),\n ('and', 14684),\n ('of', 13012),\n ('a', 11737),\n ('in', 11198),\n ('for', 8566),\n ('#coronavirus', 8223),\n ('is', 7383),\n ('are', 7050)]"
     },
     "execution_count": 9,
     "metadata": {},
     "output_type": "execute_result"
    }
   ],
   "source": [
    "dictionary.most_common(10)\n",
    "# самыми популярными оказались токены артиклей и предлогов. То есть стоп-слова, не несущие информации"
   ]
  },
  {
   "cell_type": "markdown",
   "metadata": {
    "id": "ZtuJCD0ApuFd"
   },
   "source": [
    "**Ответ:** самыми популярными оказались токены артиклей и предлогов. То есть стоп-слова, не несущие информации"
   ]
  },
  {
   "cell_type": "markdown",
   "metadata": {
    "id": "T7DTQDkWsVYp"
   },
   "source": [
    "Удалите стоп-слова из словаря и выведите новый топ-10 токенов (и количество встреч) по популярности.  Что можно сказать о нем?"
   ]
  },
  {
   "cell_type": "code",
   "execution_count": 10,
   "metadata": {
    "id": "8csSAdgTsnFx",
    "ExecuteTime": {
     "end_time": "2024-05-10T13:40:20.350882Z",
     "start_time": "2024-05-10T13:40:19.305714Z"
    }
   },
   "outputs": [
    {
     "data": {
      "text/plain": "True"
     },
     "execution_count": 10,
     "metadata": {},
     "output_type": "execute_result"
    }
   ],
   "source": [
    "import nltk\n",
    "from nltk.corpus import stopwords\n",
    "\n",
    "nltk.download(\"stopwords\", quiet=True)"
   ]
  },
  {
   "cell_type": "code",
   "outputs": [
    {
     "data": {
      "text/plain": "Counter({'#coronavirus': 8223,\n         'prices': 3891,\n         'food': 3820,\n         'grocery': 3469,\n         'supermarket': 3288,\n         'people': 3175,\n         'covid-19': 3173,\n         'store': 3155,\n         '#covid19': 2471,\n         '&amp;': 2314,\n         'consumer': 2245,\n         '19': 2111,\n         'covid': 1769,\n         'get': 1759,\n         '#covid_19': 1660,\n         'online': 1648,\n         'shopping': 1621,\n         'like': 1550,\n         'need': 1549,\n         'panic': 1495,\n         '-': 1429,\n         'hand': 1382,\n         'demand': 1345,\n         '?': 1320,\n         'help': 1282,\n         'us': 1247,\n         'go': 1245,\n         'workers': 1242,\n         'going': 1141,\n         'time': 1136,\n         'one': 1074,\n         'sanitizer': 1064,\n         'stock': 1063,\n         'please': 1061,\n         'due': 1059,\n         'pandemic': 1026,\n         'coronavirus': 970,\n         'home': 959,\n         '#covid2019': 915,\n         'buying': 911,\n         'oil': 900,\n         'stay': 895,\n         'new': 885,\n         'amp': 859,\n         'keep': 857,\n         'toilet': 824,\n         'local': 821,\n         'many': 819,\n         'work': 819,\n         'make': 811,\n         'still': 763,\n         'see': 756,\n         'buy': 748,\n         'stop': 730,\n         'would': 730,\n         'crisis': 713,\n         'shelves': 709,\n         'take': 701,\n         '#toiletpaper': 691,\n         'via': 687,\n         'delivery': 686,\n         'even': 682,\n         'supply': 662,\n         'stores': 648,\n         'know': 641,\n         'could': 640,\n         'also': 635,\n         'social': 615,\n         'retail': 610,\n         'thank': 604,\n         'everyone': 600,\n         'working': 594,\n         'paper': 587,\n         'good': 586,\n         '2': 582,\n         'price': 581,\n         'use': 572,\n         'amid': 556,\n         'think': 545,\n         'health': 540,\n         'may': 525,\n         'today': 524,\n         'day': 521,\n         'staff': 521,\n         'spread': 514,\n         'every': 509,\n         'essential': 496,\n         'want': 487,\n         'safe': 487,\n         'way': 484,\n         'much': 482,\n         '??': 482,\n         'virus': 480,\n         'support': 477,\n         'first': 475,\n         'shop': 471,\n         'government': 468,\n         'free': 467,\n         'covid-19.': 465,\n         'market': 463,\n         'last': 462,\n         'itã\\x82â\\x92s': 459,\n         'right': 455,\n         '.': 454,\n         'customers': 451,\n         'business': 445,\n         'global': 444,\n         'masks': 442,\n         'items': 439,\n         'impact': 438,\n         'world': 437,\n         'find': 431,\n         'back': 430,\n         'products': 427,\n         '#socialdistancing': 427,\n         '#coronacrisis': 423,\n         'read': 420,\n         '#covid?19': 418,\n         'getting': 415,\n         'employees': 415,\n         'donã\\x82â\\x92t': 414,\n         'iã\\x82â\\x92m': 414,\n         'outbreak': 412,\n         'great': 409,\n         'high': 408,\n         'got': 407,\n         'empty': 407,\n         'low': 407,\n         'making': 404,\n         'face': 402,\n         'care': 401,\n         'really': 400,\n         'risk': 397,\n         \"i'm\": 397,\n         'week': 396,\n         'companies': 393,\n         'around': 391,\n         'supplies': 387,\n         'public': 386,\n         'said': 386,\n         'went': 378,\n         'times': 372,\n         'since': 369,\n         'says': 369,\n         '3': 364,\n         'gas': 361,\n         'say': 350,\n         'taking': 349,\n         'store.': 348,\n         'increase': 348,\n         'next': 347,\n         'well': 346,\n         'look': 344,\n         'businesses': 342,\n         'put': 342,\n         'protect': 340,\n         '1': 340,\n         'enough': 337,\n         'order': 337,\n         'things': 336,\n         'prices.': 332,\n         'two': 331,\n         'fight': 330,\n         'mask': 330,\n         'supermarkets': 330,\n         'pay': 329,\n         'lockdown': 326,\n         'days': 325,\n         'long': 323,\n         'anyone': 322,\n         'country': 321,\n         'across': 318,\n         'increased': 317,\n         'best': 315,\n         'money': 315,\n         'weeks': 312,\n         'full': 312,\n         'covid-19,': 311,\n         'must': 309,\n         'consumers': 307,\n         'trying': 307,\n         'service': 305,\n         'distancing': 305,\n         'news': 304,\n         'hands': 303,\n         'medical': 303,\n         'never': 303,\n         'check': 302,\n         'without': 301,\n         'others': 300,\n         'come': 300,\n         'big': 296,\n         'economic': 292,\n         'line': 291,\n         'sure': 288,\n         \"can't\": 286,\n         'open': 286,\n         'available': 285,\n         'give': 284,\n         'everything': 280,\n         'workers,': 280,\n         'uk': 280,\n         'shops': 279,\n         '|': 279,\n         'response': 278,\n         'let': 278,\n         'chain': 277,\n         'pandemic.': 277,\n         'needs': 276,\n         'call': 276,\n         'thanks': 275,\n         'vulnerable': 275,\n         'using': 272,\n         'report': 268,\n         'avoid': 268,\n         'better': 267,\n         'emergency': 267,\n         'important': 266,\n         'already': 266,\n         'hope': 265,\n         'march': 265,\n         'services': 263,\n         'family': 263,\n         'hours': 263,\n         'lot': 262,\n         'continue': 261,\n         'made': 261,\n         'small': 260,\n         'seen': 258,\n         'thing': 256,\n         'hard': 256,\n         'share': 254,\n         'state': 250,\n         'close': 250,\n         'able': 249,\n         'per': 246,\n         'another': 246,\n         'elderly': 246,\n         '#coronaviruspandemic': 245,\n         'economy': 244,\n         'life': 244,\n         'banks': 244,\n         'canã\\x82â\\x92t': 243,\n         'goods': 243,\n         'community': 243,\n         'job': 242,\n         'looking': 238,\n         'live': 236,\n         'drop': 235,\n         'industry': 234,\n         'financial': 233,\n         '#pandemic': 232,\n         'front': 231,\n         'house': 231,\n         'positive': 231,\n         '#stayhome': 229,\n         'leave': 229,\n         'trump': 228,\n         '#coronavirus.': 228,\n         '4': 227,\n         'current': 226,\n         'someone': 226,\n         'part': 225,\n         'least': 222,\n         'selling': 222,\n         'learn': 220,\n         '#coronavirusoutbreak': 218,\n         'production': 217,\n         'scams': 217,\n         'told': 216,\n         'gloves': 216,\n         'coming': 216,\n         'real': 216,\n         'cases': 215,\n         'seeing': 214,\n         'healthcare': 214,\n         'safety': 214,\n         'cut': 214,\n         'hit': 214,\n         'u': 214,\n         'helping': 213,\n         'food.': 213,\n         'less': 212,\n         'wash': 212,\n         '10': 212,\n         'left': 211,\n         'markets': 211,\n         '2020': 211,\n         'bank': 211,\n         'shoppers': 211,\n         'self': 210,\n         'feel': 210,\n         'hoarding': 210,\n         'might': 210,\n         'little': 208,\n         '#corona': 208,\n         'retailers': 207,\n         'person': 207,\n         'meet': 207,\n         'keeping': 206,\n         'sales': 206,\n         'key': 206,\n         'latest': 206,\n         'post': 205,\n         'supermarket.': 204,\n         'it.': 204,\n         'something': 203,\n         'together': 203,\n         'closed': 202,\n         'measures': 202,\n         'start': 201,\n         'away': 201,\n         'now.': 201,\n         'place': 200,\n         '#lockdown': 199,\n         'store,': 196,\n         '#supermarket': 196,\n         'information': 196,\n         'end': 196,\n         'access': 195,\n         'water': 194,\n         'tips': 194,\n         '#stayathome': 194,\n         'situation': 194,\n         'join': 193,\n         'daily': 192,\n         '#covid': 192,\n         '#covid-19': 191,\n         'wearing': 190,\n         'groceries': 190,\n         'remember': 190,\n         'else': 189,\n         '#stayhomesavelives': 189,\n         'nothing': 188,\n         '#panicbuying': 188,\n         'drivers': 188,\n         'done': 187,\n         ',': 187,\n         'prices,': 187,\n         'man': 187,\n         'run': 186,\n         '#stophoarding': 186,\n         'food,': 186,\n         'data': 184,\n         'thought': 184,\n         '#quarantine': 184,\n         'sick': 183,\n         'wear': 182,\n         '???': 182,\n         'running': 182,\n         'year': 182,\n         'number': 182,\n         'company': 182,\n         'protection': 182,\n         'police': 181,\n         '#retail': 180,\n         'contact': 180,\n         'ever': 179,\n         '5': 179,\n         'used': 178,\n         'try': 176,\n         'jobs': 176,\n         'affected': 175,\n         'advantage': 174,\n         'change': 174,\n         'bad': 174,\n         'china': 174,\n         'lower': 174,\n         'special': 174,\n         'list': 173,\n         'including': 173,\n         'fall': 173,\n         'ensure': 173,\n         'spending': 171,\n         'likely': 170,\n         'found': 169,\n         'families': 169,\n         'provide': 169,\n         \"we're\": 168,\n         'corona': 168,\n         'related': 167,\n         'putting': 166,\n         'reports': 166,\n         'nhs': 164,\n         'always': 164,\n         'april': 163,\n         'bought': 163,\n         'shortage': 163,\n         'crisis.': 162,\n         'old': 162,\n         'higher': 162,\n         'offering': 162,\n         'fresh': 162,\n         'especially': 161,\n         'soap': 161,\n         'visit': 161,\n         'supermarket,': 161,\n         'relief': 161,\n         'americans': 159,\n         'worker': 159,\n         'tested': 159,\n         'lives': 159,\n         'time.': 158,\n         '#food': 158,\n         \"i've\": 157,\n         'critical': 156,\n         'media': 155,\n         'caused': 155,\n         'quarantine': 154,\n         '20': 154,\n         'yet': 154,\n         'behavior': 154,\n         'saying': 153,\n         'watch': 153,\n         'save': 153,\n         'normal': 153,\n         'video': 152,\n         'prevent': 152,\n         'major': 152,\n         '#covid19uk': 152,\n         'understand': 151,\n         'outside': 151,\n         '@realdonaldtrump': 151,\n         '#coronavirusupdate': 151,\n         'selfish': 151,\n         'amazon': 151,\n         'almost': 151,\n         'remain': 150,\n         'paid': 150,\n         'saw': 150,\n         'youã\\x82â\\x92re': 150,\n         'actually': 149,\n         'drive': 149,\n         'following': 149,\n         'reduce': 149,\n         'farmers': 149,\n         'far': 148,\n         'needed': 148,\n         'lines': 148,\n         'works': 148,\n         'huge': 148,\n         'cannot': 147,\n         'chains': 147,\n         'instead': 147,\n         'essentials': 147,\n         'despite': 147,\n         'sell': 147,\n         'rise': 147,\n         'govt': 147,\n         'produce': 147,\n         'set': 146,\n         'struggling': 146,\n         'years': 146,\n         'shortages': 146,\n         'love': 146,\n         '6': 146,\n         'credit': 146,\n         '...': 146,\n         'home.': 145,\n         'top': 145,\n         'morning': 144,\n         'result': 144,\n         'follow': 144,\n         'possible': 143,\n         'lost': 143,\n         'ã\\x82â\\x96': 143,\n         'city': 143,\n         'fear': 143,\n         'ã\\x82â\\x97': 141,\n         'difficult': 140,\n         'given': 140,\n         '#staysafe': 140,\n         'soon': 140,\n         'tell': 139,\n         'pandemic,': 139,\n         'become': 138,\n         'whole': 138,\n         'stocked': 138,\n         'sanitizers': 138,\n         'deal': 138,\n         'facing': 138,\n         'bring': 137,\n         'iã\\x82â\\x92ve': 137,\n         'shut': 136,\n         'alcohol': 136,\n         'roll': 136,\n         'travel': 135,\n         'show': 135,\n         'covid-19:': 134,\n         'staying': 134,\n         'months': 134,\n         'here:': 134,\n         'sanitizer,': 134,\n         'ask': 133,\n         '#oil': 133,\n         'changes': 133,\n         'advice': 133,\n         'system': 132,\n         'anything': 132,\n         'friends': 132,\n         'maybe': 132,\n         'die': 132,\n         'restaurants': 131,\n         'announced': 131,\n         '#stoppanicbuying': 130,\n         'today.': 130,\n         'extra': 130,\n         'means': 130,\n         'brands': 130,\n         'million': 130,\n         'customer': 129,\n         'milk': 129,\n         'taken': 129,\n         'weã\\x82â\\x92re': 129,\n         'heroes': 129,\n         'u.s.': 129,\n         'outbreak.': 129,\n         'fucking': 128,\n         'giving': 128,\n         'war': 128,\n         'cause': 128,\n         'testing': 128,\n         'orders': 128,\n         'worried': 127,\n         'woman': 126,\n         'india': 126,\n         '#handsanitizer': 126,\n         'test': 126,\n         'eat': 125,\n         'area': 125,\n         'month': 125,\n         'early': 125,\n         'currently': 124,\n         'kind': 124,\n         'security': 124,\n         'fuel': 124,\n         'limit': 124,\n         'cash': 124,\n         'national': 123,\n         'different': 123,\n         'personal': 123,\n         'case': 123,\n         'etc': 123,\n         'story': 122,\n         'consider': 122,\n         'asked': 122,\n         'doctors': 122,\n         'plenty': 122,\n         'healthy': 122,\n         'gone': 122,\n         'three': 122,\n         'allow': 122,\n         '#shopping': 121,\n         'increasing': 121,\n         'sold': 121,\n         \"that's\": 121,\n         'shit': 121,\n         'surge': 121,\n         'meat': 121,\n         'kids': 121,\n         'recent': 121,\n         'ppl': 120,\n         'distance': 120,\n         'hospital': 120,\n         'spreading': 120,\n         'control': 120,\n         'donate': 120,\n         'clean': 120,\n         'fighting': 120,\n         'asking': 119,\n         'fears': 119,\n         'basic': 119,\n         'drug': 118,\n         'survive': 118,\n         'gonna': 118,\n         'cost': 118,\n         'mean': 118,\n         'died': 117,\n         'point': 117,\n         'you.': 117,\n         'etc.': 117,\n         'car': 116,\n         'gouging': 116,\n         'crazy': 116,\n         'based': 116,\n         'providing': 116,\n         'purchase': 116,\n         'waiting': 115,\n         'pharmacy': 115,\n         'goes': 115,\n         'shift': 115,\n         'cleaning': 115,\n         'employee': 114,\n         'makes': 114,\n         'bit': 114,\n         'falling': 114,\n         'countries': 114,\n         'people.': 113,\n         'scammers': 113,\n         'yesterday': 113,\n         '100': 113,\n         '#coronavirus,': 113,\n         'past': 113,\n         '#sanitizer': 113,\n         'out.': 113,\n         'ways': 113,\n         'wait': 113,\n         '#quarantinelife': 112,\n         'send': 112,\n         'article': 112,\n         'shows': 112,\n         'kill': 112,\n         'isolation': 112,\n         'fuck': 112,\n         'them.': 112,\n         '@': 111,\n         'forced': 111,\n         'hour': 111,\n         'offer': 111,\n         'confidence': 110,\n         'crude': 110,\n         'trip': 109,\n         'product': 109,\n         '+': 109,\n         'pick': 109,\n         'believe': 108,\n         'large': 108,\n         'moment': 108,\n         'ready': 107,\n         \"there's\": 107,\n         '#coronavirusuk': 107,\n         'update': 107,\n         'stuff': 106,\n         'sign': 106,\n         'hear': 106,\n         'members': 106,\n         'plan': 106,\n         'website': 106,\n         'states': 106,\n         'afford': 106,\n         'worth': 105,\n         'truck': 105,\n         'near': 105,\n         '@tesco': 105,\n         '/': 105,\n         'poor': 105,\n         'according': 105,\n         'probably': 105,\n         'longer': 104,\n         'president': 104,\n         'raise': 104,\n         'sector': 104,\n         'fast': 104,\n         'energy': 103,\n         'started': 103,\n         'household': 103,\n         'action': 103,\n         'comes': 103,\n         'demand.': 103,\n         '!': 103,\n         'act': 102,\n         'effects': 102,\n         'shopping.': 102,\n         'school': 102,\n         'calling': 102,\n         'info': 102,\n         'deliver': 102,\n         'closing': 102,\n         'sanitizer.': 101,\n         'staff,': 101,\n         'idea': 101,\n         'allowed': 101,\n         'happy': 101,\n         'living': 100,\n         'trade': 100,\n         'group': 100,\n         \"they're\": 100,\n         'starting': 100,\n         'rather': 100,\n         'limited': 100,\n         'federal': 99,\n         \"here's\": 99,\n         'concerns': 99,\n         'came': 99,\n         '7': 99,\n         'changing': 99,\n         'ones': 99,\n         'nice': 99,\n         'looks': 99,\n         'called': 99,\n         'thinking': 98,\n         'amount': 98,\n         'reduced': 98,\n         'friend': 98,\n         'home,': 98,\n         'lots': 98,\n         'clear': 97,\n         'experts': 97,\n         'buyers': 97,\n         'chinese': 97,\n         'team': 97,\n         'seems': 97,\n         'biggest': 97,\n         'now,': 97,\n         'human': 97,\n         \"let's\": 97,\n         'ceo': 97,\n         'nurses': 97,\n         'inflated': 96,\n         'dear': 96,\n         'short': 96,\n         'expect': 96,\n         'gets': 96,\n         'ã\\x82â\\x95': 96,\n         'america': 96,\n         'seriously': 96,\n         'took': 95,\n         'period': 95,\n         '000': 95,\n         'general': 94,\n         'forget': 94,\n         'up.': 94,\n         'rolls': 94,\n         'office': 94,\n         'certain': 94,\n         'deliveries': 94,\n         'strong': 93,\n         'american': 93,\n         'washing': 93,\n         'guys': 93,\n         'email': 93,\n         'thatã\\x82â\\x92s': 93,\n         'massive': 93,\n         'folks': 93,\n         'several': 93,\n         'worse': 93,\n         'this.': 92,\n         'russia': 92,\n         '#consumer': 92,\n         'interesting': 92,\n         'nation': 92,\n         'pm': 92,\n         'expected': 92,\n         'continues': 92,\n         'workers.': 92,\n         'finally': 91,\n         'hiking': 91,\n         'paper,': 91,\n         '????': 91,\n         'serious': 91,\n         '8': 91,\n         'restrictions': 91,\n         'amazing': 91,\n         'queue': 91,\n         'anxiety': 90,\n         'among': 90,\n         'link': 90,\n         'n': 90,\n         'regarding': 90,\n         'bottle': 90,\n         'god': 90,\n         'wake': 90,\n         'message': 90,\n         'unprecedented': 89,\n         'hey': 89,\n         'frontline': 89,\n         'pretty': 89,\n         'more:': 89,\n         'slots': 89,\n         'shame': 89,\n         'calls': 89,\n         'infected': 89,\n         'reason': 89,\n         'wrong': 89,\n         'collapse': 89,\n         'issues': 89,\n         'rs': 89,\n         'thereã\\x82â\\x92s': 89,\n         'restaurant': 88,\n         'behind': 88,\n         'bread': 88,\n         'nurse': 88,\n         'potential': 88,\n         'worst': 88,\n         'it,': 87,\n         'masks,': 87,\n         'walk': 87,\n         'ago': 87,\n         'couple': 87,\n         'crisis,': 87,\n         'single': 87,\n         'inside': 87,\n         'policy': 87,\n         'south': 87,\n         'talk': 87,\n         '15': 87,\n         'equipment': 86,\n         'drivers,': 86,\n         'death': 86,\n         'opening': 86,\n         'wipes': 86,\n         'yes': 86,\n         'lack': 85,\n         'online.': 85,\n         'pasta': 85,\n         'showing': 85,\n         'sale': 85,\n         'light': 85,\n         'seniors': 85,\n         'takes': 85,\n         'growing': 84,\n         'donating': 84,\n         'donations': 84,\n         'citizens': 84,\n         '@sainsburys': 84,\n         'quick': 84,\n         'w': 84,\n         'resources': 84,\n         'appreciate': 84,\n         'waste': 84,\n         'efforts': 84,\n         'older': 84,\n         'beginning': 83,\n         '50': 83,\n         \"what's\": 83,\n         'phone': 83,\n         'future': 83,\n         'giant': 83,\n         'places': 82,\n         'bags': 82,\n         'worry': 82,\n         'shopping,': 82,\n         'step': 82,\n         'spend': 82,\n         'half': 82,\n         'hospitals': 81,\n         'theyã\\x82â\\x92re': 81,\n         'absolutely': 81,\n         'move': 81,\n         'wanted': 81,\n         '#grocery': 81,\n         'issue': 81,\n         'dont': 81,\n         'listen': 81,\n         'telling': 81,\n         'walmart': 81,\n         'county': 81,\n         'residents': 81,\n         'supporting': 81,\n         'practice': 80,\n         'necessary': 80,\n         'card': 80,\n         'today,': 80,\n         'create': 80,\n         ':': 80,\n         'saudi': 80,\n         'tomorrow': 80,\n         'feed': 80,\n         'value': 79,\n         'shelves.': 79,\n         '30': 79,\n         '#ecommerce': 79,\n         'common': 79,\n         'changed': 79,\n         'cure': 79,\n         '#coronavirususa': 79,\n         'pack': 79,\n         'thousands': 79,\n         'exposed': 79,\n         'force': 79,\n         'insights': 79,\n         'rising': 79,\n         '12': 78,\n         '@borisjohnson': 78,\n         'society': 78,\n         'head': 78,\n         'temporarily': 78,\n         'challenges': 78,\n         'stocks': 78,\n         'plans': 78,\n         'canada': 78,\n         'behaviour': 78,\n         'mass': 78,\n         'law': 78,\n         'driving': 77,\n         'buying.': 77,\n         'closures': 77,\n         'imagine': 77,\n         '1.': 77,\n         'recession': 77,\n         'rules': 77,\n         'tp': 77,\n         'too.': 77,\n         'symptoms': 77,\n         'steps': 77,\n         'meals': 77,\n         'trends': 77,\n         'baby': 77,\n         'click': 77,\n         'chance': 77,\n         'super': 77,\n         'wonã\\x82â\\x92t': 77,\n         'causing': 76,\n         'questions': 76,\n         '#economy': 76,\n         'shares': 76,\n         'letã\\x82â\\x92s': 76,\n         'feeling': 76,\n         'pressure': 76,\n         'profit': 76,\n         'fake': 76,\n         'total': 76,\n         'costs': 76,\n         'hoard': 76,\n         'times.': 76,\n         '9': 76,\n         '2.': 76,\n         'digital': 76,\n         'street': 76,\n         'foods': 76,\n         'italy': 76,\n         'touch': 75,\n         'direct': 75,\n         'offers': 75,\n         'protective': 75,\n         'levels': 75,\n         'lead': 75,\n         'whether': 75,\n         'producers': 75,\n         'millions': 75,\n         'felt': 75,\n         'side': 75,\n         '#toiletpapercrisis': 75,\n         'record': 75,\n         'rice': 75,\n         'coughing': 75,\n         'panic.': 75,\n         'gold': 75,\n         'paying': 75,\n         'us.': 75,\n         'easy': 74,\n         'stand': 74,\n         'marketing': 74,\n         'quickly': 74,\n         'experience': 74,\n         'along': 74,\n         'though': 74,\n         'people,': 74,\n         'opportunity': 74,\n         'dropped': 74,\n         'bc': 74,\n         'monday': 74,\n         'created': 74,\n         'effective': 74,\n         'wish': 73,\n         'amidst': 73,\n         'isnã\\x82â\\x92t': 73,\n         'raising': 73,\n         'benefits': 73,\n         'employees,': 73,\n         'details': 73,\n         'middle': 73,\n         'deserve': 73,\n         'finding': 73,\n         'impacted': 73,\n         'doesnã\\x82â\\x92t': 73,\n         'minister': 73,\n         'regular': 73,\n         'day.': 73,\n         'nurses,': 72,\n         'true': 72,\n         'delivering': 72,\n         'till': 72,\n         'rest': 72,\n         'unable': 72,\n         'stocking': 72,\n         'ok': 72,\n         'tests': 72,\n         'significant': 72,\n         'scam': 71,\n         'children': 71,\n         'bulk': 71,\n         '#coronaviruslockdown': 71,\n         'stimulus': 71,\n         'department': 71,\n         'need.': 71,\n         'greater': 71,\n         'warning': 71,\n         'respect': 71,\n         'distribution': 71,\n         'aware': 71,\n         'level': 71,\n         'hold': 71,\n         'delivered': 71,\n         'unless': 71,\n         'four': 71,\n         'profiteering': 71,\n         'boost': 71,\n         'damn': 70,\n         'sense': 70,\n         ...})"
     },
     "metadata": {},
     "output_type": "display_data"
    }
   ],
   "source": [
    "words = [item.lower() for ls in map(lambda x: x.split(), X_train.OriginalTweet) for item in ls]\n",
    "# сделаю из списка слов множество для адекватной асимптотики\n",
    "stopwords_set = set(stopwords.words(\"english\"))\n",
    "dictionary = Counter(word for word in words if word not in stopwords_set)\n",
    "display(dictionary)"
   ],
   "metadata": {
    "collapsed": false,
    "ExecuteTime": {
     "end_time": "2024-05-10T13:40:20.724181Z",
     "start_time": "2024-05-10T13:40:20.351888Z"
    }
   },
   "execution_count": 11
  },
  {
   "cell_type": "code",
   "outputs": [
    {
     "data": {
      "text/plain": "79584"
     },
     "execution_count": 12,
     "metadata": {},
     "output_type": "execute_result"
    }
   ],
   "source": [
    "len(dictionary)  # удалили 171 уникальный токен"
   ],
   "metadata": {
    "collapsed": false,
    "ExecuteTime": {
     "end_time": "2024-05-10T13:40:20.735904Z",
     "start_time": "2024-05-10T13:40:20.729181Z"
    }
   },
   "execution_count": 12
  },
  {
   "cell_type": "code",
   "outputs": [
    {
     "data": {
      "text/plain": "[('#coronavirus', 8223),\n ('prices', 3891),\n ('food', 3820),\n ('grocery', 3469),\n ('supermarket', 3288),\n ('people', 3175),\n ('covid-19', 3173),\n ('store', 3155),\n ('#covid19', 2471),\n ('&amp;', 2314)]"
     },
     "execution_count": 13,
     "metadata": {},
     "output_type": "execute_result"
    }
   ],
   "source": [
    "dictionary.most_common(10)\n",
    "# Новые слова уже более осмысленные. Конечно также встречается шум для задачи определения настроения, связанный с коронавирусом, но также есть и важные слова вроде цен, магазинов и продуктов, дающие информацию о возможном повышении цен или карантине"
   ],
   "metadata": {
    "collapsed": false,
    "ExecuteTime": {
     "end_time": "2024-05-10T13:40:20.751990Z",
     "start_time": "2024-05-10T13:40:20.736911Z"
    }
   },
   "execution_count": 13
  },
  {
   "cell_type": "markdown",
   "metadata": {
    "id": "LZH0x2Lzs-Dh"
   },
   "source": [
    "**Ответ:** Новые слова уже более осмысленные конечно также встречается шум для задачи определения настроения, связанный с коронавирусом, но также есть и важные слова вроде цен, магазинов и продуктов, дающие информацию о возможном повышении цен или карантине"
   ]
  },
  {
   "cell_type": "markdown",
   "metadata": {
    "id": "TKSGRyI-uor0"
   },
   "source": [
    "Также выведите 20 самых непопулярных слов (если самых непопулярных слов больше выведите любые 20 из них) Почему эти токены непопулярны, требуется ли как-то дополнительно работать с ними?"
   ]
  },
  {
   "cell_type": "code",
   "execution_count": 14,
   "metadata": {
    "id": "moArbwfvun9t",
    "ExecuteTime": {
     "end_time": "2024-05-10T13:40:20.782777Z",
     "start_time": "2024-05-10T13:40:20.754005Z"
    }
   },
   "outputs": [
    {
     "data": {
      "text/plain": "[('https://t.co/7j2y3rsld9', 1),\n ('@680news', 1),\n ('@torontopearson', 1),\n ('nothing...', 1),\n ('flew', 1),\n ('wage!', 1),\n ('renewing', 1),\n ('playersã\\x82â\\x92', 1),\n ('subsidise', 1),\n ('non-playing', 1),\n ('premiership', 1),\n ('https://t.co/iaek4fwsgz', 1),\n ('@srinivasiyc', 1),\n ('https://t.co/zjcl195vqs', 1),\n ('#southkerry', 1),\n ('#skelligcoast2kms', 1),\n ('@skelligsix18', 1),\n ('closer!)', 1),\n ('coast!', 1)]"
     },
     "execution_count": 14,
     "metadata": {},
     "output_type": "execute_result"
    }
   ],
   "source": [
    "dictionary.most_common()[:-20:-1]\n",
    "# Самых популярных слов гораздо больше 20. Часто они содержат ссылки, хештеги, теги, синтаксические ошибки или просто слова с уникальным символом после него. Думаю стоит отделить символы от слов, чтобы слова с символами не были уникальными токенами. Также регулярными выражениями можно легко удалить ссылки, теги и хештеги."
   ]
  },
  {
   "cell_type": "markdown",
   "metadata": {
    "id": "uRp3J1gQunlR"
   },
   "source": [
    "**Ответ:** Самых популярных слов гораздо больше 20. Часто они содержат ссылки, хештеги, теги, синтаксические ошибки или просто слова с уникальным символом после него. Думаю стоит отделить символы от слов, чтобы слова с символами не были уникальными токенами. Также регулярными выражениями можно легко удалить ссылки, теги и хештеги."
   ]
  },
  {
   "cell_type": "markdown",
   "metadata": {
    "id": "wx9LQOSPzvjV"
   },
   "source": [
    "Теперь воспользуемся токенайзером получше - TweetTokenizer из библиотеки nltk. Примените его и посмотрите на топ-10 популярных слов. Чем он отличается от топа, который получался раньше? Почему?"
   ]
  },
  {
   "cell_type": "code",
   "execution_count": 15,
   "metadata": {
    "id": "2G1UkyVxzvFY",
    "ExecuteTime": {
     "end_time": "2024-05-10T13:40:26.206856Z",
     "start_time": "2024-05-10T13:40:20.783785Z"
    }
   },
   "outputs": [
    {
     "data": {
      "text/plain": "[('the', 26993),\n ('.', 24118),\n ('to', 23478),\n (',', 17571),\n ('and', 14825),\n ('of', 13044),\n ('a', 11891),\n ('in', 11348),\n ('?', 9524),\n ('#coronavirus', 8808)]"
     },
     "execution_count": 15,
     "metadata": {},
     "output_type": "execute_result"
    }
   ],
   "source": [
    "from nltk.tokenize import TweetTokenizer\n",
    "\n",
    "tw = TweetTokenizer()\n",
    "dictionary = Counter([item.lower() for ls in map(lambda x: tw.tokenize(x), X_train.OriginalTweet) for item in ls])\n",
    "dictionary.most_common(10)\n",
    "# отличается тем, что теперь в топе есть не только стоп-слов (оставил, так как их нужно убрать в следующем задании), но и пунктуацию, которая раньше была частью других слов."
   ]
  },
  {
   "cell_type": "markdown",
   "metadata": {
    "id": "50eVUnJN1Zxl"
   },
   "source": [
    "**Ответ:** отличается тем, что теперь в топе есть не только стоп-слов (оставил, так как их нужно убрать в следующем задании), но и знаки препинания, которые раньше были частью других слов.-"
   ]
  },
  {
   "cell_type": "markdown",
   "metadata": {
    "id": "1gqQgiMs11bs"
   },
   "source": [
    "Удалите из словаря стоп-слова и пунктуацию, посмотрите на новый топ-10 слов с количеством встреч, есть ли теперь в нем что-то не похожее на слова?"
   ]
  },
  {
   "cell_type": "code",
   "execution_count": 16,
   "metadata": {
    "id": "0yHWdFrp0Mup",
    "ExecuteTime": {
     "end_time": "2024-05-10T13:40:30.208109Z",
     "start_time": "2024-05-10T13:40:26.207863Z"
    }
   },
   "outputs": [],
   "source": [
    "from string import punctuation\n",
    "\n",
    "words = [item.lower() for ls in map(lambda x: tw.tokenize(x), X_train.OriginalTweet) for item in ls]\n",
    "# сделаю из списка слов множество для адекватной асимптотики\n",
    "stopwords_set = set(stopwords.words(\"english\") + list(punctuation))\n",
    "dictionary = Counter(word for word in words if word not in stopwords_set)"
   ]
  },
  {
   "cell_type": "code",
   "outputs": [
    {
     "data": {
      "text/plain": "[('#coronavirus', 8808),\n ('â', 7415),\n ('\\x82', 7311),\n ('19', 7167),\n ('covid', 6253),\n ('prices', 4601),\n ('\\x92', 4372),\n ('food', 4367),\n ('store', 3877),\n ('supermarket', 3805)]"
     },
     "execution_count": 17,
     "metadata": {},
     "output_type": "execute_result"
    }
   ],
   "source": [
    "dictionary.most_common(10)\n",
    "# Да, теперь есть странная буковка â, и символы, начинающиеся с \\ (например \\x82). Скорее всего это не прогрузившийся символ юникода или смайлик. Также встречаются число (тоже шум, так как это серийный номер ковида)"
   ],
   "metadata": {
    "collapsed": false,
    "ExecuteTime": {
     "end_time": "2024-05-10T13:40:30.220067Z",
     "start_time": "2024-05-10T13:40:30.209117Z"
    }
   },
   "execution_count": 17
  },
  {
   "cell_type": "markdown",
   "metadata": {
    "id": "8ZJqXELP_Yxy"
   },
   "source": [
    "**Ответ:** Да, теперь есть странная буковка â, и символы, начинающиеся с \\ (например \\x82). Скорее всего это смайлик. Также встречаются число (тоже шум, так как это серийный номер ковида)"
   ]
  },
  {
   "cell_type": "markdown",
   "metadata": {
    "id": "rzXjMsSB_kXB"
   },
   "source": [
    "Удалите из словаря токены из одного символа, с позицией в таблице Unicode 128 и более (`ord(x) >= 128`)\n",
    "\n",
    "Выведите топ-10 самых популярных и топ-20 непопулярных слов. Чем полученные топы отличаются от итоговых топов, полученных при использовании токенизации по пробелам? Что теперь лучше, а что хуже?"
   ]
  },
  {
   "cell_type": "code",
   "execution_count": 18,
   "metadata": {
    "id": "1695hlkS_1-J",
    "ExecuteTime": {
     "end_time": "2024-05-10T13:40:34.080673Z",
     "start_time": "2024-05-10T13:40:30.221073Z"
    }
   },
   "outputs": [],
   "source": [
    "words = [item.lower() for ls in map(lambda x: tw.tokenize(x), X_train.OriginalTweet) for item in ls]\n",
    "# сделаю из списка слов множество для адекватной асимптотики\n",
    "stopwords_set = set(stopwords.words(\"english\") + list(punctuation))\n",
    "# довольно странно сформулированное задание. Удалю символы с ord(symbol) >= 128\n",
    "dictionary = Counter(word for word in words if\n",
    "                     ((word not in stopwords_set) and ((len(word) > 1) or (len(word) == 1 and (ord(word) < 128)))))"
   ]
  },
  {
   "cell_type": "code",
   "outputs": [
    {
     "data": {
      "text/plain": "[('#coronavirus', 8808),\n ('19', 7167),\n ('covid', 6253),\n ('prices', 4601),\n ('food', 4367),\n ('store', 3877),\n ('supermarket', 3805),\n ('grocery', 3523),\n ('people', 3463),\n ('#covid19', 2589)]"
     },
     "execution_count": 19,
     "metadata": {},
     "output_type": "execute_result"
    }
   ],
   "source": [
    "dictionary.most_common(10)"
   ],
   "metadata": {
    "collapsed": false,
    "ExecuteTime": {
     "end_time": "2024-05-10T13:40:34.091867Z",
     "start_time": "2024-05-10T13:40:34.081690Z"
    }
   },
   "execution_count": 19
  },
  {
   "cell_type": "code",
   "outputs": [
    {
     "data": {
      "text/plain": "[('https://t.co/7j2y3rsld9', 1),\n ('@680news', 1),\n ('@torontopearson', 1),\n ('flew', 1),\n ('renewing', 1),\n ('playersã', 1),\n ('subsidise', 1),\n ('non-playing', 1),\n ('premiership', 1),\n ('https://t.co/iaek4fwsgz', 1),\n ('@srinivasiyc', 1),\n ('https://t.co/zjcl195vqs', 1),\n ('#southkerry', 1),\n ('#skelligcoast2kms', 1),\n ('@skelligsix18', 1),\n ('skellig', 1),\n ('milion', 1),\n ('now.when', 1),\n ('https://t.co/5cbliqzx7l', 1)]"
     },
     "execution_count": 20,
     "metadata": {},
     "output_type": "execute_result"
    }
   ],
   "source": [
    "dictionary.most_common()[:-20:-1]"
   ],
   "metadata": {
    "collapsed": false,
    "ExecuteTime": {
     "end_time": "2024-05-10T13:40:34.126716Z",
     "start_time": "2024-05-10T13:40:34.092880Z"
    }
   },
   "execution_count": 20
  },
  {
   "cell_type": "markdown",
   "metadata": {
    "id": "KzjHAKIlDvc6"
   },
   "source": [
    "**Ответ:** Из плюсов теперь есть только слова без пунктуации и смайликов. Из-за чего уникальных токенов стало меньше. Правда ссылки, хештеги и теги остались.\n",
    "Из минусов теперь нет пунктуации и смайликов, которые могут быть очень важны для определения настроения :)"
   ]
  },
  {
   "cell_type": "markdown",
   "metadata": {
    "id": "EcDf9_6HB2zm"
   },
   "source": [
    "Выведите топ-10 популярных хештегов с количеством встреч. Что можно сказать о них?"
   ]
  },
  {
   "cell_type": "code",
   "execution_count": 21,
   "metadata": {
    "id": "zk4fygCUBw3l",
    "ExecuteTime": {
     "end_time": "2024-05-10T13:40:38.109156Z",
     "start_time": "2024-05-10T13:40:34.127724Z"
    }
   },
   "outputs": [],
   "source": [
    "words = [item.lower() for ls in map(lambda x: tw.tokenize(x), X_train.OriginalTweet) for item in ls]\n",
    "stopwords_set = set(stopwords.words(\"english\") + list(punctuation))\n",
    "dictionary_hashtags = Counter(word for word in words if\n",
    "                              ((word not in stopwords_set) and (\n",
    "                                      (len(word) > 1) or (len(word) == 1 and (ord(word) < 128))) and word[\n",
    "                                   0] == \"#\"))"
   ]
  },
  {
   "cell_type": "code",
   "outputs": [
    {
     "data": {
      "text/plain": "[('#coronavirus', 8808),\n ('#covid19', 2589),\n ('#covid_19', 1734),\n ('#covid2019', 946),\n ('#toiletpaper', 744),\n ('#covid', 641),\n ('#socialdistancing', 465),\n ('#coronacrisis', 448),\n ('#pandemic', 257),\n ('#coronaviruspandemic', 249),\n ('#stayhome', 235),\n ('#coronavirusoutbreak', 223),\n ('#covid-19', 218),\n ('#corona', 209),\n ('#lockdown', 208),\n ('#supermarket', 206),\n ('#stayathome', 197),\n ('#panicbuying', 197),\n ('#stayhomesavelives', 194),\n ('#stophoarding', 190)]"
     },
     "execution_count": 22,
     "metadata": {},
     "output_type": "execute_result"
    }
   ],
   "source": [
    "dictionary_hashtags.most_common(20)"
   ],
   "metadata": {
    "collapsed": false,
    "ExecuteTime": {
     "end_time": "2024-05-10T13:40:38.116991Z",
     "start_time": "2024-05-10T13:40:38.110162Z"
    }
   },
   "execution_count": 22
  },
  {
   "cell_type": "markdown",
   "metadata": {
    "id": "-6NeNWBkDxM7"
   },
   "source": [
    "**Ответ:** Ладно кажется хештеги всё-таки несут какой-то смысл. По ним можно определить настрояния. Так, например хештеги #lockdown, #panicbuying или #supermarket скорее будут нести в себе негативный посыл. Но также много и шума, например #covid19, так как все твиты и так связаны с коронавирусом."
   ]
  },
  {
   "cell_type": "markdown",
   "metadata": {
    "id": "LLYBg7caD5GA"
   },
   "source": [
    "То же самое проделайте для ссылок на сайт https://t.co Сравнима ли популярность ссылок с популярностью хештегов? Будет ли информация о ссылке на конкретную страницу полезна?"
   ]
  },
  {
   "cell_type": "code",
   "execution_count": 23,
   "metadata": {
    "id": "MXbm1oeaCK9S",
    "ExecuteTime": {
     "end_time": "2024-05-10T13:40:41.875825Z",
     "start_time": "2024-05-10T13:40:38.118019Z"
    }
   },
   "outputs": [],
   "source": [
    "words = [item.lower() for ls in map(lambda x: tw.tokenize(x), X_train.OriginalTweet) for item in ls]\n",
    "stopwords_set = set(stopwords.words(\"english\") + list(punctuation))\n",
    "dictionary_links = Counter(word for word in words if\n",
    "                           ((word not in stopwords_set) and ((len(word) > 1) or (\n",
    "                                   len(word) == 1 and (ord(word) < 128))) and \"https://t.co\" in word))"
   ]
  },
  {
   "cell_type": "code",
   "outputs": [
    {
     "data": {
      "text/plain": "[('https://t.co/oxa7swtond', 5),\n ('https://t.co/gp3eusapl8', 4),\n ('https://t.co/deftrui1pfã\\x82â', 3),\n ('https://t.co/wrlhyzizaa', 3),\n ('https://t.co/kuwipf1kqw', 3),\n ('https://t.co/zjnrx6dkkn', 3),\n ('https://t.co/3gbbdpdjat', 3),\n ('https://t.co/e2znxajpre', 3),\n ('https://t.co/catkegayoy', 3),\n ('https://t.co/g63rp042ho', 3),\n ('https://t.co/aziqcdgrnn', 3),\n ('https://t.co/bylqxrjmnt', 3),\n ('https://t.co/wuieefsnoj', 3),\n ('https://t.co/oi39zsanq8', 3),\n ('https://t.co/rafj2l2ceq', 2)]"
     },
     "execution_count": 24,
     "metadata": {},
     "output_type": "execute_result"
    }
   ],
   "source": [
    "dictionary_links.most_common(15)"
   ],
   "metadata": {
    "collapsed": false,
    "ExecuteTime": {
     "end_time": "2024-05-10T13:40:41.884086Z",
     "start_time": "2024-05-10T13:40:41.876832Z"
    }
   },
   "execution_count": 24
  },
  {
   "cell_type": "markdown",
   "metadata": {
    "id": "at6lRYZ8A07N"
   },
   "source": [
    "**Ответ:** Нет, не будет полезна, так как в самих ссылках не хранится никакой информации. К тому же они редко повторяются и только переобучат модель (максимум встречаются 3 раза). Хештеги будут куда полезнее, так как они и содержат информацию, и часто встречаются (многие хештеги встречаются сотни и тысячи раз)"
   ]
  },
  {
   "cell_type": "markdown",
   "metadata": {
    "id": "IOGdUU1kBU1D"
   },
   "source": [
    "Используем опыт предыдущих экспериментов и напишем собственный токенайзер, улучшив TweetTokenizer. Функция tokenize должна:\n",
    "\n",
    "\n",
    "\n",
    "*   Привести текст в нижний регистр\n",
    "*   Применить TweetTokenizer для изначального выделения токенов\n",
    "*   Удалить стоп-слова, пунктуацию, токены из одного символа, с позицией в таблице Unicode 128 и более и ссылки на t.co\n",
    "\n"
   ]
  },
  {
   "cell_type": "code",
   "execution_count": 25,
   "metadata": {
    "id": "ctEsB6xkFrrK",
    "ExecuteTime": {
     "end_time": "2024-05-10T13:40:41.890449Z",
     "start_time": "2024-05-10T13:40:41.885093Z"
    }
   },
   "outputs": [],
   "source": [
    "def custom_tokenizer(text):  # по сути у меня уже всё было сделано в предыдущих заданиях\n",
    "    words = map(lambda x: x.lower(), tw.tokenize(text))  # список слов в нижнем регистре\n",
    "    stopwords_set = set(stopwords.words(\"english\") + list(punctuation))  # стоп-слова и символы пунктуации\n",
    "    tokens = [word for word in words if\n",
    "              ((word not in stopwords_set) and ((len(word) > 1) or (len(word) == 1 and (\n",
    "                      ord(word) < 128))) and not word.startswith(\n",
    "                  \"https://t.co\"))]  # Список с фильтрацией токенов. Условие, конечно, можно вынести в функцию, но вроде и так нормально\n",
    "    # в последней строке будет более правильным сделать \"https://t.co\" not in word, поскольку в таком случае в тестовой выборке будет на 2 ссылки меньше. Но оставлю такой вариант, чтобы совпадало с оригинальным ноутбуком. \n",
    "\n",
    "    return tokens\n"
   ]
  },
  {
   "cell_type": "code",
   "execution_count": 26,
   "metadata": {
    "colab": {
     "base_uri": "https://localhost:8080/"
    },
    "id": "XwbgtYkJGYym",
    "outputId": "5808765b-3448-45e6-ccc1-7cd65f6371ef",
    "ExecuteTime": {
     "end_time": "2024-05-10T13:40:41.898535Z",
     "start_time": "2024-05-10T13:40:41.891455Z"
    }
   },
   "outputs": [
    {
     "data": {
      "text/plain": "['sample', 'text', '@sample_text', '#sampletext']"
     },
     "execution_count": 26,
     "metadata": {},
     "output_type": "execute_result"
    }
   ],
   "source": [
    "custom_tokenizer('This is sample text!!!! @Sample_text I, \\x92\\x92 https://t.co/sample  #sampletext')"
   ]
  },
  {
   "cell_type": "markdown",
   "metadata": {
    "id": "wURVABmXHk97"
   },
   "source": [
    "## Задание 3 Векторизация текстов (2 балла)"
   ]
  },
  {
   "cell_type": "markdown",
   "metadata": {
    "id": "H44iXkoHIQfN"
   },
   "source": [
    "Обучите CountVectorizer с использованием custom_tokenizer в качестве токенайзера. Как размер полученного словаря соотносится с размером изначального словаря из начала задания 2?"
   ]
  },
  {
   "cell_type": "code",
   "source": [
    "from sklearn.feature_extraction.text import CountVectorizer\n",
    "\n",
    "cv = CountVectorizer(ngram_range=(1, 1), tokenizer=custom_tokenizer)\n",
    "bow = cv.fit_transform(X_train.OriginalTweet)\n",
    "\n",
    "print(len(cv.vocabulary_))  # отличается на 2 от словаря ноутбука, но думаю это не критично"
   ],
   "metadata": {
    "colab": {
     "base_uri": "https://localhost:8080/"
    },
    "id": "gHn_limQl3BI",
    "outputId": "8e9c1826-319f-4376-f06e-c30c2eb82648",
    "ExecuteTime": {
     "end_time": "2024-05-10T13:40:51.947814Z",
     "start_time": "2024-05-10T13:40:41.899542Z"
    }
   },
   "execution_count": 27,
   "outputs": [
    {
     "name": "stdout",
     "output_type": "stream",
     "text": [
      "45308\n"
     ]
    }
   ]
  },
  {
   "cell_type": "markdown",
   "metadata": {
    "id": "gsfmaSGoItUm"
   },
   "source": [
    "**Ответ:** В начале задания 2 было 79755 уникальных токенов с ловаре, а стало почти в 2 раза меньше - 45308."
   ]
  },
  {
   "cell_type": "markdown",
   "metadata": {
    "id": "lm6UHNmqKZT0"
   },
   "source": [
    "Посмотрим на какой-нибудь конкретный твитт:"
   ]
  },
  {
   "cell_type": "code",
   "execution_count": 28,
   "metadata": {
    "id": "aJVjjfqOJh8m",
    "ExecuteTime": {
     "end_time": "2024-05-10T13:40:51.953433Z",
     "start_time": "2024-05-10T13:40:51.948821Z"
    }
   },
   "outputs": [
    {
     "data": {
      "text/plain": "('Nice one @SkyNews lets not panic but show ppl in france queueing for food!!! #CoronavirusOutbreak #COVID2019 brainless!! Ffs',\n 0)"
     },
     "execution_count": 28,
     "metadata": {},
     "output_type": "execute_result"
    }
   ],
   "source": [
    "ind = 9023\n",
    "X_train.iloc[ind]['OriginalTweet'], y_train.iloc[ind]"
   ]
  },
  {
   "cell_type": "markdown",
   "metadata": {
    "id": "PBMIHBI5KdaS"
   },
   "source": [
    "Автор твитта не доволен ситуацией с едой во Франции и текст имеет резко негативную окраску.\n",
    "\n",
    "Примените обученный CountVectorizer для векторизации данного текста, и попытайтесь определить самый важный токен и самый неважный токен (токен, компонента которого в векторе максимальна/минимальна, без учета 0). Хорошо ли они определились, почему?"
   ]
  },
  {
   "cell_type": "code",
   "execution_count": 29,
   "metadata": {
    "id": "7NcAllaEKsJj",
    "ExecuteTime": {
     "end_time": "2024-05-10T13:40:51.987040Z",
     "start_time": "2024-05-10T13:40:51.954440Z"
    }
   },
   "outputs": [
    {
     "data": {
      "text/plain": "[('show', 39919),\n ('queueing', 37229),\n ('ppl', 36413),\n ('panic', 35257),\n ('one', 34688),\n ('nice', 34079),\n ('lets', 31579),\n ('france', 27233),\n ('food', 27042),\n ('ffs', 26665),\n ('brainless', 20553),\n ('@skynews', 16658),\n ('#covid2019', 2046),\n ('#coronavirusoutbreak', 1833)]"
     },
     "execution_count": 29,
     "metadata": {},
     "output_type": "execute_result"
    }
   ],
   "source": [
    "bow_ind = cv.transform([X_train.iloc[ind]['OriginalTweet']])\n",
    "bow_ind_indexes = bow_ind.nonzero()[1]  # здесь мы получаем количество повторений каждого токена \n",
    "tokens = cv.get_feature_names_out()\n",
    "sorted([(tokens[idx], count) for idx, count in zip(bow_ind.indices, bow_ind_indexes)], reverse=True)"
   ]
  },
  {
   "cell_type": "markdown",
   "metadata": {
    "id": "TpEsl1k_NF4T"
   },
   "source": [
    "**Ответ:** Самым важным, с точки зрения количества повторов, будет токен show, а самым неважным хештег #coronavirusoutbreak. С точки зрения задачи определения количества повторов они определились хорошо, но с точки зрения определения тональности текста ужасно, так как максимальный token show не даёт информации о настроении текста, тогда как минимальный хештег несёт в себе негативную информацию о распространении коронавируса."
   ]
  },
  {
   "cell_type": "markdown",
   "metadata": {
    "id": "w4DsEQpLO3J6"
   },
   "source": [
    "Теперь примените TfidfVectorizer и определите самый важный/неважный токены. Хорошо ли определились, почему?"
   ]
  },
  {
   "cell_type": "code",
   "execution_count": 30,
   "metadata": {
    "id": "uSNzdK3ENGB3",
    "ExecuteTime": {
     "end_time": "2024-05-10T13:41:02.493601Z",
     "start_time": "2024-05-10T13:40:51.988047Z"
    }
   },
   "outputs": [],
   "source": [
    "from sklearn.feature_extraction.text import TfidfVectorizer\n",
    "\n",
    "tfidf_vec = TfidfVectorizer(ngram_range=(1, 1), tokenizer=custom_tokenizer)\n",
    "vec_train = tfidf_vec.fit_transform(X_train['OriginalTweet'])"
   ]
  },
  {
   "cell_type": "code",
   "outputs": [
    {
     "data": {
      "text/plain": "{'brainless': 0.3867641170466375,\n 'queueing': 0.35434556333216544,\n 'ffs': 0.3244741764513268,\n 'france': 0.32047314046539654,\n '@skynews': 0.31042634466284263,\n 'lets': 0.30121070136861045,\n 'ppl': 0.2550064610386691,\n 'nice': 0.2542729176022132,\n 'show': 0.24406492401820118,\n '#coronavirusoutbreak': 0.22584265007428544,\n '#covid2019': 0.16825192939361902,\n 'one': 0.16306722855395073,\n 'panic': 0.14759470306326164,\n 'food': 0.11328893069250721}"
     },
     "execution_count": 31,
     "metadata": {},
     "output_type": "execute_result"
    }
   ],
   "source": [
    "vec_ind = tfidf_vec.transform([X_train.iloc[ind]['OriginalTweet']])\n",
    "\n",
    "# я тут конечно использую for, но это для нестандартной операции для получения важности определённых слов, так что это не должно быть проблемой.\n",
    "name_to_value = {name: value for name, value in zip(tfidf_vec.get_feature_names_out(), vec_ind.toarray()[0]) if\n",
    "                 value > 0}\n",
    "sorted_name_to_value = dict(sorted(name_to_value.items(), key=lambda x: -x[1]))\n",
    "sorted_name_to_value"
   ],
   "metadata": {
    "collapsed": false,
    "ExecuteTime": {
     "end_time": "2024-05-10T13:41:02.530468Z",
     "start_time": "2024-05-10T13:41:02.494608Z"
    }
   },
   "execution_count": 31
  },
  {
   "cell_type": "markdown",
   "metadata": {
    "id": "NYao_UhqQADm"
   },
   "source": [
    "**Ответ:** Самым важным будет токен редкого слова \"brainless\", а самым неважным популярный токен \"food\". Токены хорошо определились с точки зрения нахождения редких слов, но сами слова, конечно, ужасно определились с точки зрения определения тональности. Так, например, самые важные слова, не считая первого, никак не показывают настроение текста, а важные токены паники и еды, наоборот."
   ]
  },
  {
   "cell_type": "markdown",
   "metadata": {
    "id": "LGRJPqfWSesQ"
   },
   "source": [
    "Найдите какой-нибудь положительно окрашенный твитт, где TfidfVectorizer хорошо (полезно для определения окраски) выделяет важный токен, поясните пример.\n",
    "\n",
    "*Подсказка:* явно положительные твитты можно искать при помощи положительных слов (good, great, amazing и т. д.)"
   ]
  },
  {
   "cell_type": "code",
   "execution_count": 32,
   "metadata": {
    "id": "bRbQ2CHiSuJI",
    "colab": {
     "base_uri": "https://localhost:8080/",
     "height": 53
    },
    "outputId": "c4b34a7d-1076-4e1e-ad5c-9466fd2097c2",
    "ExecuteTime": {
     "end_time": "2024-05-10T13:41:02.550462Z",
     "start_time": "2024-05-10T13:41:02.531477Z"
    }
   },
   "outputs": [
    {
     "data": {
      "text/plain": "    UserName  ScreenName                Location     TweetAt  \\\n43      3854       48806  West Midlands, England  16-03-2020   \n\n                                        OriginalTweet  Sentiment  \n43  Morning everyone have a great and safe day. ??...          1  ",
      "text/html": "<div>\n<style scoped>\n    .dataframe tbody tr th:only-of-type {\n        vertical-align: middle;\n    }\n\n    .dataframe tbody tr th {\n        vertical-align: top;\n    }\n\n    .dataframe thead th {\n        text-align: right;\n    }\n</style>\n<table border=\"1\" class=\"dataframe\">\n  <thead>\n    <tr style=\"text-align: right;\">\n      <th></th>\n      <th>UserName</th>\n      <th>ScreenName</th>\n      <th>Location</th>\n      <th>TweetAt</th>\n      <th>OriginalTweet</th>\n      <th>Sentiment</th>\n    </tr>\n  </thead>\n  <tbody>\n    <tr>\n      <th>43</th>\n      <td>3854</td>\n      <td>48806</td>\n      <td>West Midlands, England</td>\n      <td>16-03-2020</td>\n      <td>Morning everyone have a great and safe day. ??...</td>\n      <td>1</td>\n    </tr>\n  </tbody>\n</table>\n</div>"
     },
     "execution_count": 32,
     "metadata": {},
     "output_type": "execute_result"
    }
   ],
   "source": [
    "df[df['OriginalTweet'].apply(lambda x: 'great' in x) & (df['Sentiment'] == 1)].head(1)\n",
    "# буду брать текст 43 про добренькое утро"
   ]
  },
  {
   "cell_type": "code",
   "source": [
    "good_morning_UserName = 3854\n",
    "\n",
    "vec_ind = tfidf_vec.transform(X_train[X_train[\"UserName\"] == good_morning_UserName]['OriginalTweet'])\n",
    "name_to_value = {name: value for name, value in zip(tfidf_vec.get_feature_names_out(), vec_ind.toarray()[0]) if\n",
    "                 value > 0}\n",
    "sorted_name_to_value = dict(sorted(name_to_value.items(), key=lambda x: -x[1]))\n",
    "sorted_name_to_value"
   ],
   "metadata": {
    "id": "jSjbKPCWk87K",
    "ExecuteTime": {
     "end_time": "2024-05-10T13:41:02.591121Z",
     "start_time": "2024-05-10T13:41:02.551468Z"
    }
   },
   "execution_count": 33,
   "outputs": [
    {
     "data": {
      "text/plain": "{'#mufc_family': 0.5062272267104435,\n '#mufc': 0.4723830651856765,\n '#bekind': 0.36376180707312317,\n '#stoppanicbuying': 0.30020215103514986,\n 'morning': 0.2769402391694,\n 'great': 0.24491309861908994,\n 'safe': 0.22692268480473604,\n 'day': 0.22442620222369328,\n 'everyone': 0.22412292917419724,\n '#coronavirus': 0.0968184715848811}"
     },
     "execution_count": 33,
     "metadata": {},
     "output_type": "execute_result"
    }
   ]
  },
  {
   "cell_type": "markdown",
   "metadata": {
    "id": "JTv9ST2_U6NA"
   },
   "source": [
    "**Ответ:** # Видно, что слово great не определяется как token, влияющий на настроение текста. Можно сделать очевидный вывод, что tf-idf не определяет окраску предложения."
   ]
  },
  {
   "cell_type": "markdown",
   "metadata": {
    "id": "JVEuZm8BHms6"
   },
   "source": [
    "## Задание 4 Обучение первых моделей (1 балл)"
   ]
  },
  {
   "cell_type": "markdown",
   "metadata": {
    "id": "JADkO3sfXdOG"
   },
   "source": [
    "Примените оба векторайзера для получения матриц с признаками текстов.  Выделите целевую переменную."
   ]
  },
  {
   "cell_type": "code",
   "execution_count": 34,
   "metadata": {
    "id": "DguoiXhCX2oN",
    "ExecuteTime": {
     "end_time": "2024-05-10T13:41:33.919793Z",
     "start_time": "2024-05-10T13:41:02.592128Z"
    }
   },
   "outputs": [],
   "source": [
    "count_vec = CountVectorizer(ngram_range=(1, 1), tokenizer=custom_tokenizer)\n",
    "count_bow_train = count_vec.fit_transform(X_train.OriginalTweet)\n",
    "count_bow_test = count_vec.transform(X_test.OriginalTweet)\n",
    "tfidf_vec = TfidfVectorizer(ngram_range=(1, 1), tokenizer=custom_tokenizer)\n",
    "tfidf_vec_train = tfidf_vec.fit_transform(X_train.OriginalTweet)\n",
    "tfidf_vec_test = tfidf_vec.transform(X_test.OriginalTweet)"
   ]
  },
  {
   "cell_type": "markdown",
   "metadata": {
    "id": "_FX1KSOfYSx4"
   },
   "source": [
    "Обучите логистическую регрессию на векторах из обоих векторайзеров. Посчитайте долю правильных ответов на обучающих и тестовых данных. Какой векторайзер показал лучший результат? Что можно сказать о моделях?"
   ]
  },
  {
   "cell_type": "code",
   "execution_count": 35,
   "metadata": {
    "id": "-Tb3eh8UXJ6v",
    "ExecuteTime": {
     "end_time": "2024-05-10T13:41:34.370445Z",
     "start_time": "2024-05-10T13:41:33.923798Z"
    }
   },
   "outputs": [],
   "source": [
    "from sklearn.linear_model import LogisticRegression\n",
    "from sklearn.preprocessing import MaxAbsScaler\n",
    "from sklearn.metrics import accuracy_score\n",
    "\n",
    "# модели\n",
    "count_clf = LogisticRegression(random_state=0)\n",
    "vec_clf = LogisticRegression(random_state=0)\n",
    "\n",
    "# Scaler\n",
    "scaler = MaxAbsScaler()\n",
    "# count\n",
    "count_bow_train = scaler.fit_transform(count_bow_train)\n",
    "count_bow_test = scaler.transform(count_bow_test)\n",
    "# tfidf\n",
    "tfidf_vec_train = scaler.fit_transform(tfidf_vec_train)\n",
    "tfidf_vec_test = scaler.transform(tfidf_vec_test)\n",
    "\n",
    "# pred\n",
    "# count\n",
    "count_clf.fit(count_bow_train, y_train)\n",
    "count_pred_train = count_clf.predict(count_bow_train)\n",
    "count_pred_test = count_clf.predict(count_bow_test)\n",
    "# tfidf\n",
    "vec_clf.fit(tfidf_vec_train, y_train)\n",
    "tfidf_pred_train = vec_clf.predict(tfidf_vec_train)\n",
    "tfidf_pred_test = vec_clf.predict(tfidf_vec_test)"
   ]
  },
  {
   "cell_type": "code",
   "outputs": [
    {
     "name": "stdout",
     "output_type": "stream",
     "text": [
      "CountVectorizer\n",
      "train: 0.9809910294745835\n",
      "test: 0.8607733705401635\n",
      "TfidfVectorizer\n",
      "train: 0.9831268688594618\n",
      "test: 0.856487941000598\n"
     ]
    }
   ],
   "source": [
    "# вывод\n",
    "print(\"CountVectorizer\")\n",
    "print(f\"train: {accuracy_score(y_train, count_pred_train)}\")\n",
    "print(f\"test: {accuracy_score(y_test, count_pred_test)}\")\n",
    "print(\"TfidfVectorizer\")\n",
    "print(f\"train: {accuracy_score(y_train, tfidf_pred_train)}\")\n",
    "print(f\"test: {accuracy_score(y_test, tfidf_pred_test)}\")"
   ],
   "metadata": {
    "collapsed": false,
    "ExecuteTime": {
     "end_time": "2024-05-10T13:41:34.381868Z",
     "start_time": "2024-05-10T13:41:34.371451Z"
    }
   },
   "execution_count": 36
  },
  {
   "cell_type": "markdown",
   "metadata": {
    "id": "8y_wO7rCmv7K"
   },
   "source": [
    "**Ответ:** # Оба векторайзера показали примерно одинаковый результат. Модели показали неплохой результат на тестовой выборке, а на трейне так вообще практически идеальный, так что скорее всего возникло переобучение из-за слишком большого количества уникальных слов. "
   ]
  },
  {
   "cell_type": "markdown",
   "metadata": {
    "id": "rSOR1i3mjrys"
   },
   "source": [
    "## Задание 5 Стемминг (0.5 балла)"
   ]
  },
  {
   "cell_type": "markdown",
   "metadata": {
    "id": "i6ONBWNPjuq-"
   },
   "source": [
    "Для уменьшения словаря можно использовать стемминг.\n",
    "\n",
    "Модифицируйте написанный токенайзер, добавив в него стемминг с использованием SnowballStemmer. Обучите Count- и Tfidf- векторайзеры. Как изменился размер словаря?"
   ]
  },
  {
   "cell_type": "code",
   "execution_count": 37,
   "metadata": {
    "id": "oVfA2-iMkQBb",
    "ExecuteTime": {
     "end_time": "2024-05-10T13:41:34.388183Z",
     "start_time": "2024-05-10T13:41:34.382878Z"
    }
   },
   "outputs": [],
   "source": [
    "from nltk.stem.snowball import SnowballStemmer\n",
    "\n",
    "stemmer = SnowballStemmer(\"english\")\n",
    "\n",
    "\n",
    "def custom_stem_tokenizer(text):\n",
    "    words = map(lambda x: x.lower(), tw.tokenize(text))  # список слов в нижнем регистре\n",
    "    stopwords_set = set(stopwords.words(\"english\") + list(punctuation))  # стоп-слова и символы пунктуации\n",
    "    # добавил только метод stemmer.stem()\n",
    "    tokens = [stemmer.stem(word) for word in words if\n",
    "              ((word not in stopwords_set) and ((len(word) > 1) or (len(word) == 1 and (\n",
    "                      ord(word) < 128))) and not word.startswith(\n",
    "                  \"https://t.co\"))]  # Список с фильтрацией токенов. Условие, конечно, можно вынести в функцию, но вроде и так нормально\n",
    "\n",
    "    return tokens"
   ]
  },
  {
   "cell_type": "code",
   "execution_count": 38,
   "metadata": {
    "colab": {
     "base_uri": "https://localhost:8080/"
    },
    "id": "9QmrjYtqnlPd",
    "outputId": "cd91291d-9676-4611-9fc4-28afaed58963",
    "ExecuteTime": {
     "end_time": "2024-05-10T13:41:34.395088Z",
     "start_time": "2024-05-10T13:41:34.389189Z"
    }
   },
   "outputs": [
    {
     "data": {
      "text/plain": "['sampl', 'text', '@sample_text', '#sampletext', 'ad', 'word', 'check', 'stem']"
     },
     "execution_count": 38,
     "metadata": {},
     "output_type": "execute_result"
    }
   ],
   "source": [
    "custom_stem_tokenizer(\n",
    "    'This is sample text!!!! @Sample_text I, \\x92\\x92 https://t.co/sample  #sampletext adding more words to check stemming')"
   ]
  },
  {
   "cell_type": "code",
   "execution_count": 39,
   "metadata": {
    "colab": {
     "base_uri": "https://localhost:8080/"
    },
    "id": "zAvUTmaplzOS",
    "outputId": "566207fe-183b-4ed6-d333-f86f0cc9ae38",
    "ExecuteTime": {
     "end_time": "2024-05-10T13:42:03.834494Z",
     "start_time": "2024-05-10T13:41:34.396095Z"
    }
   },
   "outputs": [
    {
     "name": "stdout",
     "output_type": "stream",
     "text": [
      "count:  36652\n",
      "tfidf:  36652\n"
     ]
    }
   ],
   "source": [
    "cv = CountVectorizer(ngram_range=(1, 1), tokenizer=custom_stem_tokenizer)\n",
    "count_bow_train = cv.fit_transform(X_train.OriginalTweet)\n",
    "\n",
    "tfidf_vec = TfidfVectorizer(ngram_range=(1, 1), tokenizer=custom_stem_tokenizer)\n",
    "tfidf_vec_train = tfidf_vec.fit_transform(X_train.OriginalTweet)\n",
    "\n",
    "print(\"count: \", len(cv.vocabulary_))\n",
    "print(\"tfidf: \", len(cv.vocabulary_))"
   ]
  },
  {
   "cell_type": "markdown",
   "metadata": {
    "id": "Oyzs5TaAoHP6"
   },
   "source": [
    "**Ответ** # Размер словаря уменьшился, так как из-за стемминга стало меньше уникальных токенов."
   ]
  },
  {
   "cell_type": "markdown",
   "metadata": {
    "id": "1OkncHI8oRmd"
   },
   "source": [
    "Обучите логистическую регрессию с использованием обоих векторайзеров. Изменилось ли качество? Есть ли смысл применять стемминг?"
   ]
  },
  {
   "cell_type": "code",
   "execution_count": 40,
   "metadata": {
    "id": "ykZJPphEoZ5W",
    "ExecuteTime": {
     "end_time": "2024-05-10T13:42:46.930803Z",
     "start_time": "2024-05-10T13:42:03.835502Z"
    }
   },
   "outputs": [],
   "source": [
    "# Всё также, как в задании 5\n",
    "count_vec = CountVectorizer(ngram_range=(1, 1), tokenizer=custom_stem_tokenizer)\n",
    "count_bow_train = count_vec.fit_transform(X_train.OriginalTweet)\n",
    "count_bow_test = count_vec.transform(X_test.OriginalTweet)\n",
    "tfidf_vec = TfidfVectorizer(ngram_range=(1, 1), tokenizer=custom_stem_tokenizer)\n",
    "tfidf_vec_train = tfidf_vec.fit_transform(X_train.OriginalTweet)\n",
    "tfidf_vec_test = tfidf_vec.transform(X_test.OriginalTweet)"
   ]
  },
  {
   "cell_type": "code",
   "outputs": [],
   "source": [
    "# модели\n",
    "count_clf = LogisticRegression(random_state=0)\n",
    "vec_clf = LogisticRegression(random_state=0)\n",
    "\n",
    "# Scaler\n",
    "scaler = MaxAbsScaler()\n",
    "# count\n",
    "count_bow_train = scaler.fit_transform(count_bow_train)\n",
    "count_bow_test = scaler.transform(count_bow_test)\n",
    "# tfidf\n",
    "tfidf_vec_train = scaler.fit_transform(tfidf_vec_train)\n",
    "tfidf_vec_test = scaler.transform(tfidf_vec_test)\n",
    "\n",
    "# pred\n",
    "# count\n",
    "count_clf.fit(count_bow_train, y_train)\n",
    "count_pred_train = count_clf.predict(count_bow_train)\n",
    "count_pred_test = count_clf.predict(count_bow_test)\n",
    "# tfidf\n",
    "vec_clf.fit(tfidf_vec_train, y_train)\n",
    "tfidf_pred_train = vec_clf.predict(tfidf_vec_train)\n",
    "tfidf_pred_test = vec_clf.predict(tfidf_vec_test)"
   ],
   "metadata": {
    "collapsed": false,
    "ExecuteTime": {
     "end_time": "2024-05-10T13:42:47.297596Z",
     "start_time": "2024-05-10T13:42:46.931813Z"
    }
   },
   "execution_count": 41
  },
  {
   "cell_type": "code",
   "outputs": [
    {
     "name": "stdout",
     "output_type": "stream",
     "text": [
      "CountVectorizer\n",
      "train: 0.9696283639470312\n",
      "test: 0.8606737093880805\n",
      "TfidfVectorizer\n",
      "train: 0.970140965399402\n",
      "test: 0.861271676300578\n"
     ]
    }
   ],
   "source": [
    "# вывод\n",
    "print(\"CountVectorizer\")\n",
    "print(f\"train: {accuracy_score(y_train, count_pred_train)}\")\n",
    "print(f\"test: {accuracy_score(y_test, count_pred_test)}\")\n",
    "print(\"TfidfVectorizer\")\n",
    "print(f\"train: {accuracy_score(y_train, tfidf_pred_train)}\")\n",
    "print(f\"test: {accuracy_score(y_test, tfidf_pred_test)}\")\n",
    "# без стемминга:\n",
    "# CountVectorizer\n",
    "# train: 0.9809910294745835\n",
    "# test: 0.8607733705401635\n",
    "# TfidfVectorizer\n",
    "# train: 0.9831268688594618\n",
    "# test: 0.856487941000598"
   ],
   "metadata": {
    "collapsed": false,
    "ExecuteTime": {
     "end_time": "2024-05-10T13:42:47.312163Z",
     "start_time": "2024-05-10T13:42:47.298601Z"
    }
   },
   "execution_count": 42
  },
  {
   "cell_type": "markdown",
   "metadata": {
    "id": "bCRlrODro0h8"
   },
   "source": [
    "**Ответ:** Качество почти не изменилось. Немного уменьшились оценки на трейне, что свидетельствует об уменьшении переобучения. Особого смысла в данной задачи не было, но хуже точно не стало."
   ]
  },
  {
   "cell_type": "markdown",
   "metadata": {
    "id": "hYWGQNEDqLC-"
   },
   "source": [
    "## Задание  6 Работа с частотами (1.5 балла)"
   ]
  },
  {
   "cell_type": "markdown",
   "metadata": {
    "id": "8Hq-tl5mqUSn"
   },
   "source": [
    "Еще один способ уменьшить количество признаков - это использовать параметры min_df и max_df при построении векторайзера эти параметры помогают ограничить требуемую частоту встречаемости токена в документах.\n",
    "\n",
    "По умолчанию берутся все токены, которые встретились хотя бы один раз.\n",
    "\n"
   ]
  },
  {
   "cell_type": "markdown",
   "metadata": {
    "id": "m1SiD4DE3WZ2"
   },
   "source": [
    "Подберите max_df такой, что размер словаря будет 36651 (на 1 меньше, чем было). Почему параметр получился такой большой/маленький?"
   ]
  },
  {
   "cell_type": "code",
   "source": [
    "cv = CountVectorizer(tokenizer=custom_stem_tokenizer, max_df=0.3)\n",
    "cv_df = cv.fit(X_train.OriginalTweet)\n",
    "\n",
    "print(len(cv_df.vocabulary_))"
   ],
   "metadata": {
    "colab": {
     "base_uri": "https://localhost:8080/"
    },
    "id": "o3YLb8PViExb",
    "outputId": "b6d67654-d232-4e11-a5ca-6f2145053e98",
    "ExecuteTime": {
     "end_time": "2024-05-10T13:43:02.187351Z",
     "start_time": "2024-05-10T13:42:47.313180Z"
    }
   },
   "execution_count": 43,
   "outputs": [
    {
     "name": "stdout",
     "output_type": "stream",
     "text": [
      "36651\n"
     ]
    }
   ]
  },
  {
   "cell_type": "code",
   "outputs": [],
   "source": [
    "count_bow_train = cv.transform(X_train.OriginalTweet)\n",
    "count_bow_test = cv.transform(X_test.OriginalTweet)\n",
    "\n",
    "# модели\n",
    "count_clf = LogisticRegression(random_state=0)\n",
    "\n",
    "# Scaler\n",
    "scaler = MaxAbsScaler()\n",
    "# count\n",
    "count_bow_train = scaler.fit_transform(count_bow_train)\n",
    "count_bow_test = scaler.transform(count_bow_test)\n",
    "\n",
    "# pred\n",
    "# count\n",
    "count_clf.fit(count_bow_train, y_train)\n",
    "count_pred_train = count_clf.predict(count_bow_train)\n",
    "count_pred_test = count_clf.predict(count_bow_test)"
   ],
   "metadata": {
    "collapsed": false,
    "ExecuteTime": {
     "end_time": "2024-05-10T13:43:23.496765Z",
     "start_time": "2024-05-10T13:43:02.187351Z"
    }
   },
   "execution_count": 44
  },
  {
   "cell_type": "code",
   "outputs": [
    {
     "name": "stdout",
     "output_type": "stream",
     "text": [
      "CountVectorizer\n",
      "train: 0.9695429303716361\n",
      "test: 0.8615706597568268\n"
     ]
    }
   ],
   "source": [
    "# вывод\n",
    "print(\"CountVectorizer\")\n",
    "print(f\"train: {accuracy_score(y_train, count_pred_train)}\")\n",
    "print(f\"test: {accuracy_score(y_test, count_pred_test)}\")\n",
    "# CountVectorizer\n",
    "# train: 0.9696283639470312\n",
    "# test: 0.8606737093880805"
   ],
   "metadata": {
    "collapsed": false,
    "ExecuteTime": {
     "end_time": "2024-05-10T13:43:23.506141Z",
     "start_time": "2024-05-10T13:43:23.497771Z"
    }
   },
   "execution_count": 45
  },
  {
   "cell_type": "markdown",
   "metadata": {
    "id": "UdZYoGZR4UsA"
   },
   "source": [
    "**Ответ:** Параметр такой маленький, поскольку, чтобы удалить 1 слово из словаря, мне понадобилось удалить все слова, которые встречаются в 30 процентах текста (0.3) или чаще. Целочисленные значения этого параметра задают количество максимального количества текстов, в которых может встретиться данное слово. Это используется для того, чтобы удалить стоп-слова, специфичные для данного корпуса текстов\n",
    "Качество на тесте немного улучшилось, возможно стоило бы удалить больше специфичных для данных текстов стоп-слов"
   ]
  },
  {
   "cell_type": "markdown",
   "metadata": {
    "id": "_gRIUaB1u32f"
   },
   "source": [
    "Подберите min_df (используйте дефолтное значение max_df) в CountVectorizer таким образом, чтобы размер словаря был 3700 токенов (при использовании токенайзера со стеммингом), а качество осталось таким же, как и было. Что можно сказать о результатах?"
   ]
  },
  {
   "cell_type": "code",
   "execution_count": 46,
   "metadata": {
    "colab": {
     "base_uri": "https://localhost:8080/"
    },
    "id": "kSnMJkn9XmsT",
    "outputId": "e0d8eb21-e5d7-46b4-e1d1-4b1ae220e9a0",
    "ExecuteTime": {
     "end_time": "2024-05-10T13:43:38.951164Z",
     "start_time": "2024-05-10T13:43:23.507147Z"
    }
   },
   "outputs": [
    {
     "name": "stdout",
     "output_type": "stream",
     "text": [
      "3700\n"
     ]
    }
   ],
   "source": [
    "cv = CountVectorizer(tokenizer=custom_stem_tokenizer, min_df=0.00045)\n",
    "cv_df = cv.fit(X_train.OriginalTweet)\n",
    "\n",
    "print(len(cv_df.vocabulary_))"
   ]
  },
  {
   "cell_type": "code",
   "source": [
    "cv = CountVectorizer(tokenizer=custom_stem_tokenizer, min_df=0.00045)\n",
    "cv_df = cv.fit(X_train.OriginalTweet)\n",
    "\n",
    "count_bow_train = cv.transform(X_train.OriginalTweet)\n",
    "count_bow_test = cv.transform(X_test.OriginalTweet)\n",
    "\n",
    "# модели\n",
    "count_clf = LogisticRegression(random_state=0)\n",
    "\n",
    "# Scaler\n",
    "scaler = MaxAbsScaler()\n",
    "# count\n",
    "count_bow_train = scaler.fit_transform(count_bow_train)\n",
    "count_bow_test = scaler.transform(count_bow_test)\n",
    "\n",
    "# pred\n",
    "# count\n",
    "count_clf.fit(count_bow_train, y_train)\n",
    "count_pred_train = count_clf.predict(count_bow_train)\n",
    "count_pred_test = count_clf.predict(count_bow_test)"
   ],
   "metadata": {
    "id": "mvMDwpdfjm8Y",
    "ExecuteTime": {
     "end_time": "2024-05-10T13:44:00.392948Z",
     "start_time": "2024-05-10T13:43:38.952172Z"
    }
   },
   "execution_count": 47,
   "outputs": []
  },
  {
   "cell_type": "code",
   "outputs": [
    {
     "name": "stdout",
     "output_type": "stream",
     "text": [
      "CountVectorizer\n",
      "train: 0.9181119179837676\n",
      "test: 0.8606737093880805\n"
     ]
    }
   ],
   "source": [
    "# вывод\n",
    "print(\"CountVectorizer\")\n",
    "print(f\"train: {accuracy_score(y_train, count_pred_train)}\")\n",
    "print(f\"test: {accuracy_score(y_test, count_pred_test)}\")\n",
    "# CountVectorizer\n",
    "# train: 0.9696283639470312\n",
    "# test: 0.8606737093880805"
   ],
   "metadata": {
    "collapsed": false,
    "ExecuteTime": {
     "end_time": "2024-05-10T13:44:00.400485Z",
     "start_time": "2024-05-10T13:44:00.393956Z"
    }
   },
   "execution_count": 48
  },
  {
   "cell_type": "markdown",
   "metadata": {
    "id": "3fGYpUIZx0fk"
   },
   "source": [
    "**Ответ:** min_df удаляет токены, которые появляются редко. Так, я удалил токены, которые появляются меньше чем в 0.045% текстов (0.00045). В результате качество на тесте осталось таким же, а на трейне уменьшилось. Это свидетельствует о том, что эти токены не влияли на обученную модель, но мешали оценке на трейне"
   ]
  },
  {
   "cell_type": "markdown",
   "source": [
    "В предыдущих заданиях признаки не скалировались. Отскалируйте данные (при словаре размера 3.7 тысяч, векторизованные CountVectorizer), обучите логистическую регрессию, посмотрите качество и выведите `berplot` содержащий по 10 токенов, с наибольшим по модулю положительными/отрицательными весами. Что можно сказать об этих токенах?"
   ],
   "metadata": {
    "id": "Gx_h_-inKbBl"
   }
  },
  {
   "cell_type": "code",
   "source": [
    "from sklearn.preprocessing import StandardScaler\n",
    "\n",
    "# До этого я уже использовал скалер, только другой. Не стану убирать его из предыдущих заданий\n",
    "\n",
    "count_bow_train = cv.transform(X_train.OriginalTweet)\n",
    "count_bow_test = cv.transform(X_test.OriginalTweet)\n",
    "\n",
    "# модели\n",
    "count_clf = LogisticRegression(random_state=0)\n",
    "\n",
    "# Scaler\n",
    "scaler = StandardScaler(with_mean=False)  # аргумент для работы с разреженными данными (много нулей)\n",
    "# count\n",
    "count_bow_train = scaler.fit_transform(count_bow_train)\n",
    "count_bow_test = scaler.transform(count_bow_test)\n",
    "\n",
    "# pred\n",
    "# count\n",
    "count_clf.fit(count_bow_train, y_train)\n",
    "count_pred_train = count_clf.predict(count_bow_train)\n",
    "count_pred_test = count_clf.predict(count_bow_test)"
   ],
   "metadata": {
    "id": "KBATXJX6LG9q",
    "ExecuteTime": {
     "end_time": "2024-05-10T13:44:21.968538Z",
     "start_time": "2024-05-10T13:44:00.401491Z"
    }
   },
   "execution_count": 49,
   "outputs": []
  },
  {
   "cell_type": "code",
   "outputs": [
    {
     "name": "stdout",
     "output_type": "stream",
     "text": [
      "CountVectorizer\n",
      "train: 0.9417343015805212\n",
      "test: 0.8446282639027307\n"
     ]
    }
   ],
   "source": [
    "# вывод\n",
    "print(\"CountVectorizer\")\n",
    "print(f\"train: {accuracy_score(y_train, count_pred_train)}\")\n",
    "print(f\"test: {accuracy_score(y_test, count_pred_test)}\")\n",
    "# CountVectorizer\n",
    "# train: 0.9696283639470312\n",
    "# test: 0.8606737093880805"
   ],
   "metadata": {
    "collapsed": false,
    "ExecuteTime": {
     "end_time": "2024-05-10T13:44:21.975925Z",
     "start_time": "2024-05-10T13:44:21.969547Z"
    }
   },
   "execution_count": 50
  },
  {
   "cell_type": "code",
   "outputs": [
    {
     "data": {
      "text/plain": "array([['hand', '1.235498888859424'],\n       ['free', '1.1134885733064563'],\n       ['help', '1.080914920047591'],\n       ['thank', '1.0455204777361342'],\n       ['like', '0.9337973780860798'],\n       ['best', '0.9252220120601077'],\n       ['pleas', '0.8402685687116278'],\n       ['great', '0.8183036254955253'],\n       ['safe', '0.7938197345040192'],\n       ['support', '0.745715893390048']], dtype='<U32')"
     },
     "metadata": {},
     "output_type": "display_data"
    },
    {
     "data": {
      "text/plain": "array([['crisi', '-1.755217472507634'],\n       ['panic', '-1.3139095940760792'],\n       ['scam', '-1.072973842632891'],\n       ['kill', '-0.7654729660248036'],\n       ['crude', '-0.6119118989308503'],\n       ['stop', '-0.6047545835755219'],\n       ['fear', '-0.5761595920473155'],\n       ['emerg', '-0.5645343810175324'],\n       ['fight', '-0.544718642236125']], dtype='<U32')"
     },
     "metadata": {},
     "output_type": "display_data"
    }
   ],
   "source": [
    "# видимо имелся ввиду barplot, а не berplot\n",
    "sorted_token_to_weight = sorted(list(zip(cv.get_feature_names_out().tolist(), count_clf.coef_.tolist()[0])),\n",
    "                                key=lambda x: x[1], reverse=True)\n",
    "top10 = np.array(sorted_token_to_weight[:10])\n",
    "bot10 = np.array(sorted_token_to_weight[:-10:-1])\n",
    "display(top10)\n",
    "display(bot10)"
   ],
   "metadata": {
    "collapsed": false,
    "ExecuteTime": {
     "end_time": "2024-05-10T13:44:21.989924Z",
     "start_time": "2024-05-10T13:44:21.976933Z"
    }
   },
   "execution_count": 51
  },
  {
   "cell_type": "code",
   "outputs": [
    {
     "data": {
      "text/plain": "<Figure size 1600x800 with 1 Axes>",
      "image/png": "[encoded data removed]"
     },
     "metadata": {},
     "output_type": "display_data"
    }
   ],
   "source": [
    "words = np.concatenate((top10[:, 0], bot10[:, 0]))\n",
    "weights = np.concatenate((top10[:, 1], bot10[:, 1])).astype(float)\n",
    "\n",
    "plt.figure(figsize=(16, 8))\n",
    "sns.barplot(x=words, y=weights)\n",
    "plt.show()"
   ],
   "metadata": {
    "collapsed": false,
    "ExecuteTime": {
     "end_time": "2024-05-10T13:44:22.315577Z",
     "start_time": "2024-05-10T13:44:21.989924Z"
    }
   },
   "execution_count": 52
  },
  {
   "cell_type": "markdown",
   "source": [
    "**Ответ:** Качества ничем оказалось хуже, чем для других скалеров (уже не стал убирать его во всех предыдущих). Видимо StandardScaler хуже подходит для разреженных данных.\n",
    "Выглядит так, что токены определились правильно. Сильно положительные токены связанны с позитивом, например thank, great, great, safe, support, а отрицательные с негативными токенами feat, panic, stop, crisis, scam и т.д."
   ],
   "metadata": {
    "id": "ThcEfzY1LHET"
   }
  },
  {
   "cell_type": "markdown",
   "metadata": {
    "id": "ktJVOdrIHq7B"
   },
   "source": [
    "## Задание 7 Другие признаки (1.5 балла)"
   ]
  },
  {
   "cell_type": "markdown",
   "metadata": {
    "id": "Yt3jRCZ2H0Og"
   },
   "source": [
    "Мы были сконцентрированы на работе с текстами твиттов и не использовали другие признаки - имена пользователя, дату и местоположение"
   ]
  },
  {
   "cell_type": "markdown",
   "metadata": {
    "id": "52wjewCCo_di"
   },
   "source": [
    "Изучите признаки UserName и ScreenName. полезны ли они? Если полезны, то закодируйте их, добавьте к матрице с отскалированными признаками, обучите логистическую регрессию, замерьте качество."
   ]
  },
  {
   "cell_type": "code",
   "execution_count": 53,
   "metadata": {
    "id": "63thouYZptj6",
    "ExecuteTime": {
     "end_time": "2024-05-10T13:44:22.326008Z",
     "start_time": "2024-05-10T13:44:22.316584Z"
    }
   },
   "outputs": [
    {
     "data": {
      "text/plain": "       UserName  ScreenName\n21526     30059       75011\n12442     18881       63833\n22416     31193       76145\n7152      12485       57437\n31718     42817       87769\n12615     19094       64046\n7211      12559       57511\n17279     24824       69776\n22625     31445       76397\n18387     26166       71118",
      "text/html": "<div>\n<style scoped>\n    .dataframe tbody tr th:only-of-type {\n        vertical-align: middle;\n    }\n\n    .dataframe tbody tr th {\n        vertical-align: top;\n    }\n\n    .dataframe thead th {\n        text-align: right;\n    }\n</style>\n<table border=\"1\" class=\"dataframe\">\n  <thead>\n    <tr style=\"text-align: right;\">\n      <th></th>\n      <th>UserName</th>\n      <th>ScreenName</th>\n    </tr>\n  </thead>\n  <tbody>\n    <tr>\n      <th>21526</th>\n      <td>30059</td>\n      <td>75011</td>\n    </tr>\n    <tr>\n      <th>12442</th>\n      <td>18881</td>\n      <td>63833</td>\n    </tr>\n    <tr>\n      <th>22416</th>\n      <td>31193</td>\n      <td>76145</td>\n    </tr>\n    <tr>\n      <th>7152</th>\n      <td>12485</td>\n      <td>57437</td>\n    </tr>\n    <tr>\n      <th>31718</th>\n      <td>42817</td>\n      <td>87769</td>\n    </tr>\n    <tr>\n      <th>12615</th>\n      <td>19094</td>\n      <td>64046</td>\n    </tr>\n    <tr>\n      <th>7211</th>\n      <td>12559</td>\n      <td>57511</td>\n    </tr>\n    <tr>\n      <th>17279</th>\n      <td>24824</td>\n      <td>69776</td>\n    </tr>\n    <tr>\n      <th>22625</th>\n      <td>31445</td>\n      <td>76397</td>\n    </tr>\n    <tr>\n      <th>18387</th>\n      <td>26166</td>\n      <td>71118</td>\n    </tr>\n  </tbody>\n</table>\n</div>"
     },
     "execution_count": 53,
     "metadata": {},
     "output_type": "execute_result"
    }
   ],
   "source": [
    "X_train.sample(10)[[\"UserName\", \"ScreenName\"]]"
   ]
  },
  {
   "cell_type": "markdown",
   "metadata": {
    "id": "r8_qR-gnpT3a"
   },
   "source": [
    "**Ответ:** Это бесполезные признаки, хранящие номер пользователя и устройства, которые не содержат в себе никакой информации об эмоциональной окраске предложения и, скорее всего, только дополнительно переобучат модель"
   ]
  },
  {
   "cell_type": "markdown",
   "metadata": {
    "id": "ythEcFSkt7y3"
   },
   "source": [
    "Изучите признак TweetAt в обучающей выборке: преобразуйте его к типу datetime и нарисуйте его гистограмму с разделением по цвету на основе целевой переменной. Полезен ли он? Если полезен, то закодируйте его, добавьте к матрице с отскалированными признаками, обучите логистическую регрессию, замерьте качество."
   ]
  },
  {
   "cell_type": "code",
   "source": [
    "tweet_at = pd.to_datetime(X_train[\"TweetAt\"], format='%d-%m-%Y')\n",
    "\n",
    "plt.figure(figsize=(16, 8))\n",
    "sns.histplot(x=tweet_at, hue=y_train, palette={0: 'red', 1: 'green'})\n",
    "plt.show()"
   ],
   "metadata": {
    "id": "Lxb_k0JLirNv",
    "ExecuteTime": {
     "end_time": "2024-05-10T13:44:22.853167Z",
     "start_time": "2024-05-10T13:44:22.328019Z"
    }
   },
   "execution_count": 54,
   "outputs": [
    {
     "data": {
      "text/plain": "<Figure size 1600x800 with 1 Axes>",
      "image/png": "[encoded data removed]"
     },
     "metadata": {},
     "output_type": "display_data"
    }
   ]
  },
  {
   "cell_type": "markdown",
   "metadata": {
    "id": "4IdLBdpQxM-G"
   },
   "source": [
    "**Ответ:** Из гистограммы видно, что положительных и отрицательных постов всегда примерно одинаковое количество, только положительных постов зачастую чуть больше из-за дисбаланса класса. Нет явных дат, когда больше негативных (красных) или позитивных (зелёных) постов, отличается только их суммарное количество. То есть дата не даёт никакой информации для классификации и не должна быть использованы в модели."
   ]
  },
  {
   "cell_type": "markdown",
   "source": [
    "Поработайте с признаком Location в обучающей выборке. Сколько уникальных значений?"
   ],
   "metadata": {
    "id": "r2JtRPhNP6qx"
   }
  },
  {
   "cell_type": "code",
   "source": [
    "X_train[\"Location\"].unique()  # почти 8000 уникальных значений"
   ],
   "metadata": {
    "id": "xYQZQ1FRNpoe",
    "ExecuteTime": {
     "end_time": "2024-05-10T13:44:22.861747Z",
     "start_time": "2024-05-10T13:44:22.854175Z"
    }
   },
   "execution_count": 55,
   "outputs": [
    {
     "data": {
      "text/plain": "array(['Unknown', 'Boston, MA HQ', 'India', ..., 'Skipton, England',\n       'lagos, NIGERIA', 'Waterville, Ireland Austin, TX'], dtype=object)"
     },
     "execution_count": 55,
     "metadata": {},
     "output_type": "execute_result"
    }
   ]
  },
  {
   "cell_type": "markdown",
   "source": [
    "Постройте гистограмму топ-10 по популярности местоположений (исключая Unknown)"
   ],
   "metadata": {
    "id": "6k4JwpRTQISa"
   }
  },
  {
   "cell_type": "code",
   "source": [
    "places = Counter(X_train[\"Location\"])\n",
    "del places[\"Unknown\"]\n",
    "\n",
    "top10_places = pd.DataFrame(places.most_common(10), columns=['Location', 'Frequency'])\n",
    "plt.figure(figsize=(20, 6))\n",
    "sns.histplot(data=top10_places, x=\"Location\", y=\"Frequency\", bins=10)\n",
    "plt.show()"
   ],
   "metadata": {
    "id": "J91YkhegJ0mz",
    "ExecuteTime": {
     "end_time": "2024-05-10T13:44:23.118848Z",
     "start_time": "2024-05-10T13:44:22.862755Z"
    }
   },
   "execution_count": 56,
   "outputs": [
    {
     "data": {
      "text/plain": "<Figure size 2000x600 with 1 Axes>",
      "image/png": "[encoded data removed]"
     },
     "metadata": {},
     "output_type": "display_data"
    }
   ]
  },
  {
   "cell_type": "markdown",
   "source": [
    "Видно, что многие местоположения включают в себя более точное название места, чем другие (Например, у некоторых стоит London, UK; а у некоторых просто UK или United Kingdom).\n",
    "\n",
    "Создайте новый признак WiderLocation, который содержит самое широкое местоположение (например, из London, UK должно получиться UK). Сколько уникальных категорий теперь? Постройте аналогичную гистограмму."
   ],
   "metadata": {
    "id": "ZOsv3lODTfYB"
   }
  },
  {
   "cell_type": "code",
   "outputs": [
    {
     "data": {
      "text/plain": "       UserName  ScreenName                        Location     TweetAt  \\\n25621     35178       80130                         Unknown  06-04-2020   \n30135     40819       85771                   Boston, MA HQ  10-04-2020   \n28899     39249       84201                           India  09-04-2020   \n5989      11068       56020             Mayfair, London, UK  19-03-2020   \n4367       9109       54061                             WNC  18-03-2020   \n...         ...         ...                             ...         ...   \n20757     29120       74072                         Unknown  31-03-2020   \n32103     43291       88243  Waterville, Ireland Austin, TX  13-04-2020   \n30403     41159       86111            Mumbai , Delhi India  10-04-2020   \n21243     29702       74654                         Unknown  01-04-2020   \n2732       7104       52056                         Unknown  18-03-2020   \n\n                                           OriginalTweet WiderLocation  \n25621  Why we still want to buy so much stuff during ...       unknown  \n30135  With driving even more usage a strong strategy...         ma hq  \n28899  @Canon_India I am very happy.. Great job by @C...         india  \n5989   The U.S national debt will likely exceed $30 T...            uk  \n4367   Finally got to the grocery store. Honestly, wh...           wnc  \n...                                                  ...           ...  \n20757  Football is in ruins right now.When it will re...       unknown  \n32103  Hand sanitizer made here on the Skellig Coast!...            tx  \n30403  An initiative  taken by our  @GOLDENINITIATI1 ...   delhi india  \n21243  Vile premiership players demanding full wages ...       unknown  \n2732   Just wondering why we arenÃÂt screening at t...       unknown  \n\n[23410 rows x 6 columns]",
      "text/html": "<div>\n<style scoped>\n    .dataframe tbody tr th:only-of-type {\n        vertical-align: middle;\n    }\n\n    .dataframe tbody tr th {\n        vertical-align: top;\n    }\n\n    .dataframe thead th {\n        text-align: right;\n    }\n</style>\n<table border=\"1\" class=\"dataframe\">\n  <thead>\n    <tr style=\"text-align: right;\">\n      <th></th>\n      <th>UserName</th>\n      <th>ScreenName</th>\n      <th>Location</th>\n      <th>TweetAt</th>\n      <th>OriginalTweet</th>\n      <th>WiderLocation</th>\n    </tr>\n  </thead>\n  <tbody>\n    <tr>\n      <th>25621</th>\n      <td>35178</td>\n      <td>80130</td>\n      <td>Unknown</td>\n      <td>06-04-2020</td>\n      <td>Why we still want to buy so much stuff during ...</td>\n      <td>unknown</td>\n    </tr>\n    <tr>\n      <th>30135</th>\n      <td>40819</td>\n      <td>85771</td>\n      <td>Boston, MA HQ</td>\n      <td>10-04-2020</td>\n      <td>With driving even more usage a strong strategy...</td>\n      <td>ma hq</td>\n    </tr>\n    <tr>\n      <th>28899</th>\n      <td>39249</td>\n      <td>84201</td>\n      <td>India</td>\n      <td>09-04-2020</td>\n      <td>@Canon_India I am very happy.. Great job by @C...</td>\n      <td>india</td>\n    </tr>\n    <tr>\n      <th>5989</th>\n      <td>11068</td>\n      <td>56020</td>\n      <td>Mayfair, London, UK</td>\n      <td>19-03-2020</td>\n      <td>The U.S national debt will likely exceed $30 T...</td>\n      <td>uk</td>\n    </tr>\n    <tr>\n      <th>4367</th>\n      <td>9109</td>\n      <td>54061</td>\n      <td>WNC</td>\n      <td>18-03-2020</td>\n      <td>Finally got to the grocery store. Honestly, wh...</td>\n      <td>wnc</td>\n    </tr>\n    <tr>\n      <th>...</th>\n      <td>...</td>\n      <td>...</td>\n      <td>...</td>\n      <td>...</td>\n      <td>...</td>\n      <td>...</td>\n    </tr>\n    <tr>\n      <th>20757</th>\n      <td>29120</td>\n      <td>74072</td>\n      <td>Unknown</td>\n      <td>31-03-2020</td>\n      <td>Football is in ruins right now.When it will re...</td>\n      <td>unknown</td>\n    </tr>\n    <tr>\n      <th>32103</th>\n      <td>43291</td>\n      <td>88243</td>\n      <td>Waterville, Ireland Austin, TX</td>\n      <td>13-04-2020</td>\n      <td>Hand sanitizer made here on the Skellig Coast!...</td>\n      <td>tx</td>\n    </tr>\n    <tr>\n      <th>30403</th>\n      <td>41159</td>\n      <td>86111</td>\n      <td>Mumbai , Delhi India</td>\n      <td>10-04-2020</td>\n      <td>An initiative  taken by our  @GOLDENINITIATI1 ...</td>\n      <td>delhi india</td>\n    </tr>\n    <tr>\n      <th>21243</th>\n      <td>29702</td>\n      <td>74654</td>\n      <td>Unknown</td>\n      <td>01-04-2020</td>\n      <td>Vile premiership players demanding full wages ...</td>\n      <td>unknown</td>\n    </tr>\n    <tr>\n      <th>2732</th>\n      <td>7104</td>\n      <td>52056</td>\n      <td>Unknown</td>\n      <td>18-03-2020</td>\n      <td>Just wondering why we arenÃÂt screening at t...</td>\n      <td>unknown</td>\n    </tr>\n  </tbody>\n</table>\n<p>23410 rows × 6 columns</p>\n</div>"
     },
     "metadata": {},
     "output_type": "display_data"
    },
    {
     "data": {
      "text/plain": "       UserName  ScreenName                       Location     TweetAt  \\\n28168     38343       83295                         London  08-04-2020   \n19874     28015       72967                  Baltimore, MD  26-03-2020   \n31702     42798       87750                Tokyo-to, Japan  12-04-2020   \n5110      10012       54964                           Ohio  19-03-2020   \n30081     40750       85702                    Detroit, MI  10-04-2020   \n...         ...         ...                            ...         ...   \n5847      10903       55855  Yorkshire ÃÂ UK ÃÂ Europe  19-03-2020   \n3220       7693       52645                          India  18-03-2020   \n11637     17912       62864             Lexington/Phoenix   21-03-2020   \n21149     29590       74542                        Unknown  01-04-2020   \n23240     32197       77149                        Unknown  04-04-2020   \n\n                                           OriginalTweet  \\\n28168  What will the post-COVID-19 consumer look like...   \n19874  It's crazy how going to the grocery store is s...   \n31702  Best online stores to buy things from Tokyo an...   \n5110   #AngelaMerkel Nails #Coronavirus Speech ÃÂ U...   \n30081  Just saw someone at the grocery store lick the...   \n...                                                  ...   \n5847   As a supermarket assistant went through my bas...   \n3220   #NewsAlert | The benchmark West Texas Intermed...   \n11637  ItÃÂs starting. Sh*tÃÂs getting weird.\\r\\r...   \n21149  @henrymcmaster I work in a definitely nonessen...   \n23240  Experience the only best online shopping   Jus...   \n\n                       WiderLocation  \n28168                         london  \n19874                             md  \n31702                          japan  \n5110                            ohio  \n30081                             mi  \n...                              ...  \n5847   yorkshire ãâ uk ãâ europe  \n3220                           india  \n11637             lexington/phoenix   \n21149                        unknown  \n23240                        unknown  \n\n[10034 rows x 6 columns]",
      "text/html": "<div>\n<style scoped>\n    .dataframe tbody tr th:only-of-type {\n        vertical-align: middle;\n    }\n\n    .dataframe tbody tr th {\n        vertical-align: top;\n    }\n\n    .dataframe thead th {\n        text-align: right;\n    }\n</style>\n<table border=\"1\" class=\"dataframe\">\n  <thead>\n    <tr style=\"text-align: right;\">\n      <th></th>\n      <th>UserName</th>\n      <th>ScreenName</th>\n      <th>Location</th>\n      <th>TweetAt</th>\n      <th>OriginalTweet</th>\n      <th>WiderLocation</th>\n    </tr>\n  </thead>\n  <tbody>\n    <tr>\n      <th>28168</th>\n      <td>38343</td>\n      <td>83295</td>\n      <td>London</td>\n      <td>08-04-2020</td>\n      <td>What will the post-COVID-19 consumer look like...</td>\n      <td>london</td>\n    </tr>\n    <tr>\n      <th>19874</th>\n      <td>28015</td>\n      <td>72967</td>\n      <td>Baltimore, MD</td>\n      <td>26-03-2020</td>\n      <td>It's crazy how going to the grocery store is s...</td>\n      <td>md</td>\n    </tr>\n    <tr>\n      <th>31702</th>\n      <td>42798</td>\n      <td>87750</td>\n      <td>Tokyo-to, Japan</td>\n      <td>12-04-2020</td>\n      <td>Best online stores to buy things from Tokyo an...</td>\n      <td>japan</td>\n    </tr>\n    <tr>\n      <th>5110</th>\n      <td>10012</td>\n      <td>54964</td>\n      <td>Ohio</td>\n      <td>19-03-2020</td>\n      <td>#AngelaMerkel Nails #Coronavirus Speech ÃÂ U...</td>\n      <td>ohio</td>\n    </tr>\n    <tr>\n      <th>30081</th>\n      <td>40750</td>\n      <td>85702</td>\n      <td>Detroit, MI</td>\n      <td>10-04-2020</td>\n      <td>Just saw someone at the grocery store lick the...</td>\n      <td>mi</td>\n    </tr>\n    <tr>\n      <th>...</th>\n      <td>...</td>\n      <td>...</td>\n      <td>...</td>\n      <td>...</td>\n      <td>...</td>\n      <td>...</td>\n    </tr>\n    <tr>\n      <th>5847</th>\n      <td>10903</td>\n      <td>55855</td>\n      <td>Yorkshire ÃÂ UK ÃÂ Europe</td>\n      <td>19-03-2020</td>\n      <td>As a supermarket assistant went through my bas...</td>\n      <td>yorkshire ãâ uk ãâ europe</td>\n    </tr>\n    <tr>\n      <th>3220</th>\n      <td>7693</td>\n      <td>52645</td>\n      <td>India</td>\n      <td>18-03-2020</td>\n      <td>#NewsAlert | The benchmark West Texas Intermed...</td>\n      <td>india</td>\n    </tr>\n    <tr>\n      <th>11637</th>\n      <td>17912</td>\n      <td>62864</td>\n      <td>Lexington/Phoenix</td>\n      <td>21-03-2020</td>\n      <td>ItÃÂs starting. Sh*tÃÂs getting weird.\\r\\r...</td>\n      <td>lexington/phoenix</td>\n    </tr>\n    <tr>\n      <th>21149</th>\n      <td>29590</td>\n      <td>74542</td>\n      <td>Unknown</td>\n      <td>01-04-2020</td>\n      <td>@henrymcmaster I work in a definitely nonessen...</td>\n      <td>unknown</td>\n    </tr>\n    <tr>\n      <th>23240</th>\n      <td>32197</td>\n      <td>77149</td>\n      <td>Unknown</td>\n      <td>04-04-2020</td>\n      <td>Experience the only best online shopping   Jus...</td>\n      <td>unknown</td>\n    </tr>\n  </tbody>\n</table>\n<p>10034 rows × 6 columns</p>\n</div>"
     },
     "metadata": {},
     "output_type": "display_data"
    }
   ],
   "source": [
    "# если в названии есть запятая, то добавляю последнее место, иначе ничего не меняю. Ещё делаю все буквы маленькими\n",
    "X_train[\"WiderLocation\"] = X_train[\"Location\"].apply(lambda x: x.split(\",\")[-1].lower() if \",\" in x else x.lower())\n",
    "X_test[\"WiderLocation\"] = X_test[\"Location\"].apply(lambda x: x.split(\",\")[-1].lower() if \",\" in x else x.lower())\n",
    "display(X_train)\n",
    "display(X_test)"
   ],
   "metadata": {
    "collapsed": false,
    "ExecuteTime": {
     "end_time": "2024-05-10T14:21:02.624520Z",
     "start_time": "2024-05-10T14:21:02.595573Z"
    }
   },
   "execution_count": 71
  },
  {
   "cell_type": "code",
   "outputs": [
    {
     "data": {
      "text/plain": "array(['unknown', ' ma hq', 'india', ..., 'nebraska', 'north texas',\n       'whitehouse bar & pool room'], dtype=object)"
     },
     "execution_count": 72,
     "metadata": {},
     "output_type": "execute_result"
    }
   ],
   "source": [
    "X_train[\"WiderLocation\"].unique()  # 4940"
   ],
   "metadata": {
    "collapsed": false,
    "ExecuteTime": {
     "end_time": "2024-05-10T14:21:14.630778Z",
     "start_time": "2024-05-10T14:21:14.621760Z"
    }
   },
   "execution_count": 72
  },
  {
   "cell_type": "code",
   "outputs": [
    {
     "data": {
      "text/plain": "<Figure size 2000x600 with 1 Axes>",
      "image/png": "[encoded data removed]"
     },
     "metadata": {},
     "output_type": "display_data"
    }
   ],
   "source": [
    "places = Counter(X_train[\"WiderLocation\"])\n",
    "del places[\"unknown\"]\n",
    "\n",
    "top10_places = pd.DataFrame(places.most_common(10), columns=['WiderLocation', 'Frequency'])\n",
    "plt.figure(figsize=(20, 6))\n",
    "sns.histplot(data=top10_places, x=\"WiderLocation\", y=\"Frequency\", bins=10)\n",
    "plt.show()"
   ],
   "metadata": {
    "collapsed": false,
    "ExecuteTime": {
     "end_time": "2024-05-10T14:21:25.896672Z",
     "start_time": "2024-05-10T14:21:25.710892Z"
    }
   },
   "execution_count": 73
  },
  {
   "cell_type": "code",
   "source": [
    "# Хотел попробовать использовать geopy, но за 14 часов этот код не выполнился)\n",
    "'''\n",
    "\n",
    "from geopy.geocoders import Photon\n",
    "\n",
    "def to_country(location):\n",
    "    country = geolocator.geocode(location, timeout=None) \n",
    "    if country is not None and 'country' in country.raw[\"properties\"]:\n",
    "        return country.raw[\"properties\"][\"country\"]\n",
    "    return \"Unknown\"\n",
    "\n",
    "geolocator = Photon(user_agent=\"geoapiExercises\")\n",
    "X_train[\"WiderLocation\"] = X_train[\"Location\"].apply(lambda x: to_country(x))\n",
    "\n",
    "X_train\n",
    "'''"
   ],
   "metadata": {
    "id": "mSkow6acOMyD",
    "ExecuteTime": {
     "end_time": "2024-05-09T22:57:34.624757Z",
     "start_time": "2024-05-09T22:57:34.620217Z"
    }
   },
   "execution_count": 135,
   "outputs": [
    {
     "data": {
      "text/plain": "'\\n\\nfrom geopy.geocoders import Photon\\n\\ndef to_country(location):\\n    country = geolocator.geocode(location, timeout=None) \\n    if country is not None and \\'country\\' in country.raw[\"properties\"]:\\n        return country.raw[\"properties\"][\"country\"]\\n    return \"Unknown\"\\n\\ngeolocator = Photon(user_agent=\"geoapiExercises\")\\nX_train[\"WiderLocation\"] = X_train[\"Location\"].apply(lambda x: to_country(x))\\n\\nX_train\\n'"
     },
     "execution_count": 135,
     "metadata": {},
     "output_type": "execute_result"
    }
   ]
  },
  {
   "cell_type": "markdown",
   "source": [
    "Закодируйте признак WiderLocation с помощью OHE таким образом, чтобы создались только столбцы для местоположений, которые встречаются более одного раза. Сколько таких значений?\n"
   ],
   "metadata": {
    "id": "cgyWrD2eVfff"
   }
  },
  {
   "cell_type": "code",
   "source": [
    "from sklearn.preprocessing import OneHotEncoder\n",
    "\n",
    "enc = OneHotEncoder(handle_unknown=\"ignore\", min_frequency=2)\n",
    "\n",
    "widerLocation_train_encoded = enc.fit_transform(X_train[['WiderLocation']])\n",
    "widerLocation_test_encoded = enc.transform(X_test[['WiderLocation']])\n",
    "\n",
    "#X_train_encoded = pd.concat([X_train.drop(columns=['WiderLocation']), pd.DataFrame(widerLocation_train_encoded)], axis=0)\n",
    "#X_test_encoded = pd.concat([X_test.drop(columns=['WiderLocation']), pd.DataFrame(widerLocation_test_encoded)], axis=0)"
   ],
   "metadata": {
    "id": "SeJBfBWgPvg_",
    "ExecuteTime": {
     "end_time": "2024-05-10T21:03:59.910731Z",
     "start_time": "2024-05-10T21:03:59.841822Z"
    }
   },
   "execution_count": 87,
   "outputs": []
  },
  {
   "cell_type": "code",
   "outputs": [
    {
     "data": {
      "text/plain": "<23410x1140 sparse matrix of type '<class 'numpy.float64'>'\n\twith 23410 stored elements in Compressed Sparse Row format>"
     },
     "metadata": {},
     "output_type": "display_data"
    },
    {
     "data": {
      "text/plain": "<10034x1140 sparse matrix of type '<class 'numpy.float64'>'\n\twith 8421 stored elements in Compressed Sparse Row format>"
     },
     "metadata": {},
     "output_type": "display_data"
    },
    {
     "data": {
      "text/plain": "scipy.sparse._csr.csr_matrix"
     },
     "execution_count": 112,
     "metadata": {},
     "output_type": "execute_result"
    }
   ],
   "source": [
    "display(widerLocation_train_encoded)  # 1140 значений\n",
    "display(widerLocation_test_encoded)"
   ],
   "metadata": {
    "collapsed": false,
    "ExecuteTime": {
     "end_time": "2024-05-10T21:27:34.637515Z",
     "start_time": "2024-05-10T21:27:34.630728Z"
    }
   },
   "execution_count": 112
  },
  {
   "cell_type": "markdown",
   "source": [
    "Добавьте этот признак к матрице отскалированных текстовых признаков, обучите логистическую регрессию, замерьте качество. Как оно изменилось? Оказался ли признак полезным?\n",
    "\n",
    "\n",
    "*Подсказка:* используйте параметр `categories` в энкодере."
   ],
   "metadata": {
    "id": "ZyMX5kZuimPK"
   }
  },
  {
   "cell_type": "code",
   "source": [
    "from scipy.sparse import hstack\n",
    "\n",
    "cv = CountVectorizer(tokenizer=custom_stem_tokenizer, min_df=0.00045, max_df=0.2) # использую лучшие параметры прошлых моделей\n",
    "cv_df = cv.fit(X_train.OriginalTweet)\n",
    "\n",
    "count_bow_train = cv.transform(X_train.OriginalTweet)\n",
    "count_bow_test = cv.transform(X_test.OriginalTweet)\n",
    "\n",
    "# модели\n",
    "count_clf = LogisticRegression(random_state=0)\n",
    "\n",
    "# Scaler\n",
    "scaler = MaxAbsScaler()\n",
    "# count\n",
    "count_bow_train = scaler.fit_transform(count_bow_train)\n",
    "count_bow_test = scaler.transform(count_bow_test)\n",
    "\n",
    "\n",
    "# pred\n",
    "count_clf.fit(hstack([count_bow_train, widerLocation_train_encoded]), y_train)\n",
    "count_pred_train = count_clf.predict(hstack([count_bow_train, widerLocation_train_encoded]))\n",
    "count_pred_test = count_clf.predict(hstack([count_bow_test, widerLocation_test_encoded]))"
   ],
   "metadata": {
    "id": "EO1jNPeeim7A",
    "ExecuteTime": {
     "end_time": "2024-05-10T21:59:21.320939Z",
     "start_time": "2024-05-10T21:58:42.885562Z"
    }
   },
   "execution_count": 127,
   "outputs": []
  },
  {
   "cell_type": "code",
   "outputs": [
    {
     "name": "stdout",
     "output_type": "stream",
     "text": [
      "CountVectorizer\n",
      "train: 0.9227680478428022\n",
      "test: 0.8579828582818417\n"
     ]
    }
   ],
   "source": [
    "print(\"CountVectorizer\")\n",
    "print(f\"train: {accuracy_score(y_train, count_pred_train)}\")\n",
    "print(f\"test: {accuracy_score(y_test, count_pred_test)}\")\n",
    "# было:\n",
    "# train: 0.9169585647159334\n",
    "# test: 0.8618696432130756"
   ],
   "metadata": {
    "collapsed": false,
    "ExecuteTime": {
     "end_time": "2024-05-10T22:04:21.567754Z",
     "start_time": "2024-05-10T22:04:21.558230Z"
    }
   },
   "execution_count": 129
  },
  {
   "cell_type": "markdown",
   "source": [
    "**Ответ:** # -- YOUR ANSWER HERE --"
   ],
   "metadata": {
    "id": "7dHsGlDRYUQt"
   }
  },
  {
   "cell_type": "markdown",
   "source": [
    "## Задание 8 Хорошее качество (Бонус 1 балл)"
   ],
   "metadata": {
    "id": "IWn6h4W9eD3S"
   }
  },
  {
   "cell_type": "markdown",
   "source": [
    "Добейтесь accuracy=0.9 на тестовой выборке (можно сменить токенайзер, векторайзер, модель и т.д.)"
   ],
   "metadata": {
    "id": "-HDI0SU6eLgi"
   }
  },
  {
   "cell_type": "code",
   "source": [
    "# можно изменить модель, так что воспользуюсь градиентным бустингом с изменённым скалером\n",
    "from sklearn.ensemble import GradientBoostingClassifier\n",
    "cv = CountVectorizer(tokenizer=custom_stem_tokenizer, min_df=0.00045, max_df=0.2) # использую лучшие параметры  прошлых моделей\n",
    "cv_df = cv.fit(X_train.OriginalTweet)\n",
    "\n",
    "count_bow_train = cv.transform(X_train.OriginalTweet)\n",
    "count_bow_test = cv.transform(X_test.OriginalTweet)\n",
    "\n",
    "# модели\n",
    "count_clf = GradientBoostingClassifier(random_state=0, n_estimators=5000)\n",
    "\n",
    "# Scaler\n",
    "scaler = MaxAbsScaler()\n",
    "# count\n",
    "count_bow_train = scaler.fit_transform(count_bow_train)\n",
    "count_bow_test = scaler.transform(count_bow_test)\n",
    "\n",
    "# pred\n",
    "# count\n",
    "count_clf.fit(count_bow_train, y_train)\n",
    "count_pred_train = count_clf.predict(count_bow_train)\n",
    "count_pred_test = count_clf.predict(count_bow_test)"
   ],
   "metadata": {
    "id": "k3WMbE8edhlW",
    "ExecuteTime": {
     "end_time": "2024-05-10T22:50:34.288432Z",
     "start_time": "2024-05-10T22:47:13.449749Z"
    }
   },
   "execution_count": 136,
   "outputs": []
  },
  {
   "cell_type": "code",
   "outputs": [
    {
     "name": "stdout",
     "output_type": "stream",
     "text": [
      "CountVectorizer\n",
      "train: 0.9867150790260573\n",
      "test: 0.8836954355192346\n"
     ]
    }
   ],
   "source": [
    "print(\"CountVectorizer\")\n",
    "print(f\"train: {accuracy_score(y_train, count_pred_train)}\") # 0.9867150790260573\n",
    "print(f\"test: {accuracy_score(y_test, count_pred_test)}\") # 0.8836954355192346"
   ],
   "metadata": {
    "collapsed": false,
    "ExecuteTime": {
     "end_time": "2024-05-10T22:50:34.298192Z",
     "start_time": "2024-05-10T22:50:34.289431Z"
    }
   },
   "execution_count": 137
  }
 ],
 "metadata": {
  "colab": {
   "provenance": [],
   "toc_visible": true
  },
  "kernelspec": {
   "name": "python3",
   "language": "python",
   "display_name": "Python 3 (ipykernel)"
  },
  "language_info": {
   "name": "python"
  }
 },
 "nbformat": 4,
 "nbformat_minor": 0
}
