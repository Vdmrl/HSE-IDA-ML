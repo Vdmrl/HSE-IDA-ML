{
 "cells": [
  {
   "cell_type": "markdown",
   "metadata": {
    "_uuid": "21c25e4f8bb31570029fd6b069131a5d00f84cf1",
    "id": "JcjHXGoA1ycd"
   },
   "source": [
    "# Домашнее задание 2 (5 баллов).\n",
    "\n",
    "Все задания ниже имеют равный вес (5/16)."
   ]
  },
  {
   "cell_type": "code",
   "execution_count": 1,
   "metadata": {
    "_uuid": "568eb2d31004b87d22e119112ae01a1e75105f1d",
    "id": "sgLVyfAX1ycg",
    "ExecuteTime": {
     "end_time": "2024-02-09T16:05:13.394359500Z",
     "start_time": "2024-02-09T16:05:12.809575100Z"
    }
   },
   "outputs": [
    {
     "name": "stderr",
     "output_type": "stream",
     "text": [
      "C:\\Users\\Vladimir Luzin\\AppData\\Local\\Temp\\ipykernel_9976\\2035458946.py:1: DeprecationWarning: \n",
      "Pyarrow will become a required dependency of pandas in the next major release of pandas (pandas 3.0),\n",
      "(to allow more performant data types, such as the Arrow string type, and better interoperability with other libraries)\n",
      "but was not found to be installed on your system.\n",
      "If this would cause problems for you,\n",
      "please provide us feedback at https://github.com/pandas-dev/pandas/issues/54466\n",
      "        \n",
      "  import pandas as pd\n"
     ]
    }
   ],
   "source": [
    "import pandas as pd"
   ]
  },
  {
   "cell_type": "code",
   "source": [
    "# Эти две строчки отправляли в чат. Распаковывают данные в content/Data.zip\n",
    "!wget https://github.com/hse-ds/iad-intro-ds/raw/master/2023/homeworks/Data.zip\n",
    "!unzip /content/Data.zip"
   ],
   "metadata": {
    "colab": {
     "base_uri": "https://localhost:8080/"
    },
    "id": "iEF9pafU14yk",
    "outputId": "900baa8a-938d-4e5d-e000-bcf19e03d8d6",
    "ExecuteTime": {
     "end_time": "2024-02-09T16:09:45.422476200Z",
     "start_time": "2024-02-09T16:09:43.029241400Z"
    }
   },
   "execution_count": 4,
   "outputs": [
    {
     "name": "stderr",
     "output_type": "stream",
     "text": [
      "--2024-02-09 21:09:43--  https://github.com/hse-ds/iad-intro-ds/raw/master/2023/homeworks/Data.zip\n",
      "Resolving github.com (github.com)... 140.82.121.4\n",
      "Connecting to github.com (github.com)|140.82.121.4|:443... connected.\n",
      "HTTP request sent, awaiting response... 302 Found\n",
      "Location: https://raw.githubusercontent.com/hse-ds/iad-intro-ds/master/2023/homeworks/Data.zip [following]\n",
      "--2024-02-09 21:09:44--  https://raw.githubusercontent.com/hse-ds/iad-intro-ds/master/2023/homeworks/Data.zip\n",
      "Resolving raw.githubusercontent.com (raw.githubusercontent.com)... 185.199.108.133, 185.199.109.133, 185.199.110.133, ...\n",
      "Connecting to raw.githubusercontent.com (raw.githubusercontent.com)|185.199.108.133|:443... connected.\n",
      "HTTP request sent, awaiting response... 200 OK\n",
      "Length: 16727 (16K) [application/zip]\n",
      "Saving to: 'Data.zip'\n",
      "\n",
      "     0K .......... ......                                     100% 1,09M=0,01s\n",
      "\n",
      "2024-02-09 21:09:45 (1,09 MB/s) - 'Data.zip' saved [16727/16727]\n",
      "\n",
      "'unzip' is not recognized as an internal or external command,\n",
      "operable program or batch file.\n"
     ]
    }
   ]
  },
  {
   "cell_type": "markdown",
   "metadata": {
    "id": "L0uakVjm1ych"
   },
   "source": [
    "#### Описание данных\n",
    "\n",
    "В папке Dat (https://github.com/hse-ds/iad-intro-ds/blob/master/2023/homeworks/Data.zip) находится информация о студентах. Всего 10 групп студентов. Файлы делятся на две категории:\n",
    "    * Students_info_i - информация о студентах из группы i\n",
    "    * Students_marks_i - оценки студентов из группы i за экзамены"
   ]
  },
  {
   "cell_type": "markdown",
   "metadata": {
    "id": "sTy7AoOe1ych"
   },
   "source": [
    "### Одно из важных достоинств pandas $-$ это удобные методы реляционного взаимодействия с данными, аналогичные, например, возможностям SQL для слияния и конкатенации таблиц: merge, join, concat. Наличие готовых методов позволяет не реализовывать самостоятельно поэлементную обработку данных и оперировать сразу целыми таблицами данных.\n",
    "\n",
    "Подробно об этих методах посмотрите тут: https://www.kaggle.com/residentmario/renaming-and-combining#Combining"
   ]
  },
  {
   "cell_type": "markdown",
   "metadata": {
    "id": "9CP9d78P1ych"
   },
   "source": [
    "#### Задание 1. Соберите всю информацию о студентах в одну таблицу df. В получившейся таблице должна быть информация и оценки всех студентов из всех групп. Напечатайте несколько строк таблицы для демонстрации результата.¶"
   ]
  },
  {
   "cell_type": "code",
   "execution_count": 3,
   "metadata": {
    "id": "mSnrJP_21ych",
    "colab": {
     "base_uri": "https://localhost:8080/",
     "height": 423
    },
    "outputId": "a36b92fc-87d8-4f73-9f6e-1fcde5b6c74c",
    "ExecuteTime": {
     "end_time": "2024-02-09T16:05:13.954591400Z",
     "start_time": "2024-02-09T16:05:13.429766600Z"
    }
   },
   "outputs": [
    {
     "ename": "FileNotFoundError",
     "evalue": "[Errno 2] No such file or directory: '/content/Data/Students_info_0.csv'",
     "output_type": "error",
     "traceback": [
      "\u001B[1;31m---------------------------------------------------------------------------\u001B[0m",
      "\u001B[1;31mFileNotFoundError\u001B[0m                         Traceback (most recent call last)",
      "Cell \u001B[1;32mIn[3], line 5\u001B[0m\n\u001B[0;32m      1\u001B[0m df_students \u001B[38;5;241m=\u001B[39m pd\u001B[38;5;241m.\u001B[39mDataFrame() \u001B[38;5;66;03m# создаём дафрейм студентов\u001B[39;00m\n\u001B[0;32m      2\u001B[0m \u001B[38;5;28;01mfor\u001B[39;00m student_file_id \u001B[38;5;129;01min\u001B[39;00m \u001B[38;5;28mrange\u001B[39m(\u001B[38;5;241m10\u001B[39m): \u001B[38;5;66;03m# использовал цикл для перебора файлов от 0 до 9\u001B[39;00m\n\u001B[0;32m      3\u001B[0m   \u001B[38;5;66;03m# можно без писать каждый файл вручную, но это неудобно и нерасширяемо\u001B[39;00m\n\u001B[0;32m      4\u001B[0m   \u001B[38;5;66;03m# конкатинируем все датафреймы\u001B[39;00m\n\u001B[1;32m----> 5\u001B[0m   df_students \u001B[38;5;241m=\u001B[39m pd\u001B[38;5;241m.\u001B[39mconcat([df_students, \u001B[43mpd\u001B[49m\u001B[38;5;241;43m.\u001B[39;49m\u001B[43mread_csv\u001B[49m\u001B[43m(\u001B[49m\u001B[38;5;124;43mf\u001B[39;49m\u001B[38;5;124;43m\"\u001B[39;49m\u001B[38;5;124;43m/content/Data/Students_info_\u001B[39;49m\u001B[38;5;132;43;01m{\u001B[39;49;00m\u001B[43mstudent_file_id\u001B[49m\u001B[38;5;132;43;01m}\u001B[39;49;00m\u001B[38;5;124;43m.csv\u001B[39;49m\u001B[38;5;124;43m\"\u001B[39;49m\u001B[43m,\u001B[49m\u001B[43m \u001B[49m\u001B[43msep\u001B[49m\u001B[38;5;241;43m=\u001B[39;49m\u001B[38;5;124;43m\"\u001B[39;49m\u001B[38;5;124;43m,\u001B[39;49m\u001B[38;5;124;43m\"\u001B[39;49m\u001B[43m)\u001B[49m])\u001B[38;5;66;03m#,   index_col=0)])\u001B[39;00m\n\u001B[0;32m      9\u001B[0m df_marks \u001B[38;5;241m=\u001B[39m pd\u001B[38;5;241m.\u001B[39mDataFrame() \u001B[38;5;66;03m# создаём дафрейм оценок\u001B[39;00m\n\u001B[0;32m     10\u001B[0m \u001B[38;5;28;01mfor\u001B[39;00m mark_file_id \u001B[38;5;129;01min\u001B[39;00m \u001B[38;5;28mrange\u001B[39m(\u001B[38;5;241m10\u001B[39m): \u001B[38;5;66;03m# использовал цикл для перебора файлов от 0 до 9\u001B[39;00m\n\u001B[0;32m     11\u001B[0m   \u001B[38;5;66;03m# можно без писать каждый файл вручную, но это неудобно и нерасширяемо\u001B[39;00m\n\u001B[0;32m     12\u001B[0m   \u001B[38;5;66;03m# мерджу все оценки к студентам\u001B[39;00m\n",
      "File \u001B[1;32mC:\\Programs\\anaconda\\envs\\environment\\Lib\\site-packages\\pandas\\io\\parsers\\readers.py:1024\u001B[0m, in \u001B[0;36mread_csv\u001B[1;34m(filepath_or_buffer, sep, delimiter, header, names, index_col, usecols, dtype, engine, converters, true_values, false_values, skipinitialspace, skiprows, skipfooter, nrows, na_values, keep_default_na, na_filter, verbose, skip_blank_lines, parse_dates, infer_datetime_format, keep_date_col, date_parser, date_format, dayfirst, cache_dates, iterator, chunksize, compression, thousands, decimal, lineterminator, quotechar, quoting, doublequote, escapechar, comment, encoding, encoding_errors, dialect, on_bad_lines, delim_whitespace, low_memory, memory_map, float_precision, storage_options, dtype_backend)\u001B[0m\n\u001B[0;32m   1011\u001B[0m kwds_defaults \u001B[38;5;241m=\u001B[39m _refine_defaults_read(\n\u001B[0;32m   1012\u001B[0m     dialect,\n\u001B[0;32m   1013\u001B[0m     delimiter,\n\u001B[1;32m   (...)\u001B[0m\n\u001B[0;32m   1020\u001B[0m     dtype_backend\u001B[38;5;241m=\u001B[39mdtype_backend,\n\u001B[0;32m   1021\u001B[0m )\n\u001B[0;32m   1022\u001B[0m kwds\u001B[38;5;241m.\u001B[39mupdate(kwds_defaults)\n\u001B[1;32m-> 1024\u001B[0m \u001B[38;5;28;01mreturn\u001B[39;00m \u001B[43m_read\u001B[49m\u001B[43m(\u001B[49m\u001B[43mfilepath_or_buffer\u001B[49m\u001B[43m,\u001B[49m\u001B[43m \u001B[49m\u001B[43mkwds\u001B[49m\u001B[43m)\u001B[49m\n",
      "File \u001B[1;32mC:\\Programs\\anaconda\\envs\\environment\\Lib\\site-packages\\pandas\\io\\parsers\\readers.py:618\u001B[0m, in \u001B[0;36m_read\u001B[1;34m(filepath_or_buffer, kwds)\u001B[0m\n\u001B[0;32m    615\u001B[0m _validate_names(kwds\u001B[38;5;241m.\u001B[39mget(\u001B[38;5;124m\"\u001B[39m\u001B[38;5;124mnames\u001B[39m\u001B[38;5;124m\"\u001B[39m, \u001B[38;5;28;01mNone\u001B[39;00m))\n\u001B[0;32m    617\u001B[0m \u001B[38;5;66;03m# Create the parser.\u001B[39;00m\n\u001B[1;32m--> 618\u001B[0m parser \u001B[38;5;241m=\u001B[39m \u001B[43mTextFileReader\u001B[49m\u001B[43m(\u001B[49m\u001B[43mfilepath_or_buffer\u001B[49m\u001B[43m,\u001B[49m\u001B[43m \u001B[49m\u001B[38;5;241;43m*\u001B[39;49m\u001B[38;5;241;43m*\u001B[39;49m\u001B[43mkwds\u001B[49m\u001B[43m)\u001B[49m\n\u001B[0;32m    620\u001B[0m \u001B[38;5;28;01mif\u001B[39;00m chunksize \u001B[38;5;129;01mor\u001B[39;00m iterator:\n\u001B[0;32m    621\u001B[0m     \u001B[38;5;28;01mreturn\u001B[39;00m parser\n",
      "File \u001B[1;32mC:\\Programs\\anaconda\\envs\\environment\\Lib\\site-packages\\pandas\\io\\parsers\\readers.py:1618\u001B[0m, in \u001B[0;36mTextFileReader.__init__\u001B[1;34m(self, f, engine, **kwds)\u001B[0m\n\u001B[0;32m   1615\u001B[0m     \u001B[38;5;28mself\u001B[39m\u001B[38;5;241m.\u001B[39moptions[\u001B[38;5;124m\"\u001B[39m\u001B[38;5;124mhas_index_names\u001B[39m\u001B[38;5;124m\"\u001B[39m] \u001B[38;5;241m=\u001B[39m kwds[\u001B[38;5;124m\"\u001B[39m\u001B[38;5;124mhas_index_names\u001B[39m\u001B[38;5;124m\"\u001B[39m]\n\u001B[0;32m   1617\u001B[0m \u001B[38;5;28mself\u001B[39m\u001B[38;5;241m.\u001B[39mhandles: IOHandles \u001B[38;5;241m|\u001B[39m \u001B[38;5;28;01mNone\u001B[39;00m \u001B[38;5;241m=\u001B[39m \u001B[38;5;28;01mNone\u001B[39;00m\n\u001B[1;32m-> 1618\u001B[0m \u001B[38;5;28mself\u001B[39m\u001B[38;5;241m.\u001B[39m_engine \u001B[38;5;241m=\u001B[39m \u001B[38;5;28;43mself\u001B[39;49m\u001B[38;5;241;43m.\u001B[39;49m\u001B[43m_make_engine\u001B[49m\u001B[43m(\u001B[49m\u001B[43mf\u001B[49m\u001B[43m,\u001B[49m\u001B[43m \u001B[49m\u001B[38;5;28;43mself\u001B[39;49m\u001B[38;5;241;43m.\u001B[39;49m\u001B[43mengine\u001B[49m\u001B[43m)\u001B[49m\n",
      "File \u001B[1;32mC:\\Programs\\anaconda\\envs\\environment\\Lib\\site-packages\\pandas\\io\\parsers\\readers.py:1878\u001B[0m, in \u001B[0;36mTextFileReader._make_engine\u001B[1;34m(self, f, engine)\u001B[0m\n\u001B[0;32m   1876\u001B[0m     \u001B[38;5;28;01mif\u001B[39;00m \u001B[38;5;124m\"\u001B[39m\u001B[38;5;124mb\u001B[39m\u001B[38;5;124m\"\u001B[39m \u001B[38;5;129;01mnot\u001B[39;00m \u001B[38;5;129;01min\u001B[39;00m mode:\n\u001B[0;32m   1877\u001B[0m         mode \u001B[38;5;241m+\u001B[39m\u001B[38;5;241m=\u001B[39m \u001B[38;5;124m\"\u001B[39m\u001B[38;5;124mb\u001B[39m\u001B[38;5;124m\"\u001B[39m\n\u001B[1;32m-> 1878\u001B[0m \u001B[38;5;28mself\u001B[39m\u001B[38;5;241m.\u001B[39mhandles \u001B[38;5;241m=\u001B[39m \u001B[43mget_handle\u001B[49m\u001B[43m(\u001B[49m\n\u001B[0;32m   1879\u001B[0m \u001B[43m    \u001B[49m\u001B[43mf\u001B[49m\u001B[43m,\u001B[49m\n\u001B[0;32m   1880\u001B[0m \u001B[43m    \u001B[49m\u001B[43mmode\u001B[49m\u001B[43m,\u001B[49m\n\u001B[0;32m   1881\u001B[0m \u001B[43m    \u001B[49m\u001B[43mencoding\u001B[49m\u001B[38;5;241;43m=\u001B[39;49m\u001B[38;5;28;43mself\u001B[39;49m\u001B[38;5;241;43m.\u001B[39;49m\u001B[43moptions\u001B[49m\u001B[38;5;241;43m.\u001B[39;49m\u001B[43mget\u001B[49m\u001B[43m(\u001B[49m\u001B[38;5;124;43m\"\u001B[39;49m\u001B[38;5;124;43mencoding\u001B[39;49m\u001B[38;5;124;43m\"\u001B[39;49m\u001B[43m,\u001B[49m\u001B[43m \u001B[49m\u001B[38;5;28;43;01mNone\u001B[39;49;00m\u001B[43m)\u001B[49m\u001B[43m,\u001B[49m\n\u001B[0;32m   1882\u001B[0m \u001B[43m    \u001B[49m\u001B[43mcompression\u001B[49m\u001B[38;5;241;43m=\u001B[39;49m\u001B[38;5;28;43mself\u001B[39;49m\u001B[38;5;241;43m.\u001B[39;49m\u001B[43moptions\u001B[49m\u001B[38;5;241;43m.\u001B[39;49m\u001B[43mget\u001B[49m\u001B[43m(\u001B[49m\u001B[38;5;124;43m\"\u001B[39;49m\u001B[38;5;124;43mcompression\u001B[39;49m\u001B[38;5;124;43m\"\u001B[39;49m\u001B[43m,\u001B[49m\u001B[43m \u001B[49m\u001B[38;5;28;43;01mNone\u001B[39;49;00m\u001B[43m)\u001B[49m\u001B[43m,\u001B[49m\n\u001B[0;32m   1883\u001B[0m \u001B[43m    \u001B[49m\u001B[43mmemory_map\u001B[49m\u001B[38;5;241;43m=\u001B[39;49m\u001B[38;5;28;43mself\u001B[39;49m\u001B[38;5;241;43m.\u001B[39;49m\u001B[43moptions\u001B[49m\u001B[38;5;241;43m.\u001B[39;49m\u001B[43mget\u001B[49m\u001B[43m(\u001B[49m\u001B[38;5;124;43m\"\u001B[39;49m\u001B[38;5;124;43mmemory_map\u001B[39;49m\u001B[38;5;124;43m\"\u001B[39;49m\u001B[43m,\u001B[49m\u001B[43m \u001B[49m\u001B[38;5;28;43;01mFalse\u001B[39;49;00m\u001B[43m)\u001B[49m\u001B[43m,\u001B[49m\n\u001B[0;32m   1884\u001B[0m \u001B[43m    \u001B[49m\u001B[43mis_text\u001B[49m\u001B[38;5;241;43m=\u001B[39;49m\u001B[43mis_text\u001B[49m\u001B[43m,\u001B[49m\n\u001B[0;32m   1885\u001B[0m \u001B[43m    \u001B[49m\u001B[43merrors\u001B[49m\u001B[38;5;241;43m=\u001B[39;49m\u001B[38;5;28;43mself\u001B[39;49m\u001B[38;5;241;43m.\u001B[39;49m\u001B[43moptions\u001B[49m\u001B[38;5;241;43m.\u001B[39;49m\u001B[43mget\u001B[49m\u001B[43m(\u001B[49m\u001B[38;5;124;43m\"\u001B[39;49m\u001B[38;5;124;43mencoding_errors\u001B[39;49m\u001B[38;5;124;43m\"\u001B[39;49m\u001B[43m,\u001B[49m\u001B[43m \u001B[49m\u001B[38;5;124;43m\"\u001B[39;49m\u001B[38;5;124;43mstrict\u001B[39;49m\u001B[38;5;124;43m\"\u001B[39;49m\u001B[43m)\u001B[49m\u001B[43m,\u001B[49m\n\u001B[0;32m   1886\u001B[0m \u001B[43m    \u001B[49m\u001B[43mstorage_options\u001B[49m\u001B[38;5;241;43m=\u001B[39;49m\u001B[38;5;28;43mself\u001B[39;49m\u001B[38;5;241;43m.\u001B[39;49m\u001B[43moptions\u001B[49m\u001B[38;5;241;43m.\u001B[39;49m\u001B[43mget\u001B[49m\u001B[43m(\u001B[49m\u001B[38;5;124;43m\"\u001B[39;49m\u001B[38;5;124;43mstorage_options\u001B[39;49m\u001B[38;5;124;43m\"\u001B[39;49m\u001B[43m,\u001B[49m\u001B[43m \u001B[49m\u001B[38;5;28;43;01mNone\u001B[39;49;00m\u001B[43m)\u001B[49m\u001B[43m,\u001B[49m\n\u001B[0;32m   1887\u001B[0m \u001B[43m\u001B[49m\u001B[43m)\u001B[49m\n\u001B[0;32m   1888\u001B[0m \u001B[38;5;28;01massert\u001B[39;00m \u001B[38;5;28mself\u001B[39m\u001B[38;5;241m.\u001B[39mhandles \u001B[38;5;129;01mis\u001B[39;00m \u001B[38;5;129;01mnot\u001B[39;00m \u001B[38;5;28;01mNone\u001B[39;00m\n\u001B[0;32m   1889\u001B[0m f \u001B[38;5;241m=\u001B[39m \u001B[38;5;28mself\u001B[39m\u001B[38;5;241m.\u001B[39mhandles\u001B[38;5;241m.\u001B[39mhandle\n",
      "File \u001B[1;32mC:\\Programs\\anaconda\\envs\\environment\\Lib\\site-packages\\pandas\\io\\common.py:873\u001B[0m, in \u001B[0;36mget_handle\u001B[1;34m(path_or_buf, mode, encoding, compression, memory_map, is_text, errors, storage_options)\u001B[0m\n\u001B[0;32m    868\u001B[0m \u001B[38;5;28;01melif\u001B[39;00m \u001B[38;5;28misinstance\u001B[39m(handle, \u001B[38;5;28mstr\u001B[39m):\n\u001B[0;32m    869\u001B[0m     \u001B[38;5;66;03m# Check whether the filename is to be opened in binary mode.\u001B[39;00m\n\u001B[0;32m    870\u001B[0m     \u001B[38;5;66;03m# Binary mode does not support 'encoding' and 'newline'.\u001B[39;00m\n\u001B[0;32m    871\u001B[0m     \u001B[38;5;28;01mif\u001B[39;00m ioargs\u001B[38;5;241m.\u001B[39mencoding \u001B[38;5;129;01mand\u001B[39;00m \u001B[38;5;124m\"\u001B[39m\u001B[38;5;124mb\u001B[39m\u001B[38;5;124m\"\u001B[39m \u001B[38;5;129;01mnot\u001B[39;00m \u001B[38;5;129;01min\u001B[39;00m ioargs\u001B[38;5;241m.\u001B[39mmode:\n\u001B[0;32m    872\u001B[0m         \u001B[38;5;66;03m# Encoding\u001B[39;00m\n\u001B[1;32m--> 873\u001B[0m         handle \u001B[38;5;241m=\u001B[39m \u001B[38;5;28;43mopen\u001B[39;49m\u001B[43m(\u001B[49m\n\u001B[0;32m    874\u001B[0m \u001B[43m            \u001B[49m\u001B[43mhandle\u001B[49m\u001B[43m,\u001B[49m\n\u001B[0;32m    875\u001B[0m \u001B[43m            \u001B[49m\u001B[43mioargs\u001B[49m\u001B[38;5;241;43m.\u001B[39;49m\u001B[43mmode\u001B[49m\u001B[43m,\u001B[49m\n\u001B[0;32m    876\u001B[0m \u001B[43m            \u001B[49m\u001B[43mencoding\u001B[49m\u001B[38;5;241;43m=\u001B[39;49m\u001B[43mioargs\u001B[49m\u001B[38;5;241;43m.\u001B[39;49m\u001B[43mencoding\u001B[49m\u001B[43m,\u001B[49m\n\u001B[0;32m    877\u001B[0m \u001B[43m            \u001B[49m\u001B[43merrors\u001B[49m\u001B[38;5;241;43m=\u001B[39;49m\u001B[43merrors\u001B[49m\u001B[43m,\u001B[49m\n\u001B[0;32m    878\u001B[0m \u001B[43m            \u001B[49m\u001B[43mnewline\u001B[49m\u001B[38;5;241;43m=\u001B[39;49m\u001B[38;5;124;43m\"\u001B[39;49m\u001B[38;5;124;43m\"\u001B[39;49m\u001B[43m,\u001B[49m\n\u001B[0;32m    879\u001B[0m \u001B[43m        \u001B[49m\u001B[43m)\u001B[49m\n\u001B[0;32m    880\u001B[0m     \u001B[38;5;28;01melse\u001B[39;00m:\n\u001B[0;32m    881\u001B[0m         \u001B[38;5;66;03m# Binary mode\u001B[39;00m\n\u001B[0;32m    882\u001B[0m         handle \u001B[38;5;241m=\u001B[39m \u001B[38;5;28mopen\u001B[39m(handle, ioargs\u001B[38;5;241m.\u001B[39mmode)\n",
      "\u001B[1;31mFileNotFoundError\u001B[0m: [Errno 2] No such file or directory: '/content/Data/Students_info_0.csv'"
     ]
    }
   ],
   "source": [
    "df_students = pd.DataFrame() # создаём дафрейм студентов\n",
    "for student_file_id in range(10): # использовал цикл для перебора файлов от 0 до 9\n",
    "  # можно без писать каждый файл вручную, но это неудобно и нерасширяемо\n",
    "  # конкатинируем все датафреймы\n",
    "  df_students = pd.concat([df_students, pd.read_csv(f\"/content/Data/Students_info_{student_file_id}.csv\", sep=\",\")])#,   index_col=0)])\n",
    "\n",
    "\n",
    "\n",
    "df_marks = pd.DataFrame() # создаём дафрейм оценок\n",
    "for mark_file_id in range(10): # использовал цикл для перебора файлов от 0 до 9\n",
    "  # можно без писать каждый файл вручную, но это неудобно и нерасширяемо\n",
    "  # мерджу все оценки к студентам\n",
    "  df_marks = pd.concat([df_marks, pd.read_csv(f\"/content/Data/Students_marks_{mark_file_id}.csv\", sep=\",\")])#,   index_col=0)])\n",
    "\n",
    "# буду использовать left join, так как я посчитал,\n",
    "# что студетны сами по себе важны, а оценки без студентов не несут информации\n",
    "# джойнить я буду по индексам (посчитал это за единственный возможный pk),\n",
    "# так что пропусков быть не должно и подойдёт любой join\n",
    "df = pd.merge(df_students, df_marks, on = \"index\", how=\"left\")\n",
    "\n",
    "df # автоматически печается 5 head и 5 tail"
   ]
  },
  {
   "cell_type": "markdown",
   "metadata": {
    "_uuid": "8524af4cbd2f7b7810e8a3095a74c9fe1df7eafa",
    "id": "TKZe49It1yci"
   },
   "source": [
    "#### Задание 2. Удалите столбец index у полученной таблицы. Напечатайте первые 10 строк таблицы."
   ]
  },
  {
   "cell_type": "code",
   "execution_count": null,
   "metadata": {
    "_uuid": "fe62eee87b9b94ab923f57b55eaf0554612aa9e9",
    "id": "x_m5tlTC1yci",
    "colab": {
     "base_uri": "https://localhost:8080/",
     "height": 423
    },
    "outputId": "cec75e4d-2645-45f2-98fc-d7e6af9f10c2"
   },
   "outputs": [],
   "source": [
    "# В pandas нельзя удалить индексацию строк полностью - только сбросить\n",
    "# поэтому, чтобы можно было удалить индексы,\n",
    "# я загружаю данные с ним и затем удаляю его\n",
    "df.drop([\"index\"], axis=1, inplace = True)\n",
    "df.head(100)"
   ]
  },
  {
   "cell_type": "markdown",
   "metadata": {
    "_uuid": "5fcd622942b7ecfc318934c6a245d3bb3bf01e84",
    "id": "p7ZkA18h1yci"
   },
   "source": [
    "#### Задание 3. Выведите на экран размеры полученной таблицы"
   ]
  },
  {
   "cell_type": "code",
   "execution_count": null,
   "metadata": {
    "_uuid": "16281cd7b4e941ebed8ca2e1b42f62f55d838684",
    "id": "zDDX3jMD1yci",
    "colab": {
     "base_uri": "https://localhost:8080/"
    },
    "outputId": "5c2a2b4c-7868-43b1-d743-ab4f535af4b9"
   },
   "outputs": [],
   "source": [
    "size = df.shape\n",
    "print(f\"количество атрибутов(столбцов) = {size[1]}\")\n",
    "print(f\"количество строк = {size[0]}\")"
   ]
  },
  {
   "cell_type": "markdown",
   "metadata": {
    "_uuid": "fe8e3d58d29ca25dbbcf001392377643e6ff9a36",
    "id": "1GBQJJvx1yci"
   },
   "source": [
    "#### Задание 4. Выведите на экран статистические характеристики числовых столбцов таблицы (минимум, максимум, среднее значение, стандартное отклонение)"
   ]
  },
  {
   "cell_type": "code",
   "execution_count": null,
   "metadata": {
    "_uuid": "e3d4bb80d2c4251fe517c24fcf08c5ff2d67b8aa",
    "id": "LmcOc5UU1yci",
    "colab": {
     "base_uri": "https://localhost:8080/",
     "height": 527
    },
    "outputId": "97b4fe4d-0e15-4d9c-8a48-533e5d36c3c8"
   },
   "outputs": [],
   "source": [
    "# в таблице всего 3 числовых столбца - это оценки по трём предметам\n",
    "# для каждого из предметов вычислю числовые характеристики\n",
    "# буду использовать стандартные методы pandas\n",
    "# среднее значение вычислю как среднее арифметическое\n",
    "# округлять значения не стал\n",
    "min_math = df[\"math score\"].min()\n",
    "min_read = df[\"reading score\"].min()\n",
    "min_writ = df[\"writing score\"].min()\n",
    "\n",
    "max_math = df[\"math score\"].max()\n",
    "max_read = df[\"reading score\"].max()\n",
    "max_writ = df[\"writing score\"].max()\n",
    "\n",
    "mean_math = df[\"math score\"].mean()\n",
    "mean_read = df[\"reading score\"].mean()\n",
    "mean_writ = df[\"writing score\"].mean()\n",
    "\n",
    "std_math = df[\"math score\"].std()\n",
    "std_read = df[\"reading score\"].std()\n",
    "std_writ = df[\"writing score\"].std()\n",
    "\n",
    "print(f\"Минимум. math: {min_math}; reading: {min_read}; writing {min_writ}\")\n",
    "print(f\"Максимум. math: {max_math}; reading: {max_read}; writing {max_writ}\")\n",
    "print(f\"Среднее арифметическое. math: {mean_math}; reading: {mean_read}; writing {mean_writ}\")\n",
    "print(f\"Стандартное отклонение. math: {std_math}; reading: {std_read}; writing {std_writ}\")\n",
    "\n",
    "# Или же можно просто воспользоваться методом describe (только потом о нём вспомнил)\n",
    "display(df.describe())\n",
    "# Или с помощью Агрегирования\n",
    "display(df[[\"math score\",\"reading score\",\"writing score\"]].agg(['min', 'max','mean', 'std', ]))"
   ]
  },
  {
   "cell_type": "markdown",
   "metadata": {
    "_uuid": "b26b7de83485ecb3b8a0a7865a596e24527c7b2f",
    "id": "SsOWGTs51yci"
   },
   "source": [
    "#### Задание 5. Проверьте, есть ли в таблице пропущенные значения"
   ]
  },
  {
   "cell_type": "code",
   "execution_count": null,
   "metadata": {
    "_uuid": "4eac3f8f83d07c6e58ad1576fe0e773f37034a2f",
    "id": "vTIiYvYl1ycj",
    "colab": {
     "base_uri": "https://localhost:8080/"
    },
    "outputId": "3760ee16-40df-4988-e26b-4d5c9705fdef"
   },
   "outputs": [],
   "source": [
    "# Пропущенные значения - None\n",
    "# isna() заменяет none на true, а object на false\n",
    "df.isna().sum()\n",
    "# в результате при суммировании всех колонок получаем все нули\n",
    "# значяит пропущенных значений нет, прекрасно"
   ]
  },
  {
   "cell_type": "markdown",
   "metadata": {
    "id": "qltNanOc1ycj"
   },
   "source": [
    "#### Задание 6. Выведите на экран средние баллы студентов по каждому предмету (math, reading, writing)"
   ]
  },
  {
   "cell_type": "code",
   "execution_count": null,
   "metadata": {
    "id": "WibfcKlI1ycj",
    "colab": {
     "base_uri": "https://localhost:8080/"
    },
    "outputId": "b46b058d-a1d1-444f-e059-417f0a37e5cf"
   },
   "outputs": [],
   "source": [
    "# среднее значение вычислю как среднее арифметическое\n",
    "# округлять значения не стал\n",
    "\n",
    "mean_math = df[\"math score\"].mean()\n",
    "mean_read = df[\"reading score\"].mean()\n",
    "mean_writ = df[\"writing score\"].mean()\n",
    "\n",
    "print(f\"Среднее арифметическое. math: {mean_math}; reading: {mean_read}; writing {mean_writ}\")"
   ]
  },
  {
   "cell_type": "markdown",
   "metadata": {
    "id": "tgbrm49Y1ycj"
   },
   "source": [
    "**Задание 7. Как зависят оценки от того, проходил ли студент курс для подготовки к сдаче экзамена (test preparation course)? Выведите на экран для каждого предмета в отдельности средний балл студентов, проходивших курс для подготовки к экзамену и не проходивших курс.**"
   ]
  },
  {
   "cell_type": "code",
   "execution_count": null,
   "metadata": {
    "id": "D2NXLogm1ycj",
    "colab": {
     "base_uri": "https://localhost:8080/",
     "height": 191
    },
    "outputId": "3d756e61-c796-43eb-da24-76f8e9948749"
   },
   "outputs": [],
   "source": [
    "marks_mean_with_completed_course = df[df[\"test preparation course\"] == \"completed\"][[\"math score\", \"reading score\", \"writing score\"]].mean()\n",
    "marks_mean_with_not_completed_course = df[df[\"test preparation course\"] == \"none\"][[\"math score\", \"reading score\", \"writing score\"]].mean()\n",
    "print(\"Проходившие курс:\")\n",
    "display(marks_mean_with_completed_course)\n",
    "print(\"НЕ проходившие курс:\")\n",
    "display(marks_mean_with_not_completed_course)\n",
    "# Не сложно заметить, что оценки за предметы напрямую зависят от прохождения курса подготовки к экзамену"
   ]
  },
  {
   "cell_type": "markdown",
   "metadata": {
    "id": "t9n3zztF1ycj"
   },
   "source": [
    "**Задание 8. Выведите на экран все различные значения из столбца lunch.**"
   ]
  },
  {
   "cell_type": "code",
   "execution_count": null,
   "metadata": {
    "id": "C-vpluNX1ycj",
    "colab": {
     "base_uri": "https://localhost:8080/",
     "height": 112
    },
    "outputId": "d8f76cd3-7a92-4432-950e-85eaacf53e24"
   },
   "outputs": [],
   "source": [
    "lunch_unique = df[[\"lunch\"]].drop_duplicates().reset_index(drop=True)\n",
    "lunch_unique\n",
    "# Всего два различных значения: standard и free/reduced"
   ]
  },
  {
   "cell_type": "markdown",
   "metadata": {
    "id": "b8fIqHfW1ycj"
   },
   "source": [
    "**Задание 9. Переименуйте колонку \"parental level of education\" в \"education\", а \"test preparation course\" в \"test preparation\" с помощью метода pandas rename**\n",
    "https://pandas.pydata.org/pandas-docs/stable/reference/api/pandas.DataFrame.rename.html"
   ]
  },
  {
   "cell_type": "code",
   "execution_count": null,
   "metadata": {
    "id": "uSAWvp651ycj",
    "colab": {
     "base_uri": "https://localhost:8080/",
     "height": 423
    },
    "outputId": "2d7ec948-c45d-4ab0-ad86-c4e650dfd844"
   },
   "outputs": [],
   "source": [
    "df = df.rename(columns = {\"parental level of education\": \"education\", \"test preparation course\": \"test preparation\"})\n",
    "df"
   ]
  },
  {
   "cell_type": "markdown",
   "metadata": {
    "id": "3Fjc88yN1yck"
   },
   "source": [
    "**Зафиксируем минимальный балл для сдачи экзамена**"
   ]
  },
  {
   "cell_type": "code",
   "execution_count": null,
   "metadata": {
    "id": "EbCGppiZ1yck"
   },
   "outputs": [],
   "source": [
    "passmark = 50"
   ]
  },
  {
   "cell_type": "markdown",
   "metadata": {
    "id": "eRE1LPAv1yck"
   },
   "source": [
    "**Задание 10. Ответьте на вопросы:**\n",
    "    * Какая доля студентов сдала экзамен по математике (passmark >= 50)?\n",
    "    * Какая доля студентов, проходивших курс подготовки к экзамену, сдала экзамен по математике?\n",
    "    * Какая доля женщин, не проходивших курс подготовки к экзамену, не сдала экзамен по математике?"
   ]
  },
  {
   "cell_type": "code",
   "execution_count": null,
   "metadata": {
    "id": "oXhYFVn21yck",
    "colab": {
     "base_uri": "https://localhost:8080/"
    },
    "outputId": "24e3a6d4-d34c-4e34-da38-b8f4762d57f0"
   },
   "outputs": [],
   "source": [
    "# Какая доля студентов сдала экзамен по математике (passmark >= 50)?\n",
    "# среди всех студентов\n",
    "print(\"доля студентов, которая сдала экзамен по математике (среди всех студентов):\")\n",
    "print(df[df[\"math score\"] >= passmark].count()[\"math score\"] / df.count()[\"math score\"])\n",
    "\n",
    "# Какая доля студентов, проходивших курс подготовки к экзамену, сдала экзамен по математике?\n",
    "# здесь сделал долю среди студентов, проходивших курс подготовки\n",
    "print(\"доля студентов, проходивших курс подготовки к экзамену, сдала экзамен по математике (среди студентов, прошедших курс подготовки):\")\n",
    "print(df[(df[\"math score\"] >= passmark) & (df[\"test preparation\"] == \"completed\")].count()[\"math score\"] / df[df[\"test preparation\"] == \"completed\"].count()[\"math score\"])\n",
    "\n",
    "# Какая доля женщин, не проходивших курс подготовки к экзамену, не сдала экзамен по математике?\n",
    "# Доля среди женщин, не проходивших курс подготовки к экзамену\n",
    "print(\"доля женщин, не проходивших курс подготовки к экзамену, которая не сдала экзамен по математике (среди женщин, не проходивших курс подготовки):\")\n",
    "print(df[(df[\"math score\"] < passmark) & (df[\"test preparation\"] == \"none\") & (df[\"gender\"] == \"female\")].count()[\"math score\"] / df[(df[\"gender\"] == \"female\") & (df[\"test preparation\"] == \"none\")].count()[\"math score\"])"
   ]
  },
  {
   "cell_type": "markdown",
   "metadata": {
    "id": "sAJhpM_b1yck"
   },
   "source": [
    "**Задание 11. С помощью groupby выполните задания ниже. Также выведите время выполнения каждого из заданий.**\n",
    "    * Для каждой этнической группы выведите средний балл за экзамен по чтению\n",
    "    * Для каждого уровня образования выведите минимальный балл за экзамен по письму"
   ]
  },
  {
   "cell_type": "code",
   "source": [
    "# Для каждой этнической группы выведите средний балл за экзамен по чтению\n",
    "display(df.groupby(by=\"race/ethnicity\")[\"reading score\"].mean())\n",
    "# Для каждого уровня образования выведите минимальный балл за экзамен по письму\n",
    "display(df.groupby(by=\"education\")[\"writing score\"].min())"
   ],
   "metadata": {
    "id": "0ERfYq4PMQS7",
    "colab": {
     "base_uri": "https://localhost:8080/",
     "height": 277
    },
    "outputId": "1999eb25-5e73-4166-e51c-0e7b52216977"
   },
   "execution_count": null,
   "outputs": []
  },
  {
   "cell_type": "code",
   "execution_count": null,
   "metadata": {
    "id": "NW5PNFoF1yck",
    "colab": {
     "base_uri": "https://localhost:8080/"
    },
    "outputId": "e05d4c97-d761-4a9d-d678-d3adcf77b7fa"
   },
   "outputs": [],
   "source": [
    "%%timeit\n",
    "# Для каждой этнической группы выведите средний балл за экзамен по чтению\n",
    "df.groupby(by=\"race/ethnicity\")[\"reading score\"].mean()\n",
    "# Для каждого уровня образования выведите минимальный балл за экзамен по письму\n",
    "df.groupby(by=\"education\")[\"writing score\"].min()"
   ]
  },
  {
   "cell_type": "markdown",
   "metadata": {
    "id": "ASIFXEXq1yck"
   },
   "source": [
    "**Задание 12. Выполните задание 11 с помощью циклов. Сравните время выполнения.**"
   ]
  },
  {
   "cell_type": "code",
   "source": [
    "# Для каждой этнической группы выведите средний балл за экзамен по чтению\n",
    "# Запишу в значения словаря список всех значений и найду среднее арифметическое\n",
    "race_reading_mean = {}\n",
    "for _, row in df.iterrows():\n",
    "  if row[\"race/ethnicity\"] not in race_reading_mean.keys():\n",
    "    race_reading_mean[row[\"race/ethnicity\"]] = [row[\"reading score\"]]\n",
    "  else:\n",
    "    race_reading_mean[row[\"race/ethnicity\"]].append(row[\"reading score\"])\n",
    "\n",
    "for key in race_reading_mean.keys():\n",
    "  race_reading_mean[key] = sum(race_reading_mean[key]) / len(race_reading_mean[key])\n",
    "\n",
    "print(race_reading_mean)\n"
   ],
   "metadata": {
    "id": "RgZN3x9oMjCL",
    "colab": {
     "base_uri": "https://localhost:8080/"
    },
    "outputId": "056e95ed-62b0-4264-b757-f1dd75e3e685"
   },
   "execution_count": null,
   "outputs": []
  },
  {
   "cell_type": "code",
   "source": [
    "# Для каждого уровня образования выведите минимальный балл за экзамен по письму\n",
    "# Запишу в значения словаря минимум\n",
    "\n",
    "education_writing_min = {}\n",
    "for _, row in df.iterrows():\n",
    "  if row[\"education\"] not in education_writing_min.keys():\n",
    "    education_writing_min[row[\"education\"]] = row[\"writing score\"]\n",
    "  else:\n",
    "    education_writing_min[row[\"education\"]] = min(education_writing_min[row[\"education\"]], row[\"writing score\"])\n",
    "\n",
    "print(education_writing_min)"
   ],
   "metadata": {
    "id": "unUGfn9FM7Io",
    "colab": {
     "base_uri": "https://localhost:8080/"
    },
    "outputId": "5a1508aa-97f3-4b6c-8070-e3c6990f4825"
   },
   "execution_count": null,
   "outputs": []
  },
  {
   "cell_type": "code",
   "execution_count": null,
   "metadata": {
    "id": "cep6RSeP1yck",
    "colab": {
     "base_uri": "https://localhost:8080/"
    },
    "outputId": "d47feb6d-dc33-45fe-c6e9-a62310b877e1"
   },
   "outputs": [],
   "source": [
    "# Теперь замерим скорость\n",
    "%%timeit\n",
    "race_reading_mean = {}\n",
    "for _, row in df.iterrows():\n",
    "  if row[\"race/ethnicity\"] not in race_reading_mean.keys():\n",
    "    race_reading_mean[row[\"race/ethnicity\"]] = [row[\"reading score\"]]\n",
    "  else:\n",
    "    race_reading_mean[row[\"race/ethnicity\"]].append(row[\"reading score\"])\n",
    "\n",
    "for key in race_reading_mean.keys():\n",
    "  race_reading_mean[key] = sum(race_reading_mean[key]) / len(race_reading_mean[key])\n",
    "\n",
    "education_writing_min = {}\n",
    "for _, row in df.iterrows():\n",
    "  if row[\"education\"] not in education_writing_min.keys():\n",
    "    education_writing_min[row[\"education\"]] = row[\"writing score\"]\n",
    "  else:\n",
    "    education_writing_min[row[\"education\"]] = min(education_writing_min[row[\"education\"]], row[\"writing score\"])"
   ]
  },
  {
   "cell_type": "markdown",
   "source": [
    "**Сравнение времени выполнения**\n",
    "    \n",
    "  Использование циклов оказалось примерно в 100 раз медленнее, чем использование стандартных методов pandas. Это вызвано тем, что, цитата из семинарской тетради:\n",
    " \"Pandas, как и NumPy, является лишь обёрткой на питоне для вычислительно эффективных операций над большими данными. Любое использование циклов в pandas приводит к неэффективности кода\""
   ],
   "metadata": {
    "id": "A8DsMiVVZ2PW"
   }
  },
  {
   "cell_type": "markdown",
   "metadata": {
    "id": "2DVeXzXH1yck"
   },
   "source": [
    "**Задание 13. Выведите на экран средние баллы студентов по каждому предмету в зависимости от пола и уровня образования. То есть должно получиться количество групп, равных 2 * (число уровней образования), и для каждой такой группы выведите средний балл по каждому из предметов.**\n",
    "\n",
    "Это можно сделать с помощью сводных таблиц (pivot_table):\n",
    "\n",
    "https://www.kaggle.com/kamilpolak/tutorial-how-to-use-pivot-table-in-pandas"
   ]
  },
  {
   "cell_type": "code",
   "execution_count": null,
   "metadata": {
    "id": "ZAKn4RCR1ycl",
    "colab": {
     "base_uri": "https://localhost:8080/",
     "height": 896
    },
    "outputId": "b48aff59-11fd-4400-9163-8a6581954923"
   },
   "outputs": [],
   "source": [
    "# С помощью group_by и агрегирования\n",
    "display(df.groupby(['gender', 'education']).agg('mean', numeric_only=True))\n",
    "# с помощью сводных таблиц\n",
    "display(df.pivot_table(index=['gender', 'education'], aggfunc=\"mean\", values=[\"math score\",\"reading score\",\"writing score\"]))\n",
    "# gender и education при необходимости можно поменять местами\n",
    "# чтобы сначала группированть по образованию, а только потом по полу"
   ]
  },
  {
   "cell_type": "markdown",
   "metadata": {
    "_uuid": "3e832cb427c4314582d1953a41b8c78db75e30e3",
    "id": "wGjE1eg21ycl"
   },
   "source": [
    "#### Задание 14. Сколько студентов успешно сдали экзамен по математике?\n",
    "\n",
    "Создайте новый столбец в таблице df под названием Math_PassStatus и запишите в него F, если студент не сдал экзамен по математике (балл за экзамен < passmark), и P иначе.\n",
    "\n",
    "Посчитайте количество студентов, сдавших и не сдавших экзамен по математике.\n",
    "\n",
    "Сделайте аналогичные шаги для экзаменов по чтению и письму."
   ]
  },
  {
   "cell_type": "code",
   "execution_count": null,
   "metadata": {
    "_uuid": "f43cddb72cc96b30df84bc0de83a4d9170904340",
    "id": "UPBHjgVt1ycl",
    "colab": {
     "base_uri": "https://localhost:8080/",
     "height": 510
    },
    "outputId": "d24df631-2c14-4bc7-8d3a-788c4351a7b8"
   },
   "outputs": [],
   "source": [
    "df[\"Math_PassStatus\"] = df[\"math score\"].apply(lambda x: \"P\" if x >= passmark else \"F\")\n",
    "display(df) # 5 head 5 tail\n",
    "print(\"Количество студентов, сдавших и не сдавших экзамен по математике (F - не сделаи, P - сдали):\")\n",
    "df.groupby(by=[\"Math_PassStatus\"]).count()[\"math score\"]"
   ]
  },
  {
   "cell_type": "code",
   "source": [
    "# чтение\n",
    "df[\"Reading_PassStatus\"] = df[\"reading score\"].apply(lambda x: \"P\" if x >= passmark else \"F\")\n",
    "display(df) # 5 head 5 tail\n",
    "print(\"Количество студентов, сдавших и не сдавших экзамен по чтению (F - не сделаи, P - сдали):\")\n",
    "df.groupby(by=[\"Reading_PassStatus\"]).count()[\"reading score\"]"
   ],
   "metadata": {
    "colab": {
     "base_uri": "https://localhost:8080/",
     "height": 510
    },
    "id": "3d0qLtkQbAR_",
    "outputId": "3e9f5fb1-ddd5-4165-b845-90897f51a4e2"
   },
   "execution_count": null,
   "outputs": []
  },
  {
   "cell_type": "code",
   "source": [
    "# письму\n",
    "df[\"Writing_PassStatus\"] = df[\"writing score\"].apply(lambda x: \"P\" if x >= passmark else \"F\")\n",
    "display(df) # 5 head 5 tail\n",
    "print(\"Количество студентов, сдавших и не сдавших экзамен по письму (F - не сделаи, P - сдали):\")\n",
    "df.groupby(by=[\"Writing_PassStatus\"]).count()[\"writing score\"]"
   ],
   "metadata": {
    "colab": {
     "base_uri": "https://localhost:8080/",
     "height": 510
    },
    "id": "OkU0CRVCbKbT",
    "outputId": "bb862041-61b0-40ae-f920-e07c06291c1d"
   },
   "execution_count": null,
   "outputs": []
  },
  {
   "cell_type": "markdown",
   "metadata": {
    "_uuid": "b753c90914ee65501e2ed263ea614d88a381c472",
    "id": "8HrPXNIx1ycl"
   },
   "source": [
    "#### Задание 15. Сколько студентов успешно сдали все экзамены?\n",
    "\n",
    "Создайте столбец OverAll_PassStatus и запишите в него для каждого студента 'F', если студент не сдал хотя бы один из трех экзаменов, а иначе 'P'.\n",
    "\n",
    "Посчитайте количество студентов, которые сдали все экзамены."
   ]
  },
  {
   "cell_type": "code",
   "execution_count": null,
   "metadata": {
    "_uuid": "e98f895a022b967cab801447b616222439fe9d84",
    "id": "AJaYjz1l1ycl",
    "colab": {
     "base_uri": "https://localhost:8080/",
     "height": 510
    },
    "outputId": "c5b4a170-748c-4d66-a388-833d24ef1d33"
   },
   "outputs": [],
   "source": [
    "# все экзамены\n",
    "df[\"OverAll_PassStatus\"] = df.apply(lambda x: \"P\" if x[\"Math_PassStatus\"] == \"P\" and  x[\"Reading_PassStatus\"] == \"P\" and  x[\"Writing_PassStatus\"] == \"P\"  else \"F\", axis=1)\n",
    "display(df) # 5 head 5 tail\n",
    "print(\"Количество студентов, сдавших и не сдавших все экзамены (F - не сдали все, P - сдали все):\")\n",
    "df.groupby(by=[\"OverAll_PassStatus\"]).count()[\"writing score\"]"
   ]
  },
  {
   "cell_type": "markdown",
   "metadata": {
    "_uuid": "3af9c6cb4cbfff66d4ae09509f10b8b6ce33075d",
    "id": "xvWL-M3D1ycl"
   },
   "source": [
    "#### Задание 16. Переведем баллы в оценки\n",
    "\n",
    "### Система перевода баллов в оценки\n",
    "####    больше 90 = A\n",
    "####      80-90 = B\n",
    "####      70-80 = C\n",
    "####      60-70 = D\n",
    "####      50-60 = E\n",
    "####    меньше 50 = F (Fail)\n",
    "\n",
    "Создайте вспомогательную функцию, которая будет по среднему баллу за три экзамена выставлять оценку студенту по данным выше критериям.\n",
    "\n",
    "Создайте столбец Grade и запишите в него оценку каждого студента.\n",
    "\n",
    "Выведите количество студентов, получивших каждую из оценок.\n",
    "\n",
    "**В случае, если средний балл попадает на границу между оценками (т.е. равен ровно 60, 70 или 80 баллов), вы можете интерпретировать условие на своё усмотрение (т.е. можете поставить за 60 баллов оценку D, а можете - E).**"
   ]
  },
  {
   "cell_type": "code",
   "execution_count": null,
   "metadata": {
    "_uuid": "04707c5be4237020b906d2ac705a0db3d620506f",
    "id": "AiPbQ8tI1ycl",
    "colab": {
     "base_uri": "https://localhost:8080/",
     "height": 597
    },
    "outputId": "3330d65c-625f-45c5-8026-41e466d387a0"
   },
   "outputs": [],
   "source": [
    "# граничные значения буду считать за большую оценку (то есть 90 это А)\n",
    "def GetGrade(average_mark: float) -> str:\n",
    "  if average_mark >= 90:\n",
    "    return \"A\"\n",
    "  elif average_mark >= 80:\n",
    "    return \"B\"\n",
    "  elif average_mark >= 70:\n",
    "    return \"C\"\n",
    "  elif average_mark >= 60:\n",
    "    return \"D\"\n",
    "  elif average_mark >= 50:\n",
    "    return \"E\"\n",
    "  else:\n",
    "    return \"F\"\n",
    "\n",
    "df[\"Grade\"] = df.apply(lambda x: GetGrade((x[\"math score\"] + x[\"reading score\"] + x[\"writing score\"]) / 3), axis=1)\n",
    "display(df) # 5 head 5 tail\n",
    "# количесво студентов с каждой оценки с помощью группировки\n",
    "df.groupby(by=\"Grade\").count()[\"math score\"]"
   ]
  },
  {
   "cell_type": "markdown",
   "source": [
    "Итоговый датафрейм имеет следующий вид"
   ],
   "metadata": {
    "id": "ruxsibPShtKQ"
   }
  },
  {
   "cell_type": "code",
   "source": [
    "df"
   ],
   "metadata": {
    "colab": {
     "base_uri": "https://localhost:8080/",
     "height": 458
    },
    "id": "1Ajxn-ZXhvTR",
    "outputId": "019feb07-8e42-458e-b75a-f17aadbacb3a"
   },
   "execution_count": null,
   "outputs": []
  }
 ],
 "metadata": {
  "kernelspec": {
   "display_name": "Python 3 (ipykernel)",
   "language": "python",
   "name": "python3"
  },
  "language_info": {
   "codemirror_mode": {
    "name": "ipython",
    "version": 3
   },
   "file_extension": ".py",
   "mimetype": "text/x-python",
   "name": "python",
   "nbconvert_exporter": "python",
   "pygments_lexer": "ipython3",
   "version": "3.7.9"
  },
  "colab": {
   "provenance": []
  }
 },
 "nbformat": 4,
 "nbformat_minor": 0
}
